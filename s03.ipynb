{
  "nbformat": 4,
  "nbformat_minor": 0,
  "metadata": {
    "colab": {
      "name": "s03.ipynb",
      "provenance": [],
      "collapsed_sections": [],
      "include_colab_link": true
    },
    "kernelspec": {
      "name": "python3",
      "display_name": "Python 3"
    }
  },
  "cells": [
    {
      "cell_type": "markdown",
      "metadata": {
        "id": "view-in-github",
        "colab_type": "text"
      },
      "source": [
        "<a href=\"https://colab.research.google.com/github/claudiaospina/DiplomadoML/blob/main/s03.ipynb\" target=\"_parent\"><img src=\"https://colab.research.google.com/assets/colab-badge.svg\" alt=\"Open In Colab\"/></a>"
      ]
    },
    {
      "cell_type": "markdown",
      "metadata": {
        "id": "nCfQDSzAPU2N"
      },
      "source": [
        "<p><img alt=\"Colaboratory logo\" height=\"140px\" src=\"https://upload.wikimedia.org/wikipedia/commons/archive/f/fb/20161010213812%21Escudo-UdeA.svg\" align=\"left\" hspace=\"10px\" vspace=\"0px\"></p>\n",
        "\n",
        "<h1> Diplomado de Análisis de datos y Machine Learning en Python</h1>\n",
        "\n",
        "\n",
        "El presente diplomado hace parte del centro de Big Data de la facultad de ciencias exactas y naturales (FCEN) de la Universidad de Antioquia."
      ]
    },
    {
      "cell_type": "markdown",
      "metadata": {
        "id": "X62hXhQfPh-M"
      },
      "source": [
        "<p><a name=\"contents\"></a></p>\n",
        "\n",
        "# Contenido Sesión 3\n",
        "\n",
        "- <a href=\"#taller\">1. Taller</a><br>\n",
        "- <a href=\"#manipulacionDatos\">2. Manipulación de datos</a><br>\n",
        " - <a href=\"#formateo\">2.1 Formateo de datos temporales</a><br>\n",
        " - <a href=\"#procesamientoNulos\">2.2 Procesamiento de datos nulos</a><br>\n",
        " - <a href=\"#indexacion\">2.3. Indexación y localización</a><br>\n",
        " - <a href=\"#organizacionDF\">2.4. Organización de dataframes</a><br>\n",
        " - <a href=\"#graficasPandas\">2.5. Graficando desde pandas</a><br>\n",
        " - <a href=\"#operacionesColFil\">2.6. Operaciones con columnas y filas</a><br>\n",
        "  - <a href=\"#agrupacion\"> 2.7. Agrupando dataframes</a><br>\n",
        "  - <a href=\"#renormalizacion\">2.8. Renormalización de datos</a><br>\n",
        "  - <a href=\"#bineado\"> 2.9. Bineado de datos</a><br>\n",
        "  - <a href=\"#concom\"> 2.10. Concatenación y combinación de dataframes</a><br>\n",
        "- <a href=\"#tallpan\">3. Taller Pandas</a><br>\n",
        "\n",
        "\n",
        "\n",
        "\n"
      ]
    },
    {
      "cell_type": "markdown",
      "metadata": {
        "id": "sC6Fw0H0Ph75"
      },
      "source": [
        "<p><a name=\"taller\"></a></p>\n",
        "\n",
        "# 1. Taller"
      ]
    },
    {
      "cell_type": "markdown",
      "metadata": {
        "id": "T6h3MM0NSf0-"
      },
      "source": [
        "## Pregunta 1\n",
        "\n",
        "Definir una función max_de_dos(), que tome dos números como argumentos y devuelva el mayor de ellos. Si los números son iguales que imprima en pantalla \"Los números son iguales\" y no regrese ningún valor.\n"
      ]
    },
    {
      "cell_type": "code",
      "metadata": {
        "id": "76qFkocpSpP1"
      },
      "source": [
        ""
      ],
      "execution_count": null,
      "outputs": []
    },
    {
      "cell_type": "code",
      "metadata": {
        "id": "aIbuEoqrcMSf"
      },
      "source": [
        ""
      ],
      "execution_count": null,
      "outputs": []
    },
    {
      "cell_type": "markdown",
      "metadata": {
        "id": "JqkdxxVgSstd"
      },
      "source": [
        "Para ver la solución haga double-click <b>aquí</b>.\n",
        "<!--\n",
        "\n",
        "def max_de_dos(a, b):\n",
        "  \n",
        "  \n",
        "  if a>b:\n",
        "    output=a\n",
        "  elif b>a:\n",
        "    output=b\n",
        "  else:\n",
        "    print('Los números son iguales')\n",
        "    output=None\n",
        "  return output\n",
        "  \n",
        "\n",
        "-->"
      ]
    },
    {
      "cell_type": "markdown",
      "metadata": {
        "id": "h9iOo3FkPh5P"
      },
      "source": [
        "## Pregunta 2\n",
        "\n",
        "Escriba un código de python que imprima todos los números pares de una lista dada y que deje de mostrar números cuando se encuentre el número 237\n",
        "\n",
        "Lista de números de muestra:\n",
        "\n",
        "numbers = [\n",
        "386, 462, 47, 418, 907, 344, 236, 375, 823, 566, 597, 978, 328, 615, 953, 345, 399, 162, 758, 219, 918, 237, 412, 566, 826, 248, 866, 950, 626, 949, 687, 217, 815, 67, 104, 58, 512, 24, 892, 894, 767, 553, 81, 379, 843, 831, 445, 742, 717, 958,743, 527 ]"
      ]
    },
    {
      "cell_type": "code",
      "metadata": {
        "id": "zkzfKIKRRf_X"
      },
      "source": [
        ""
      ],
      "execution_count": null,
      "outputs": []
    },
    {
      "cell_type": "markdown",
      "metadata": {
        "id": "d5yYWl5fPh22"
      },
      "source": [
        "Para ver la solución haga double-click <b>aquí</b>.\n",
        "<!--\n",
        "\n",
        "numbers = [\n",
        "386, 462, 47, 418, 907, 344, 236, 375, 823, 566, 597, 978, 328, 615, 953, 345, 399, 162, 758, 219, 918, 237, 412, 566, 826, 248, 866, 950, 626, 949, 687, 217, 815, 67, 104, 58, 512, 24, 892, 894, 767, 553, 81, 379, 843, 831, 445, 742, 717, 958,743, 527 ]\n",
        "\n",
        "listaFin=[]\n",
        "for i in numbers:\n",
        "  if (i%2==0):\n",
        "      listaFin.append(i)\n",
        "  if (i==237): \n",
        "      break\n",
        "print(listaFin)\n",
        "\n",
        "-->"
      ]
    },
    {
      "cell_type": "markdown",
      "metadata": {
        "id": "XBNbM5IwPh0I"
      },
      "source": [
        "## Pregunta 3\n",
        "\n",
        "  * Mostrar con un while los números del 1 al 20\n",
        "\n",
        "  * Mostrar con un for los números del 1 al 20"
      ]
    },
    {
      "cell_type": "code",
      "metadata": {
        "id": "191hdVGrZiZo"
      },
      "source": [
        "# Escriba aquí su código"
      ],
      "execution_count": null,
      "outputs": []
    },
    {
      "cell_type": "markdown",
      "metadata": {
        "id": "G_prdXRjZeg-"
      },
      "source": [
        "Para ver la solución haga double-click <b>aquí</b>.\n",
        "<!--\n",
        "\n",
        "a=1\n",
        "while a<=20: \n",
        "  print(a)\n",
        "  a+=1\n",
        "\n",
        "#####\n",
        "\n",
        "for a in range(1,21):\n",
        "  print(a)\n",
        "\n",
        "-->"
      ]
    },
    {
      "cell_type": "markdown",
      "metadata": {
        "id": "B0pkMOrNPhuu"
      },
      "source": [
        "## Pregunta 4\n",
        "\n",
        "Juguemos al juego de adivinar el numero, generaremos un número entre 1 y 20.\n",
        "\n",
        "Nuestro objetivo es adivinar el número. Si fallamos nos dirán si es mayor o menor que el número buscado. También poner el número de intentos requeridos."
      ]
    },
    {
      "cell_type": "code",
      "metadata": {
        "id": "3cbPgZUacTHW"
      },
      "source": [
        "# Escriba aquí su código\n"
      ],
      "execution_count": null,
      "outputs": []
    },
    {
      "cell_type": "code",
      "metadata": {
        "id": "iF-RogBsWL6A"
      },
      "source": [
        "\n",
        "\n",
        "\n"
      ],
      "execution_count": null,
      "outputs": []
    },
    {
      "cell_type": "markdown",
      "metadata": {
        "id": "MwxkJEBmPhsC"
      },
      "source": [
        "Para ver la solución haga double-click <b>aquí</b>.\n",
        "<!--\n",
        "\n",
        "def adivina_numero():\n",
        "  \n",
        "  import numpy as np  \n",
        "  numero_buscado = np.random.randint(1, 21)\n",
        " \n",
        "  encontrado = False\n",
        "  intentos = 0\n",
        "\n",
        "  while not encontrado:\n",
        "\n",
        "      numero_usuario = int(input(\"Introduce el número buscado: \"))\n",
        "\n",
        "      if numero_usuario > numero_buscado:\n",
        "          print(\"El número que buscas es menor\")\n",
        "          intentos = intentos +1\n",
        "      elif numero_usuario < numero_buscado:\n",
        "          print(\"El numero que buscas es mayor\")\n",
        "          intentos = intentos +1\n",
        "      else:\n",
        "          encontrado = True\n",
        "          print(\"Has acertado el número correcto es \" , numero_usuario, \" te ha llevado \", intentos,\" intentos\")\n",
        "\n",
        "-->"
      ]
    },
    {
      "cell_type": "markdown",
      "metadata": {
        "id": "_KGV5fSPgFlW"
      },
      "source": [
        "## Pregunta 5\n",
        "\n",
        "Defina una función llamada `es_cadena_no_vacia()` que evalúe si una cadena de caracteres es vacía o no y que retorne un variable booleana según sea el caso"
      ]
    },
    {
      "cell_type": "code",
      "metadata": {
        "id": "O3mAos9VkqQf"
      },
      "source": [
        "# Escriba aquí su código\n"
      ],
      "execution_count": null,
      "outputs": []
    },
    {
      "cell_type": "code",
      "metadata": {
        "id": "b-f_2ZSCUj2r"
      },
      "source": [
        ""
      ],
      "execution_count": null,
      "outputs": []
    },
    {
      "cell_type": "markdown",
      "metadata": {
        "id": "DesQud5cgp89"
      },
      "source": [
        "Para ver la solución haga double-click <b>aquí</b>.\n",
        "<!--\n",
        "\n",
        "\n",
        "        def es_cadena_no_vacia(cadena=None):\n",
        "          if cadena==None:\n",
        "            salida=False\n",
        "          else:\n",
        "            salida=True\n",
        "          return salida\n",
        "\n",
        "-->"
      ]
    },
    {
      "cell_type": "markdown",
      "metadata": {
        "id": "IDW3cSxwgvUt"
      },
      "source": [
        "## Pregunta 6\n",
        "\n",
        "Defina una función llamada `es_numero()` que evalúa si la entrada es un número y que retorne una variable booleana según sea el caso"
      ]
    },
    {
      "cell_type": "code",
      "metadata": {
        "id": "65TDiqKvkrdZ"
      },
      "source": [
        "# Escriba aquí su código\n"
      ],
      "execution_count": null,
      "outputs": []
    },
    {
      "cell_type": "code",
      "metadata": {
        "id": "GB1gWNbjnAiW"
      },
      "source": [
        ""
      ],
      "execution_count": null,
      "outputs": []
    },
    {
      "cell_type": "markdown",
      "metadata": {
        "id": "C-KDI__6hFD9"
      },
      "source": [
        "Para ver la solución haga double-click <b>aquí</b>.\n",
        "<!--\n",
        "\n",
        "def es_numero(num=None):\n",
        "  if type(num)==int or type(num)==float:\n",
        "    salida=True\n",
        "  else:\n",
        "    salida=False\n",
        "    \n",
        "  return salida\n",
        "\n",
        "-->"
      ]
    },
    {
      "cell_type": "markdown",
      "metadata": {
        "id": "YCWHaLZQi1Dr"
      },
      "source": [
        "## Pregunta 7\n",
        "\n",
        "Defina una clase llamada Hotel que contenga los atributos nombre, ubicación, puntaje obtenido por votación, y precio. Se tienen las siguientes restricciones:\n",
        "\n",
        "* El nombre y la ubicación deben ser cadenas no vacías. \n",
        "* El puntaje debe ser un número (sin restricciones sobre su valor) \n",
        "* El precio debe ser un número distinto de cero.\n",
        "\n",
        "si no se cumple alguna de las condiciones, ejecute un error que muestre en pantalla el problema.\n",
        "\n",
        "*Pista*: Use las funciónes `es_cadena_no_vacia()` y `es_numero()`\n",
        "\n",
        "\n"
      ]
    },
    {
      "cell_type": "code",
      "metadata": {
        "id": "kHT8B-fkktA7"
      },
      "source": [
        "# Escriba aquí su código"
      ],
      "execution_count": null,
      "outputs": []
    },
    {
      "cell_type": "markdown",
      "metadata": {
        "id": "ey_Ag-sHkvwt"
      },
      "source": [
        "Para ver la solución haga double-click <b>aquí</b>.\n",
        "<!--\n",
        "\n",
        "class Hotel(object):\n",
        "    \"\"\" Hotel: sus atributos son: nombre, ubicacion, puntaje y precio.\"\"\"\n",
        "\n",
        "    def __init__(self, nombre = '*', ubicacion = '*',\n",
        "                 puntaje = 0, precio = float(\"inf\")):\n",
        "        \"\"\" nombre y ubicacion deben ser cadenas no vacías,\n",
        "            puntaje y precio son números.\n",
        "            Si el precio es 0 se reemplaza por infinito. \"\"\"\n",
        "\n",
        "        def es_cadena_no_vacia(cadena=None):\n",
        "          if cadena==None:\n",
        "            salida=False\n",
        "          else:\n",
        "            salida=True\n",
        "          return salida\n",
        "        \n",
        "        def es_numero(num=None):\n",
        "          if type(num)==int or type(num)==float:\n",
        "            salida=True\n",
        "          else:\n",
        "            salida=False\n",
        "\n",
        "          return salida\n",
        "        \n",
        "        if es_cadena_no_vacia (nombre):\n",
        "            self.nombre = nombre\n",
        "        else:\n",
        "            raise TypeError (\"El nombre debe ser una cadena no vacía\")\n",
        "\n",
        "        if es_cadena_no_vacia (ubicacion):\n",
        "            self.ubicacion = ubicacion\n",
        "        else:\n",
        "            raise TypeError (\"La ubicación debe ser una cadena no vacía\")\n",
        "\n",
        "        if es_numero(puntaje):\n",
        "            self.puntaje = puntaje\n",
        "        else:\n",
        "            raise TypeError (\"El puntaje debe ser un número\")\n",
        "\n",
        "        if es_numero(precio):\n",
        "            if precio != 0:\n",
        "                self.precio = precio\n",
        "            else:\n",
        "                self.precio = float(\"inf\")\n",
        "        else:\n",
        "            raise TypeError(\"El precio debe ser un número\")\n",
        "\n",
        "    def __str__(self):\n",
        "        \"\"\" Muestra el hotel según lo requerido. \"\"\"\n",
        "        return self.nombre + \" de \"+ self.ubicacion+ \\\n",
        "                \" - Puntaje: \"+ str(self.puntaje) + \" - Precio: \"+ \\\n",
        "                str(self.precio)+ \" pesos.\"\n",
        "-->"
      ]
    },
    {
      "cell_type": "markdown",
      "metadata": {
        "id": "bcholMKi38Qz"
      },
      "source": [
        "<p><a name=\"manipulacionDatos\"></a></p>\n",
        "\n",
        "# 2. Manipulación de datos"
      ]
    },
    {
      "cell_type": "code",
      "metadata": {
        "id": "cjdALyDr5fQu"
      },
      "source": [
        "import pandas as pd\n",
        "import numpy as np\n",
        "\n",
        "df=pd.read_csv(\"https://raw.githubusercontent.com/diplomado-bigdata-machinelearning-udea/Curso1/master/s03/dataVentas2009.csv\") "
      ],
      "execution_count": null,
      "outputs": []
    },
    {
      "cell_type": "code",
      "metadata": {
        "colab": {
          "base_uri": "https://localhost:8080/"
        },
        "id": "uUV8ce9be4j3",
        "outputId": "10193892-d14d-48a7-8cc1-0c846d5aa4de"
      },
      "source": [
        "np.nan"
      ],
      "execution_count": null,
      "outputs": [
        {
          "output_type": "execute_result",
          "data": {
            "text/plain": [
              "nan"
            ]
          },
          "metadata": {},
          "execution_count": 3
        }
      ]
    },
    {
      "cell_type": "code",
      "metadata": {
        "id": "CFy5EutLf_7U",
        "colab": {
          "base_uri": "https://localhost:8080/",
          "height": 363
        },
        "outputId": "7c5fa498-067d-4561-f70d-b4cf03ce77ba"
      },
      "source": [
        "df.head(10)"
      ],
      "execution_count": null,
      "outputs": [
        {
          "output_type": "execute_result",
          "data": {
            "text/plain": [
              "        Fecha  Producto1  Producto2  Producto3  Producto4\n",
              "0  01/01/2009         29         20         35        NaN\n",
              "1  02/01/2009         19          3         22        NaN\n",
              "2  03/01/2009         24         12         22        NaN\n",
              "3  04/01/2009         24          8         15        NaN\n",
              "4  05/01/2009        120        111        141        NaN\n",
              "5  06/01/2009        261        146        236        NaN\n",
              "6  07/01/2009         60         33         80        NaN\n",
              "7  08/01/2009         24         14         14        NaN\n",
              "8  09/01/2009         35         20         32        NaN\n",
              "9  10/01/2009         81         45         79        NaN"
            ],
            "text/html": [
              "\n",
              "  <div id=\"df-a5f9be04-05d2-4b41-b1a7-1fa10c6a07a0\">\n",
              "    <div class=\"colab-df-container\">\n",
              "      <div>\n",
              "<style scoped>\n",
              "    .dataframe tbody tr th:only-of-type {\n",
              "        vertical-align: middle;\n",
              "    }\n",
              "\n",
              "    .dataframe tbody tr th {\n",
              "        vertical-align: top;\n",
              "    }\n",
              "\n",
              "    .dataframe thead th {\n",
              "        text-align: right;\n",
              "    }\n",
              "</style>\n",
              "<table border=\"1\" class=\"dataframe\">\n",
              "  <thead>\n",
              "    <tr style=\"text-align: right;\">\n",
              "      <th></th>\n",
              "      <th>Fecha</th>\n",
              "      <th>Producto1</th>\n",
              "      <th>Producto2</th>\n",
              "      <th>Producto3</th>\n",
              "      <th>Producto4</th>\n",
              "    </tr>\n",
              "  </thead>\n",
              "  <tbody>\n",
              "    <tr>\n",
              "      <th>0</th>\n",
              "      <td>01/01/2009</td>\n",
              "      <td>29</td>\n",
              "      <td>20</td>\n",
              "      <td>35</td>\n",
              "      <td>NaN</td>\n",
              "    </tr>\n",
              "    <tr>\n",
              "      <th>1</th>\n",
              "      <td>02/01/2009</td>\n",
              "      <td>19</td>\n",
              "      <td>3</td>\n",
              "      <td>22</td>\n",
              "      <td>NaN</td>\n",
              "    </tr>\n",
              "    <tr>\n",
              "      <th>2</th>\n",
              "      <td>03/01/2009</td>\n",
              "      <td>24</td>\n",
              "      <td>12</td>\n",
              "      <td>22</td>\n",
              "      <td>NaN</td>\n",
              "    </tr>\n",
              "    <tr>\n",
              "      <th>3</th>\n",
              "      <td>04/01/2009</td>\n",
              "      <td>24</td>\n",
              "      <td>8</td>\n",
              "      <td>15</td>\n",
              "      <td>NaN</td>\n",
              "    </tr>\n",
              "    <tr>\n",
              "      <th>4</th>\n",
              "      <td>05/01/2009</td>\n",
              "      <td>120</td>\n",
              "      <td>111</td>\n",
              "      <td>141</td>\n",
              "      <td>NaN</td>\n",
              "    </tr>\n",
              "    <tr>\n",
              "      <th>5</th>\n",
              "      <td>06/01/2009</td>\n",
              "      <td>261</td>\n",
              "      <td>146</td>\n",
              "      <td>236</td>\n",
              "      <td>NaN</td>\n",
              "    </tr>\n",
              "    <tr>\n",
              "      <th>6</th>\n",
              "      <td>07/01/2009</td>\n",
              "      <td>60</td>\n",
              "      <td>33</td>\n",
              "      <td>80</td>\n",
              "      <td>NaN</td>\n",
              "    </tr>\n",
              "    <tr>\n",
              "      <th>7</th>\n",
              "      <td>08/01/2009</td>\n",
              "      <td>24</td>\n",
              "      <td>14</td>\n",
              "      <td>14</td>\n",
              "      <td>NaN</td>\n",
              "    </tr>\n",
              "    <tr>\n",
              "      <th>8</th>\n",
              "      <td>09/01/2009</td>\n",
              "      <td>35</td>\n",
              "      <td>20</td>\n",
              "      <td>32</td>\n",
              "      <td>NaN</td>\n",
              "    </tr>\n",
              "    <tr>\n",
              "      <th>9</th>\n",
              "      <td>10/01/2009</td>\n",
              "      <td>81</td>\n",
              "      <td>45</td>\n",
              "      <td>79</td>\n",
              "      <td>NaN</td>\n",
              "    </tr>\n",
              "  </tbody>\n",
              "</table>\n",
              "</div>\n",
              "      <button class=\"colab-df-convert\" onclick=\"convertToInteractive('df-a5f9be04-05d2-4b41-b1a7-1fa10c6a07a0')\"\n",
              "              title=\"Convert this dataframe to an interactive table.\"\n",
              "              style=\"display:none;\">\n",
              "        \n",
              "  <svg xmlns=\"http://www.w3.org/2000/svg\" height=\"24px\"viewBox=\"0 0 24 24\"\n",
              "       width=\"24px\">\n",
              "    <path d=\"M0 0h24v24H0V0z\" fill=\"none\"/>\n",
              "    <path d=\"M18.56 5.44l.94 2.06.94-2.06 2.06-.94-2.06-.94-.94-2.06-.94 2.06-2.06.94zm-11 1L8.5 8.5l.94-2.06 2.06-.94-2.06-.94L8.5 2.5l-.94 2.06-2.06.94zm10 10l.94 2.06.94-2.06 2.06-.94-2.06-.94-.94-2.06-.94 2.06-2.06.94z\"/><path d=\"M17.41 7.96l-1.37-1.37c-.4-.4-.92-.59-1.43-.59-.52 0-1.04.2-1.43.59L10.3 9.45l-7.72 7.72c-.78.78-.78 2.05 0 2.83L4 21.41c.39.39.9.59 1.41.59.51 0 1.02-.2 1.41-.59l7.78-7.78 2.81-2.81c.8-.78.8-2.07 0-2.86zM5.41 20L4 18.59l7.72-7.72 1.47 1.35L5.41 20z\"/>\n",
              "  </svg>\n",
              "      </button>\n",
              "      \n",
              "  <style>\n",
              "    .colab-df-container {\n",
              "      display:flex;\n",
              "      flex-wrap:wrap;\n",
              "      gap: 12px;\n",
              "    }\n",
              "\n",
              "    .colab-df-convert {\n",
              "      background-color: #E8F0FE;\n",
              "      border: none;\n",
              "      border-radius: 50%;\n",
              "      cursor: pointer;\n",
              "      display: none;\n",
              "      fill: #1967D2;\n",
              "      height: 32px;\n",
              "      padding: 0 0 0 0;\n",
              "      width: 32px;\n",
              "    }\n",
              "\n",
              "    .colab-df-convert:hover {\n",
              "      background-color: #E2EBFA;\n",
              "      box-shadow: 0px 1px 2px rgba(60, 64, 67, 0.3), 0px 1px 3px 1px rgba(60, 64, 67, 0.15);\n",
              "      fill: #174EA6;\n",
              "    }\n",
              "\n",
              "    [theme=dark] .colab-df-convert {\n",
              "      background-color: #3B4455;\n",
              "      fill: #D2E3FC;\n",
              "    }\n",
              "\n",
              "    [theme=dark] .colab-df-convert:hover {\n",
              "      background-color: #434B5C;\n",
              "      box-shadow: 0px 1px 3px 1px rgba(0, 0, 0, 0.15);\n",
              "      filter: drop-shadow(0px 1px 2px rgba(0, 0, 0, 0.3));\n",
              "      fill: #FFFFFF;\n",
              "    }\n",
              "  </style>\n",
              "\n",
              "      <script>\n",
              "        const buttonEl =\n",
              "          document.querySelector('#df-a5f9be04-05d2-4b41-b1a7-1fa10c6a07a0 button.colab-df-convert');\n",
              "        buttonEl.style.display =\n",
              "          google.colab.kernel.accessAllowed ? 'block' : 'none';\n",
              "\n",
              "        async function convertToInteractive(key) {\n",
              "          const element = document.querySelector('#df-a5f9be04-05d2-4b41-b1a7-1fa10c6a07a0');\n",
              "          const dataTable =\n",
              "            await google.colab.kernel.invokeFunction('convertToInteractive',\n",
              "                                                     [key], {});\n",
              "          if (!dataTable) return;\n",
              "\n",
              "          const docLinkHtml = 'Like what you see? Visit the ' +\n",
              "            '<a target=\"_blank\" href=https://colab.research.google.com/notebooks/data_table.ipynb>data table notebook</a>'\n",
              "            + ' to learn more about interactive tables.';\n",
              "          element.innerHTML = '';\n",
              "          dataTable['output_type'] = 'display_data';\n",
              "          await google.colab.output.renderOutput(dataTable, element);\n",
              "          const docLink = document.createElement('div');\n",
              "          docLink.innerHTML = docLinkHtml;\n",
              "          element.appendChild(docLink);\n",
              "        }\n",
              "      </script>\n",
              "    </div>\n",
              "  </div>\n",
              "  "
            ]
          },
          "metadata": {},
          "execution_count": 2
        }
      ]
    },
    {
      "cell_type": "code",
      "metadata": {
        "id": "8RKPq77HkBJs",
        "colab": {
          "base_uri": "https://localhost:8080/"
        },
        "outputId": "214be3af-4b50-467b-a1de-974f2c8f58b0"
      },
      "source": [
        "df.columns"
      ],
      "execution_count": null,
      "outputs": [
        {
          "output_type": "execute_result",
          "data": {
            "text/plain": [
              "Index(['Fecha', 'Producto1', 'Producto2', 'Producto3', 'Producto4'], dtype='object')"
            ]
          },
          "metadata": {},
          "execution_count": 4
        }
      ]
    },
    {
      "cell_type": "code",
      "metadata": {
        "id": "-taPUR91kBVJ",
        "colab": {
          "base_uri": "https://localhost:8080/"
        },
        "outputId": "f952057a-63d4-464b-f2bb-0a789d53a5e5"
      },
      "source": [
        "df.shape"
      ],
      "execution_count": null,
      "outputs": [
        {
          "output_type": "execute_result",
          "data": {
            "text/plain": [
              "(365, 5)"
            ]
          },
          "metadata": {},
          "execution_count": 5
        }
      ]
    },
    {
      "cell_type": "code",
      "metadata": {
        "id": "M1J0ucuGkBXy",
        "colab": {
          "base_uri": "https://localhost:8080/"
        },
        "outputId": "a36a6069-1932-4e44-8c78-36e8a2e7a5ba"
      },
      "source": [
        "df.info()"
      ],
      "execution_count": null,
      "outputs": [
        {
          "output_type": "stream",
          "name": "stdout",
          "text": [
            "<class 'pandas.core.frame.DataFrame'>\n",
            "RangeIndex: 365 entries, 0 to 364\n",
            "Data columns (total 5 columns):\n",
            " #   Column     Non-Null Count  Dtype  \n",
            "---  ------     --------------  -----  \n",
            " 0   Fecha      365 non-null    object \n",
            " 1   Producto1  365 non-null    int64  \n",
            " 2   Producto2  365 non-null    int64  \n",
            " 3   Producto3  365 non-null    int64  \n",
            " 4   Producto4  178 non-null    float64\n",
            "dtypes: float64(1), int64(3), object(1)\n",
            "memory usage: 14.4+ KB\n"
          ]
        }
      ]
    },
    {
      "cell_type": "code",
      "metadata": {
        "id": "brvIm-PYySHc",
        "colab": {
          "base_uri": "https://localhost:8080/"
        },
        "outputId": "ae9cd8b5-fcac-445e-94ee-840f248bb5f7"
      },
      "source": [
        "l=df[\"Producto4\"].unique()\n",
        "l"
      ],
      "execution_count": null,
      "outputs": [
        {
          "output_type": "execute_result",
          "data": {
            "text/plain": [
              "array([  nan, 2156., 4548., 7575., 7268., 2320., 5081., 4236., 3755.,\n",
              "       6939., 4278., 5999., 3586., 4132., 7064., 6996., 4331., 6134.,\n",
              "       4639., 4635., 2144., 5041., 7219., 7208., 5237., 5869., 1753.,\n",
              "       7194., 5384., 7121., 5259., 5103., 5514., 3524., 4187., 4359.,\n",
              "       7127., 6971., 6178., 5078., 4416., 5683., 5647., 6901., 4902.,\n",
              "       3752., 4822., 4015., 5534., 7044., 6242., 6239., 5661., 1445.,\n",
              "       3064., 5941., 7052., 6864., 5837., 4185., 4036., 4375., 6763.,\n",
              "       6686., 6520., 6044., 5205., 3959., 4263., 4379., 4256., 3985.,\n",
              "       2169., 2550., 2605., 3599., 1923., 2044., 3183., 2709., 2547.,\n",
              "        656., 1415., 1342., 1799., 1588., 1906.,  705., 1116., 1773.,\n",
              "       2211.,  984., 1967.,  663., 1003.,  825.,  924.,  870., 1373.,\n",
              "       1311., 1238.,  919., 1006., 1483., 1374., 1442.,  633.,  952.,\n",
              "        286.,  833., 1191., 1114., 1075., 1230.,  958.,  309.,  859.,\n",
              "       1208.,  798., 1046.,  906.,  864.,  552., 1063., 1341., 1300.,\n",
              "       1175., 1108., 1005.,  321.,  404.,    0.])"
            ]
          },
          "metadata": {},
          "execution_count": 7
        }
      ]
    },
    {
      "cell_type": "code",
      "source": [
        "df[[\"Producto4\",\"Producto1\"]].unique()"
      ],
      "metadata": {
        "colab": {
          "base_uri": "https://localhost:8080/",
          "height": 287
        },
        "id": "Yapfo61PdIE4",
        "outputId": "e55ec8ac-69b9-45c5-c624-8e7460b65b41"
      },
      "execution_count": null,
      "outputs": [
        {
          "output_type": "error",
          "ename": "AttributeError",
          "evalue": "ignored",
          "traceback": [
            "\u001b[0;31m---------------------------------------------------------------------------\u001b[0m",
            "\u001b[0;31mAttributeError\u001b[0m                            Traceback (most recent call last)",
            "\u001b[0;32m<ipython-input-12-c78d963b0ec9>\u001b[0m in \u001b[0;36m<module>\u001b[0;34m()\u001b[0m\n\u001b[0;32m----> 1\u001b[0;31m \u001b[0mdf\u001b[0m\u001b[0;34m[\u001b[0m\u001b[0;34m[\u001b[0m\u001b[0;34m\"Producto4\"\u001b[0m\u001b[0;34m,\u001b[0m\u001b[0;34m\"Producto1\"\u001b[0m\u001b[0;34m]\u001b[0m\u001b[0;34m]\u001b[0m\u001b[0;34m.\u001b[0m\u001b[0munique\u001b[0m\u001b[0;34m(\u001b[0m\u001b[0;34m)\u001b[0m\u001b[0;34m\u001b[0m\u001b[0;34m\u001b[0m\u001b[0m\n\u001b[0m",
            "\u001b[0;32m/usr/local/lib/python3.7/dist-packages/pandas/core/generic.py\u001b[0m in \u001b[0;36m__getattr__\u001b[0;34m(self, name)\u001b[0m\n\u001b[1;32m   5485\u001b[0m         ):\n\u001b[1;32m   5486\u001b[0m             \u001b[0;32mreturn\u001b[0m \u001b[0mself\u001b[0m\u001b[0;34m[\u001b[0m\u001b[0mname\u001b[0m\u001b[0;34m]\u001b[0m\u001b[0;34m\u001b[0m\u001b[0;34m\u001b[0m\u001b[0m\n\u001b[0;32m-> 5487\u001b[0;31m         \u001b[0;32mreturn\u001b[0m \u001b[0mobject\u001b[0m\u001b[0;34m.\u001b[0m\u001b[0m__getattribute__\u001b[0m\u001b[0;34m(\u001b[0m\u001b[0mself\u001b[0m\u001b[0;34m,\u001b[0m \u001b[0mname\u001b[0m\u001b[0;34m)\u001b[0m\u001b[0;34m\u001b[0m\u001b[0;34m\u001b[0m\u001b[0m\n\u001b[0m\u001b[1;32m   5488\u001b[0m \u001b[0;34m\u001b[0m\u001b[0m\n\u001b[1;32m   5489\u001b[0m     \u001b[0;32mdef\u001b[0m \u001b[0m__setattr__\u001b[0m\u001b[0;34m(\u001b[0m\u001b[0mself\u001b[0m\u001b[0;34m,\u001b[0m \u001b[0mname\u001b[0m\u001b[0;34m:\u001b[0m \u001b[0mstr\u001b[0m\u001b[0;34m,\u001b[0m \u001b[0mvalue\u001b[0m\u001b[0;34m)\u001b[0m \u001b[0;34m->\u001b[0m \u001b[0;32mNone\u001b[0m\u001b[0;34m:\u001b[0m\u001b[0;34m\u001b[0m\u001b[0;34m\u001b[0m\u001b[0m\n",
            "\u001b[0;31mAttributeError\u001b[0m: 'DataFrame' object has no attribute 'unique'"
          ]
        }
      ]
    },
    {
      "cell_type": "code",
      "metadata": {
        "id": "-M_F_TrGKmqK",
        "colab": {
          "base_uri": "https://localhost:8080/"
        },
        "outputId": "8be1368f-b2d6-4c5e-d11d-c2ad60aa7faf"
      },
      "source": [
        "df['Fecha']"
      ],
      "execution_count": null,
      "outputs": [
        {
          "output_type": "execute_result",
          "data": {
            "text/plain": [
              "0      01/01/2009\n",
              "1      02/01/2009\n",
              "2      03/01/2009\n",
              "3      04/01/2009\n",
              "4      05/01/2009\n",
              "          ...    \n",
              "360    27/12/2009\n",
              "361    28/12/2009\n",
              "362    29/12/2009\n",
              "363    30/12/2009\n",
              "364    31/12/2009\n",
              "Name: Fecha, Length: 365, dtype: object"
            ]
          },
          "metadata": {},
          "execution_count": 13
        }
      ]
    },
    {
      "cell_type": "code",
      "metadata": {
        "colab": {
          "base_uri": "https://localhost:8080/"
        },
        "id": "AfsNmSQ8e_al",
        "outputId": "c193bd6a-d5d0-40ca-9ee3-68d74cc4d12d"
      },
      "source": [
        "df.Fecha"
      ],
      "execution_count": null,
      "outputs": [
        {
          "output_type": "execute_result",
          "data": {
            "text/plain": [
              "0      01/01/2009\n",
              "1      02/01/2009\n",
              "2      03/01/2009\n",
              "3      04/01/2009\n",
              "4      05/01/2009\n",
              "          ...    \n",
              "360    27/12/2009\n",
              "361    28/12/2009\n",
              "362    29/12/2009\n",
              "363    30/12/2009\n",
              "364    31/12/2009\n",
              "Name: Fecha, Length: 365, dtype: object"
            ]
          },
          "metadata": {},
          "execution_count": 14
        }
      ]
    },
    {
      "cell_type": "markdown",
      "metadata": {
        "id": "N0sYljD4K4UX"
      },
      "source": [
        "<p><a name=\"formateo\"></a></p>\n",
        "\n",
        "## 2.1. Formateo de datos temporales"
      ]
    },
    {
      "cell_type": "markdown",
      "metadata": {
        "id": "HtYNEVV9LC-z"
      },
      "source": [
        "La función `to_datetime` permite convertir los datos a un formato especial de tiempo"
      ]
    },
    {
      "cell_type": "code",
      "metadata": {
        "id": "5XzounFS_4zL",
        "colab": {
          "base_uri": "https://localhost:8080/"
        },
        "outputId": "65db0715-dae4-4937-a7b2-b77d8a910a5a"
      },
      "source": [
        "pd.to_datetime(df.Fecha)"
      ],
      "execution_count": null,
      "outputs": [
        {
          "output_type": "execute_result",
          "data": {
            "text/plain": [
              "0     2009-01-01\n",
              "1     2009-02-01\n",
              "2     2009-03-01\n",
              "3     2009-04-01\n",
              "4     2009-05-01\n",
              "         ...    \n",
              "360   2009-12-27\n",
              "361   2009-12-28\n",
              "362   2009-12-29\n",
              "363   2009-12-30\n",
              "364   2009-12-31\n",
              "Name: Fecha, Length: 365, dtype: datetime64[ns]"
            ]
          },
          "metadata": {},
          "execution_count": 15
        }
      ]
    },
    {
      "cell_type": "code",
      "source": [
        "df.info()"
      ],
      "metadata": {
        "colab": {
          "base_uri": "https://localhost:8080/"
        },
        "id": "qTiwKnlXegeS",
        "outputId": "86845660-c3b4-471a-e98c-6b9150070134"
      },
      "execution_count": null,
      "outputs": [
        {
          "output_type": "stream",
          "name": "stdout",
          "text": [
            "<class 'pandas.core.frame.DataFrame'>\n",
            "RangeIndex: 365 entries, 0 to 364\n",
            "Data columns (total 5 columns):\n",
            " #   Column     Non-Null Count  Dtype         \n",
            "---  ------     --------------  -----         \n",
            " 0   Fecha      365 non-null    datetime64[ns]\n",
            " 1   Producto1  365 non-null    int64         \n",
            " 2   Producto2  365 non-null    int64         \n",
            " 3   Producto3  365 non-null    int64         \n",
            " 4   Producto4  178 non-null    float64       \n",
            "dtypes: datetime64[ns](1), float64(1), int64(3)\n",
            "memory usage: 14.4 KB\n"
          ]
        }
      ]
    },
    {
      "cell_type": "code",
      "metadata": {
        "id": "RRD46rmYLvcm"
      },
      "source": [
        "df['Fecha'] = pd.to_datetime(df.Fecha, format='%d/%m/%Y')"
      ],
      "execution_count": null,
      "outputs": []
    },
    {
      "cell_type": "code",
      "metadata": {
        "colab": {
          "base_uri": "https://localhost:8080/"
        },
        "id": "ziiRiHT7ggtH",
        "outputId": "460e6be0-6fe0-4cbf-8822-214601a1e4ae"
      },
      "source": [
        "df.info()"
      ],
      "execution_count": null,
      "outputs": [
        {
          "output_type": "stream",
          "name": "stdout",
          "text": [
            "<class 'pandas.core.frame.DataFrame'>\n",
            "RangeIndex: 365 entries, 0 to 364\n",
            "Data columns (total 5 columns):\n",
            " #   Column     Non-Null Count  Dtype         \n",
            "---  ------     --------------  -----         \n",
            " 0   Fecha      365 non-null    datetime64[ns]\n",
            " 1   Producto1  365 non-null    int64         \n",
            " 2   Producto2  365 non-null    int64         \n",
            " 3   Producto3  365 non-null    int64         \n",
            " 4   Producto4  178 non-null    float64       \n",
            "dtypes: datetime64[ns](1), float64(1), int64(3)\n",
            "memory usage: 14.4 KB\n"
          ]
        }
      ]
    },
    {
      "cell_type": "code",
      "metadata": {
        "id": "l2i3pwVcAaeP"
      },
      "source": [
        "#df.Fecha=pd.to_datetime(df.Fecha)\n",
        "df.set_index('Fecha', inplace=True)\n",
        "df.head()"
      ],
      "execution_count": null,
      "outputs": []
    },
    {
      "cell_type": "code",
      "metadata": {
        "colab": {
          "base_uri": "https://localhost:8080/"
        },
        "id": "1U9UGvrXhg_x",
        "outputId": "315267ce-31fb-444f-9a3b-5a42844cd16f"
      },
      "source": [
        "df.info()"
      ],
      "execution_count": null,
      "outputs": [
        {
          "output_type": "stream",
          "name": "stdout",
          "text": [
            "<class 'pandas.core.frame.DataFrame'>\n",
            "DatetimeIndex: 365 entries, 2009-01-01 to 2009-12-31\n",
            "Data columns (total 4 columns):\n",
            " #   Column     Non-Null Count  Dtype  \n",
            "---  ------     --------------  -----  \n",
            " 0   Producto1  365 non-null    int64  \n",
            " 1   Producto2  365 non-null    int64  \n",
            " 2   Producto3  365 non-null    int64  \n",
            " 3   Producto4  178 non-null    float64\n",
            "dtypes: float64(1), int64(3)\n",
            "memory usage: 14.3 KB\n"
          ]
        }
      ]
    },
    {
      "cell_type": "markdown",
      "metadata": {
        "id": "L5pKpKPmN8-3"
      },
      "source": [
        "<p><a name=\"procesamientoNulos\"></a></p>\n",
        "\n",
        "## 2.2. Procesamiento de datos nulos"
      ]
    },
    {
      "cell_type": "code",
      "metadata": {
        "colab": {
          "base_uri": "https://localhost:8080/",
          "height": 655
        },
        "id": "tV4wbhqmh50D",
        "outputId": "b679022e-2f62-459c-fbbf-3b84bd9a112c"
      },
      "source": [
        "df"
      ],
      "execution_count": null,
      "outputs": [
        {
          "output_type": "execute_result",
          "data": {
            "text/plain": [
              "            Producto1  Producto2  Producto3  Producto4\n",
              "Fecha                                                 \n",
              "2009-01-01         29         20         35        NaN\n",
              "2009-01-02         19          3         22        NaN\n",
              "2009-01-03         24         12         22        NaN\n",
              "2009-01-04         24          8         15        NaN\n",
              "2009-01-05        120        111        141        NaN\n",
              "...               ...        ...        ...        ...\n",
              "2009-12-27         66         29         52        0.0\n",
              "2009-12-28         61         41         99        0.0\n",
              "2009-12-29         89         52        115        0.0\n",
              "2009-12-30         76         43        115        0.0\n",
              "2009-12-31         53         46        112        0.0\n",
              "\n",
              "[365 rows x 4 columns]"
            ],
            "text/html": [
              "\n",
              "  <div id=\"df-3da31af6-3eef-4121-a601-b3c30ff78960\">\n",
              "    <div class=\"colab-df-container\">\n",
              "      <div>\n",
              "<style scoped>\n",
              "    .dataframe tbody tr th:only-of-type {\n",
              "        vertical-align: middle;\n",
              "    }\n",
              "\n",
              "    .dataframe tbody tr th {\n",
              "        vertical-align: top;\n",
              "    }\n",
              "\n",
              "    .dataframe thead th {\n",
              "        text-align: right;\n",
              "    }\n",
              "</style>\n",
              "<table border=\"1\" class=\"dataframe\">\n",
              "  <thead>\n",
              "    <tr style=\"text-align: right;\">\n",
              "      <th></th>\n",
              "      <th>Producto1</th>\n",
              "      <th>Producto2</th>\n",
              "      <th>Producto3</th>\n",
              "      <th>Producto4</th>\n",
              "    </tr>\n",
              "    <tr>\n",
              "      <th>Fecha</th>\n",
              "      <th></th>\n",
              "      <th></th>\n",
              "      <th></th>\n",
              "      <th></th>\n",
              "    </tr>\n",
              "  </thead>\n",
              "  <tbody>\n",
              "    <tr>\n",
              "      <th>2009-01-01</th>\n",
              "      <td>29</td>\n",
              "      <td>20</td>\n",
              "      <td>35</td>\n",
              "      <td>NaN</td>\n",
              "    </tr>\n",
              "    <tr>\n",
              "      <th>2009-01-02</th>\n",
              "      <td>19</td>\n",
              "      <td>3</td>\n",
              "      <td>22</td>\n",
              "      <td>NaN</td>\n",
              "    </tr>\n",
              "    <tr>\n",
              "      <th>2009-01-03</th>\n",
              "      <td>24</td>\n",
              "      <td>12</td>\n",
              "      <td>22</td>\n",
              "      <td>NaN</td>\n",
              "    </tr>\n",
              "    <tr>\n",
              "      <th>2009-01-04</th>\n",
              "      <td>24</td>\n",
              "      <td>8</td>\n",
              "      <td>15</td>\n",
              "      <td>NaN</td>\n",
              "    </tr>\n",
              "    <tr>\n",
              "      <th>2009-01-05</th>\n",
              "      <td>120</td>\n",
              "      <td>111</td>\n",
              "      <td>141</td>\n",
              "      <td>NaN</td>\n",
              "    </tr>\n",
              "    <tr>\n",
              "      <th>...</th>\n",
              "      <td>...</td>\n",
              "      <td>...</td>\n",
              "      <td>...</td>\n",
              "      <td>...</td>\n",
              "    </tr>\n",
              "    <tr>\n",
              "      <th>2009-12-27</th>\n",
              "      <td>66</td>\n",
              "      <td>29</td>\n",
              "      <td>52</td>\n",
              "      <td>0.0</td>\n",
              "    </tr>\n",
              "    <tr>\n",
              "      <th>2009-12-28</th>\n",
              "      <td>61</td>\n",
              "      <td>41</td>\n",
              "      <td>99</td>\n",
              "      <td>0.0</td>\n",
              "    </tr>\n",
              "    <tr>\n",
              "      <th>2009-12-29</th>\n",
              "      <td>89</td>\n",
              "      <td>52</td>\n",
              "      <td>115</td>\n",
              "      <td>0.0</td>\n",
              "    </tr>\n",
              "    <tr>\n",
              "      <th>2009-12-30</th>\n",
              "      <td>76</td>\n",
              "      <td>43</td>\n",
              "      <td>115</td>\n",
              "      <td>0.0</td>\n",
              "    </tr>\n",
              "    <tr>\n",
              "      <th>2009-12-31</th>\n",
              "      <td>53</td>\n",
              "      <td>46</td>\n",
              "      <td>112</td>\n",
              "      <td>0.0</td>\n",
              "    </tr>\n",
              "  </tbody>\n",
              "</table>\n",
              "<p>365 rows × 4 columns</p>\n",
              "</div>\n",
              "      <button class=\"colab-df-convert\" onclick=\"convertToInteractive('df-3da31af6-3eef-4121-a601-b3c30ff78960')\"\n",
              "              title=\"Convert this dataframe to an interactive table.\"\n",
              "              style=\"display:none;\">\n",
              "        \n",
              "  <svg xmlns=\"http://www.w3.org/2000/svg\" height=\"24px\"viewBox=\"0 0 24 24\"\n",
              "       width=\"24px\">\n",
              "    <path d=\"M0 0h24v24H0V0z\" fill=\"none\"/>\n",
              "    <path d=\"M18.56 5.44l.94 2.06.94-2.06 2.06-.94-2.06-.94-.94-2.06-.94 2.06-2.06.94zm-11 1L8.5 8.5l.94-2.06 2.06-.94-2.06-.94L8.5 2.5l-.94 2.06-2.06.94zm10 10l.94 2.06.94-2.06 2.06-.94-2.06-.94-.94-2.06-.94 2.06-2.06.94z\"/><path d=\"M17.41 7.96l-1.37-1.37c-.4-.4-.92-.59-1.43-.59-.52 0-1.04.2-1.43.59L10.3 9.45l-7.72 7.72c-.78.78-.78 2.05 0 2.83L4 21.41c.39.39.9.59 1.41.59.51 0 1.02-.2 1.41-.59l7.78-7.78 2.81-2.81c.8-.78.8-2.07 0-2.86zM5.41 20L4 18.59l7.72-7.72 1.47 1.35L5.41 20z\"/>\n",
              "  </svg>\n",
              "      </button>\n",
              "      \n",
              "  <style>\n",
              "    .colab-df-container {\n",
              "      display:flex;\n",
              "      flex-wrap:wrap;\n",
              "      gap: 12px;\n",
              "    }\n",
              "\n",
              "    .colab-df-convert {\n",
              "      background-color: #E8F0FE;\n",
              "      border: none;\n",
              "      border-radius: 50%;\n",
              "      cursor: pointer;\n",
              "      display: none;\n",
              "      fill: #1967D2;\n",
              "      height: 32px;\n",
              "      padding: 0 0 0 0;\n",
              "      width: 32px;\n",
              "    }\n",
              "\n",
              "    .colab-df-convert:hover {\n",
              "      background-color: #E2EBFA;\n",
              "      box-shadow: 0px 1px 2px rgba(60, 64, 67, 0.3), 0px 1px 3px 1px rgba(60, 64, 67, 0.15);\n",
              "      fill: #174EA6;\n",
              "    }\n",
              "\n",
              "    [theme=dark] .colab-df-convert {\n",
              "      background-color: #3B4455;\n",
              "      fill: #D2E3FC;\n",
              "    }\n",
              "\n",
              "    [theme=dark] .colab-df-convert:hover {\n",
              "      background-color: #434B5C;\n",
              "      box-shadow: 0px 1px 3px 1px rgba(0, 0, 0, 0.15);\n",
              "      filter: drop-shadow(0px 1px 2px rgba(0, 0, 0, 0.3));\n",
              "      fill: #FFFFFF;\n",
              "    }\n",
              "  </style>\n",
              "\n",
              "      <script>\n",
              "        const buttonEl =\n",
              "          document.querySelector('#df-3da31af6-3eef-4121-a601-b3c30ff78960 button.colab-df-convert');\n",
              "        buttonEl.style.display =\n",
              "          google.colab.kernel.accessAllowed ? 'block' : 'none';\n",
              "\n",
              "        async function convertToInteractive(key) {\n",
              "          const element = document.querySelector('#df-3da31af6-3eef-4121-a601-b3c30ff78960');\n",
              "          const dataTable =\n",
              "            await google.colab.kernel.invokeFunction('convertToInteractive',\n",
              "                                                     [key], {});\n",
              "          if (!dataTable) return;\n",
              "\n",
              "          const docLinkHtml = 'Like what you see? Visit the ' +\n",
              "            '<a target=\"_blank\" href=https://colab.research.google.com/notebooks/data_table.ipynb>data table notebook</a>'\n",
              "            + ' to learn more about interactive tables.';\n",
              "          element.innerHTML = '';\n",
              "          dataTable['output_type'] = 'display_data';\n",
              "          await google.colab.output.renderOutput(dataTable, element);\n",
              "          const docLink = document.createElement('div');\n",
              "          docLink.innerHTML = docLinkHtml;\n",
              "          element.appendChild(docLink);\n",
              "        }\n",
              "      </script>\n",
              "    </div>\n",
              "  </div>\n",
              "  "
            ]
          },
          "metadata": {},
          "execution_count": 23
        }
      ]
    },
    {
      "cell_type": "code",
      "metadata": {
        "id": "fQRvzVfuBKRS",
        "colab": {
          "base_uri": "https://localhost:8080/"
        },
        "outputId": "3f274a97-7145-434c-9526-1b916c7f10c2"
      },
      "source": [
        "df.isna().sum()"
      ],
      "execution_count": null,
      "outputs": [
        {
          "output_type": "execute_result",
          "data": {
            "text/plain": [
              "Producto1      0\n",
              "Producto2      0\n",
              "Producto3      0\n",
              "Producto4    187\n",
              "dtype: int64"
            ]
          },
          "metadata": {},
          "execution_count": 27
        }
      ]
    },
    {
      "cell_type": "code",
      "metadata": {
        "colab": {
          "base_uri": "https://localhost:8080/"
        },
        "id": "vBVmit4FhkZo",
        "outputId": "217b48ae-35d6-4bf5-b024-8122e0767b70"
      },
      "source": [
        "df.info()"
      ],
      "execution_count": null,
      "outputs": [
        {
          "output_type": "stream",
          "name": "stdout",
          "text": [
            "<class 'pandas.core.frame.DataFrame'>\n",
            "DatetimeIndex: 365 entries, 2009-01-01 to 2009-12-31\n",
            "Data columns (total 4 columns):\n",
            " #   Column     Non-Null Count  Dtype  \n",
            "---  ------     --------------  -----  \n",
            " 0   Producto1  365 non-null    int64  \n",
            " 1   Producto2  365 non-null    int64  \n",
            " 2   Producto3  365 non-null    int64  \n",
            " 3   Producto4  178 non-null    float64\n",
            "dtypes: float64(1), int64(3)\n",
            "memory usage: 14.3 KB\n"
          ]
        }
      ]
    },
    {
      "cell_type": "code",
      "metadata": {
        "id": "j3t4nAapM6Y3",
        "colab": {
          "base_uri": "https://localhost:8080/"
        },
        "outputId": "d32ba529-bfd2-461f-ea10-d30bbe05dd7b"
      },
      "source": [
        "df.isnull().sum()"
      ],
      "execution_count": null,
      "outputs": [
        {
          "output_type": "execute_result",
          "data": {
            "text/plain": [
              "Producto1      0\n",
              "Producto2      0\n",
              "Producto3      0\n",
              "Producto4    187\n",
              "dtype: int64"
            ]
          },
          "metadata": {},
          "execution_count": 26
        }
      ]
    },
    {
      "cell_type": "markdown",
      "metadata": {
        "id": "9q_xfpstLYS6"
      },
      "source": [
        " Es lo mismo que df.isnull, ver: https://datascience.stackexchange.com/questions/37878/difference-between-isna-and-isnull-in-pandas"
      ]
    },
    {
      "cell_type": "markdown",
      "metadata": {
        "id": "mvt0PKf1CpsC"
      },
      "source": [
        "Usar el comando `fillna()` para reemplazar los valores nulos con el valor deseado. Puede hacerse en una sola columna `df.columna.fillna()` o en todas al mismo tiempo `df.fillna()` "
      ]
    },
    {
      "cell_type": "code",
      "metadata": {
        "id": "pu5d3XsZoJuJ",
        "colab": {
          "base_uri": "https://localhost:8080/"
        },
        "outputId": "0e1079af-1461-4343-a191-09cae56279b7"
      },
      "source": [
        "# Solo visual\n",
        "df.Producto4.fillna(0)"
      ],
      "execution_count": null,
      "outputs": [
        {
          "output_type": "execute_result",
          "data": {
            "text/plain": [
              "Fecha\n",
              "2009-01-01    0.0\n",
              "2009-01-02    0.0\n",
              "2009-01-03    0.0\n",
              "2009-01-04    0.0\n",
              "2009-01-05    0.0\n",
              "             ... \n",
              "2009-12-27    0.0\n",
              "2009-12-28    0.0\n",
              "2009-12-29    0.0\n",
              "2009-12-30    0.0\n",
              "2009-12-31    0.0\n",
              "Name: Producto4, Length: 365, dtype: float64"
            ]
          },
          "metadata": {},
          "execution_count": 28
        }
      ]
    },
    {
      "cell_type": "code",
      "metadata": {
        "id": "x4atDg1leXrN",
        "colab": {
          "base_uri": "https://localhost:8080/",
          "height": 455
        },
        "outputId": "e8d9c52b-f3a5-4153-a83c-e988e46d00ed"
      },
      "source": [
        "df"
      ],
      "execution_count": null,
      "outputs": [
        {
          "output_type": "execute_result",
          "data": {
            "text/plain": [
              "            Producto1  Producto2  Producto3  Producto4\n",
              "Fecha                                                 \n",
              "2009-01-01         29         20         35        NaN\n",
              "2009-01-02         19          3         22        NaN\n",
              "2009-01-03         24         12         22        NaN\n",
              "2009-01-04         24          8         15        NaN\n",
              "2009-01-05        120        111        141        NaN\n",
              "...               ...        ...        ...        ...\n",
              "2009-12-27         66         29         52        0.0\n",
              "2009-12-28         61         41         99        0.0\n",
              "2009-12-29         89         52        115        0.0\n",
              "2009-12-30         76         43        115        0.0\n",
              "2009-12-31         53         46        112        0.0\n",
              "\n",
              "[365 rows x 4 columns]"
            ],
            "text/html": [
              "\n",
              "  <div id=\"df-a7728fc3-f968-41cc-9cf7-ef0d657f14b2\">\n",
              "    <div class=\"colab-df-container\">\n",
              "      <div>\n",
              "<style scoped>\n",
              "    .dataframe tbody tr th:only-of-type {\n",
              "        vertical-align: middle;\n",
              "    }\n",
              "\n",
              "    .dataframe tbody tr th {\n",
              "        vertical-align: top;\n",
              "    }\n",
              "\n",
              "    .dataframe thead th {\n",
              "        text-align: right;\n",
              "    }\n",
              "</style>\n",
              "<table border=\"1\" class=\"dataframe\">\n",
              "  <thead>\n",
              "    <tr style=\"text-align: right;\">\n",
              "      <th></th>\n",
              "      <th>Producto1</th>\n",
              "      <th>Producto2</th>\n",
              "      <th>Producto3</th>\n",
              "      <th>Producto4</th>\n",
              "    </tr>\n",
              "    <tr>\n",
              "      <th>Fecha</th>\n",
              "      <th></th>\n",
              "      <th></th>\n",
              "      <th></th>\n",
              "      <th></th>\n",
              "    </tr>\n",
              "  </thead>\n",
              "  <tbody>\n",
              "    <tr>\n",
              "      <th>2009-01-01</th>\n",
              "      <td>29</td>\n",
              "      <td>20</td>\n",
              "      <td>35</td>\n",
              "      <td>NaN</td>\n",
              "    </tr>\n",
              "    <tr>\n",
              "      <th>2009-01-02</th>\n",
              "      <td>19</td>\n",
              "      <td>3</td>\n",
              "      <td>22</td>\n",
              "      <td>NaN</td>\n",
              "    </tr>\n",
              "    <tr>\n",
              "      <th>2009-01-03</th>\n",
              "      <td>24</td>\n",
              "      <td>12</td>\n",
              "      <td>22</td>\n",
              "      <td>NaN</td>\n",
              "    </tr>\n",
              "    <tr>\n",
              "      <th>2009-01-04</th>\n",
              "      <td>24</td>\n",
              "      <td>8</td>\n",
              "      <td>15</td>\n",
              "      <td>NaN</td>\n",
              "    </tr>\n",
              "    <tr>\n",
              "      <th>2009-01-05</th>\n",
              "      <td>120</td>\n",
              "      <td>111</td>\n",
              "      <td>141</td>\n",
              "      <td>NaN</td>\n",
              "    </tr>\n",
              "    <tr>\n",
              "      <th>...</th>\n",
              "      <td>...</td>\n",
              "      <td>...</td>\n",
              "      <td>...</td>\n",
              "      <td>...</td>\n",
              "    </tr>\n",
              "    <tr>\n",
              "      <th>2009-12-27</th>\n",
              "      <td>66</td>\n",
              "      <td>29</td>\n",
              "      <td>52</td>\n",
              "      <td>0.0</td>\n",
              "    </tr>\n",
              "    <tr>\n",
              "      <th>2009-12-28</th>\n",
              "      <td>61</td>\n",
              "      <td>41</td>\n",
              "      <td>99</td>\n",
              "      <td>0.0</td>\n",
              "    </tr>\n",
              "    <tr>\n",
              "      <th>2009-12-29</th>\n",
              "      <td>89</td>\n",
              "      <td>52</td>\n",
              "      <td>115</td>\n",
              "      <td>0.0</td>\n",
              "    </tr>\n",
              "    <tr>\n",
              "      <th>2009-12-30</th>\n",
              "      <td>76</td>\n",
              "      <td>43</td>\n",
              "      <td>115</td>\n",
              "      <td>0.0</td>\n",
              "    </tr>\n",
              "    <tr>\n",
              "      <th>2009-12-31</th>\n",
              "      <td>53</td>\n",
              "      <td>46</td>\n",
              "      <td>112</td>\n",
              "      <td>0.0</td>\n",
              "    </tr>\n",
              "  </tbody>\n",
              "</table>\n",
              "<p>365 rows × 4 columns</p>\n",
              "</div>\n",
              "      <button class=\"colab-df-convert\" onclick=\"convertToInteractive('df-a7728fc3-f968-41cc-9cf7-ef0d657f14b2')\"\n",
              "              title=\"Convert this dataframe to an interactive table.\"\n",
              "              style=\"display:none;\">\n",
              "        \n",
              "  <svg xmlns=\"http://www.w3.org/2000/svg\" height=\"24px\"viewBox=\"0 0 24 24\"\n",
              "       width=\"24px\">\n",
              "    <path d=\"M0 0h24v24H0V0z\" fill=\"none\"/>\n",
              "    <path d=\"M18.56 5.44l.94 2.06.94-2.06 2.06-.94-2.06-.94-.94-2.06-.94 2.06-2.06.94zm-11 1L8.5 8.5l.94-2.06 2.06-.94-2.06-.94L8.5 2.5l-.94 2.06-2.06.94zm10 10l.94 2.06.94-2.06 2.06-.94-2.06-.94-.94-2.06-.94 2.06-2.06.94z\"/><path d=\"M17.41 7.96l-1.37-1.37c-.4-.4-.92-.59-1.43-.59-.52 0-1.04.2-1.43.59L10.3 9.45l-7.72 7.72c-.78.78-.78 2.05 0 2.83L4 21.41c.39.39.9.59 1.41.59.51 0 1.02-.2 1.41-.59l7.78-7.78 2.81-2.81c.8-.78.8-2.07 0-2.86zM5.41 20L4 18.59l7.72-7.72 1.47 1.35L5.41 20z\"/>\n",
              "  </svg>\n",
              "      </button>\n",
              "      \n",
              "  <style>\n",
              "    .colab-df-container {\n",
              "      display:flex;\n",
              "      flex-wrap:wrap;\n",
              "      gap: 12px;\n",
              "    }\n",
              "\n",
              "    .colab-df-convert {\n",
              "      background-color: #E8F0FE;\n",
              "      border: none;\n",
              "      border-radius: 50%;\n",
              "      cursor: pointer;\n",
              "      display: none;\n",
              "      fill: #1967D2;\n",
              "      height: 32px;\n",
              "      padding: 0 0 0 0;\n",
              "      width: 32px;\n",
              "    }\n",
              "\n",
              "    .colab-df-convert:hover {\n",
              "      background-color: #E2EBFA;\n",
              "      box-shadow: 0px 1px 2px rgba(60, 64, 67, 0.3), 0px 1px 3px 1px rgba(60, 64, 67, 0.15);\n",
              "      fill: #174EA6;\n",
              "    }\n",
              "\n",
              "    [theme=dark] .colab-df-convert {\n",
              "      background-color: #3B4455;\n",
              "      fill: #D2E3FC;\n",
              "    }\n",
              "\n",
              "    [theme=dark] .colab-df-convert:hover {\n",
              "      background-color: #434B5C;\n",
              "      box-shadow: 0px 1px 3px 1px rgba(0, 0, 0, 0.15);\n",
              "      filter: drop-shadow(0px 1px 2px rgba(0, 0, 0, 0.3));\n",
              "      fill: #FFFFFF;\n",
              "    }\n",
              "  </style>\n",
              "\n",
              "      <script>\n",
              "        const buttonEl =\n",
              "          document.querySelector('#df-a7728fc3-f968-41cc-9cf7-ef0d657f14b2 button.colab-df-convert');\n",
              "        buttonEl.style.display =\n",
              "          google.colab.kernel.accessAllowed ? 'block' : 'none';\n",
              "\n",
              "        async function convertToInteractive(key) {\n",
              "          const element = document.querySelector('#df-a7728fc3-f968-41cc-9cf7-ef0d657f14b2');\n",
              "          const dataTable =\n",
              "            await google.colab.kernel.invokeFunction('convertToInteractive',\n",
              "                                                     [key], {});\n",
              "          if (!dataTable) return;\n",
              "\n",
              "          const docLinkHtml = 'Like what you see? Visit the ' +\n",
              "            '<a target=\"_blank\" href=https://colab.research.google.com/notebooks/data_table.ipynb>data table notebook</a>'\n",
              "            + ' to learn more about interactive tables.';\n",
              "          element.innerHTML = '';\n",
              "          dataTable['output_type'] = 'display_data';\n",
              "          await google.colab.output.renderOutput(dataTable, element);\n",
              "          const docLink = document.createElement('div');\n",
              "          docLink.innerHTML = docLinkHtml;\n",
              "          element.appendChild(docLink);\n",
              "        }\n",
              "      </script>\n",
              "    </div>\n",
              "  </div>\n",
              "  "
            ]
          },
          "metadata": {},
          "execution_count": 29
        }
      ]
    },
    {
      "cell_type": "code",
      "metadata": {
        "id": "Qfmdp2nENKp_",
        "colab": {
          "base_uri": "https://localhost:8080/",
          "height": 300
        },
        "outputId": "2b0ea324-0fd6-4ac3-be59-ac39c757fbba"
      },
      "source": [
        "df.describe()"
      ],
      "execution_count": null,
      "outputs": [
        {
          "output_type": "execute_result",
          "data": {
            "text/plain": [
              "         Producto1    Producto2    Producto3    Producto4\n",
              "count   365.000000   365.000000   365.000000   178.000000\n",
              "mean   2032.200000  1060.252055  2093.169863  2576.359551\n",
              "std    1878.879799  1079.533086  1854.368523  2484.004743\n",
              "min       0.000000     0.000000     0.000000     0.000000\n",
              "25%     194.000000    90.000000   228.000000     0.000000\n",
              "50%    1726.000000   678.000000  1686.000000  1443.500000\n",
              "75%    3540.000000  1882.000000  3520.000000  4638.000000\n",
              "max    6626.000000  4242.000000  6587.000000  7575.000000"
            ],
            "text/html": [
              "\n",
              "  <div id=\"df-da6def1c-5d7b-49e5-b117-b333bf1d1cc9\">\n",
              "    <div class=\"colab-df-container\">\n",
              "      <div>\n",
              "<style scoped>\n",
              "    .dataframe tbody tr th:only-of-type {\n",
              "        vertical-align: middle;\n",
              "    }\n",
              "\n",
              "    .dataframe tbody tr th {\n",
              "        vertical-align: top;\n",
              "    }\n",
              "\n",
              "    .dataframe thead th {\n",
              "        text-align: right;\n",
              "    }\n",
              "</style>\n",
              "<table border=\"1\" class=\"dataframe\">\n",
              "  <thead>\n",
              "    <tr style=\"text-align: right;\">\n",
              "      <th></th>\n",
              "      <th>Producto1</th>\n",
              "      <th>Producto2</th>\n",
              "      <th>Producto3</th>\n",
              "      <th>Producto4</th>\n",
              "    </tr>\n",
              "  </thead>\n",
              "  <tbody>\n",
              "    <tr>\n",
              "      <th>count</th>\n",
              "      <td>365.000000</td>\n",
              "      <td>365.000000</td>\n",
              "      <td>365.000000</td>\n",
              "      <td>178.000000</td>\n",
              "    </tr>\n",
              "    <tr>\n",
              "      <th>mean</th>\n",
              "      <td>2032.200000</td>\n",
              "      <td>1060.252055</td>\n",
              "      <td>2093.169863</td>\n",
              "      <td>2576.359551</td>\n",
              "    </tr>\n",
              "    <tr>\n",
              "      <th>std</th>\n",
              "      <td>1878.879799</td>\n",
              "      <td>1079.533086</td>\n",
              "      <td>1854.368523</td>\n",
              "      <td>2484.004743</td>\n",
              "    </tr>\n",
              "    <tr>\n",
              "      <th>min</th>\n",
              "      <td>0.000000</td>\n",
              "      <td>0.000000</td>\n",
              "      <td>0.000000</td>\n",
              "      <td>0.000000</td>\n",
              "    </tr>\n",
              "    <tr>\n",
              "      <th>25%</th>\n",
              "      <td>194.000000</td>\n",
              "      <td>90.000000</td>\n",
              "      <td>228.000000</td>\n",
              "      <td>0.000000</td>\n",
              "    </tr>\n",
              "    <tr>\n",
              "      <th>50%</th>\n",
              "      <td>1726.000000</td>\n",
              "      <td>678.000000</td>\n",
              "      <td>1686.000000</td>\n",
              "      <td>1443.500000</td>\n",
              "    </tr>\n",
              "    <tr>\n",
              "      <th>75%</th>\n",
              "      <td>3540.000000</td>\n",
              "      <td>1882.000000</td>\n",
              "      <td>3520.000000</td>\n",
              "      <td>4638.000000</td>\n",
              "    </tr>\n",
              "    <tr>\n",
              "      <th>max</th>\n",
              "      <td>6626.000000</td>\n",
              "      <td>4242.000000</td>\n",
              "      <td>6587.000000</td>\n",
              "      <td>7575.000000</td>\n",
              "    </tr>\n",
              "  </tbody>\n",
              "</table>\n",
              "</div>\n",
              "      <button class=\"colab-df-convert\" onclick=\"convertToInteractive('df-da6def1c-5d7b-49e5-b117-b333bf1d1cc9')\"\n",
              "              title=\"Convert this dataframe to an interactive table.\"\n",
              "              style=\"display:none;\">\n",
              "        \n",
              "  <svg xmlns=\"http://www.w3.org/2000/svg\" height=\"24px\"viewBox=\"0 0 24 24\"\n",
              "       width=\"24px\">\n",
              "    <path d=\"M0 0h24v24H0V0z\" fill=\"none\"/>\n",
              "    <path d=\"M18.56 5.44l.94 2.06.94-2.06 2.06-.94-2.06-.94-.94-2.06-.94 2.06-2.06.94zm-11 1L8.5 8.5l.94-2.06 2.06-.94-2.06-.94L8.5 2.5l-.94 2.06-2.06.94zm10 10l.94 2.06.94-2.06 2.06-.94-2.06-.94-.94-2.06-.94 2.06-2.06.94z\"/><path d=\"M17.41 7.96l-1.37-1.37c-.4-.4-.92-.59-1.43-.59-.52 0-1.04.2-1.43.59L10.3 9.45l-7.72 7.72c-.78.78-.78 2.05 0 2.83L4 21.41c.39.39.9.59 1.41.59.51 0 1.02-.2 1.41-.59l7.78-7.78 2.81-2.81c.8-.78.8-2.07 0-2.86zM5.41 20L4 18.59l7.72-7.72 1.47 1.35L5.41 20z\"/>\n",
              "  </svg>\n",
              "      </button>\n",
              "      \n",
              "  <style>\n",
              "    .colab-df-container {\n",
              "      display:flex;\n",
              "      flex-wrap:wrap;\n",
              "      gap: 12px;\n",
              "    }\n",
              "\n",
              "    .colab-df-convert {\n",
              "      background-color: #E8F0FE;\n",
              "      border: none;\n",
              "      border-radius: 50%;\n",
              "      cursor: pointer;\n",
              "      display: none;\n",
              "      fill: #1967D2;\n",
              "      height: 32px;\n",
              "      padding: 0 0 0 0;\n",
              "      width: 32px;\n",
              "    }\n",
              "\n",
              "    .colab-df-convert:hover {\n",
              "      background-color: #E2EBFA;\n",
              "      box-shadow: 0px 1px 2px rgba(60, 64, 67, 0.3), 0px 1px 3px 1px rgba(60, 64, 67, 0.15);\n",
              "      fill: #174EA6;\n",
              "    }\n",
              "\n",
              "    [theme=dark] .colab-df-convert {\n",
              "      background-color: #3B4455;\n",
              "      fill: #D2E3FC;\n",
              "    }\n",
              "\n",
              "    [theme=dark] .colab-df-convert:hover {\n",
              "      background-color: #434B5C;\n",
              "      box-shadow: 0px 1px 3px 1px rgba(0, 0, 0, 0.15);\n",
              "      filter: drop-shadow(0px 1px 2px rgba(0, 0, 0, 0.3));\n",
              "      fill: #FFFFFF;\n",
              "    }\n",
              "  </style>\n",
              "\n",
              "      <script>\n",
              "        const buttonEl =\n",
              "          document.querySelector('#df-da6def1c-5d7b-49e5-b117-b333bf1d1cc9 button.colab-df-convert');\n",
              "        buttonEl.style.display =\n",
              "          google.colab.kernel.accessAllowed ? 'block' : 'none';\n",
              "\n",
              "        async function convertToInteractive(key) {\n",
              "          const element = document.querySelector('#df-da6def1c-5d7b-49e5-b117-b333bf1d1cc9');\n",
              "          const dataTable =\n",
              "            await google.colab.kernel.invokeFunction('convertToInteractive',\n",
              "                                                     [key], {});\n",
              "          if (!dataTable) return;\n",
              "\n",
              "          const docLinkHtml = 'Like what you see? Visit the ' +\n",
              "            '<a target=\"_blank\" href=https://colab.research.google.com/notebooks/data_table.ipynb>data table notebook</a>'\n",
              "            + ' to learn more about interactive tables.';\n",
              "          element.innerHTML = '';\n",
              "          dataTable['output_type'] = 'display_data';\n",
              "          await google.colab.output.renderOutput(dataTable, element);\n",
              "          const docLink = document.createElement('div');\n",
              "          docLink.innerHTML = docLinkHtml;\n",
              "          element.appendChild(docLink);\n",
              "        }\n",
              "      </script>\n",
              "    </div>\n",
              "  </div>\n",
              "  "
            ]
          },
          "metadata": {},
          "execution_count": 30
        }
      ]
    },
    {
      "cell_type": "code",
      "metadata": {
        "id": "TVtHx9DhymFo",
        "colab": {
          "base_uri": "https://localhost:8080/",
          "height": 455
        },
        "outputId": "0226e2be-6d6c-4d74-8eb6-190593666f83"
      },
      "source": [
        "# Cambiando los datos\n",
        "df.Producto4.fillna(df.Producto4.mean(),inplace=True) #Importante inplace\n",
        "df"
      ],
      "execution_count": null,
      "outputs": [
        {
          "output_type": "execute_result",
          "data": {
            "text/plain": [
              "            Producto1  Producto2  Producto3    Producto4\n",
              "Fecha                                                   \n",
              "2009-01-01         29         20         35  2576.359551\n",
              "2009-01-02         19          3         22  2576.359551\n",
              "2009-01-03         24         12         22  2576.359551\n",
              "2009-01-04         24          8         15  2576.359551\n",
              "2009-01-05        120        111        141  2576.359551\n",
              "...               ...        ...        ...          ...\n",
              "2009-12-27         66         29         52     0.000000\n",
              "2009-12-28         61         41         99     0.000000\n",
              "2009-12-29         89         52        115     0.000000\n",
              "2009-12-30         76         43        115     0.000000\n",
              "2009-12-31         53         46        112     0.000000\n",
              "\n",
              "[365 rows x 4 columns]"
            ],
            "text/html": [
              "\n",
              "  <div id=\"df-45e9dc05-11d1-42eb-9523-525ab20d3822\">\n",
              "    <div class=\"colab-df-container\">\n",
              "      <div>\n",
              "<style scoped>\n",
              "    .dataframe tbody tr th:only-of-type {\n",
              "        vertical-align: middle;\n",
              "    }\n",
              "\n",
              "    .dataframe tbody tr th {\n",
              "        vertical-align: top;\n",
              "    }\n",
              "\n",
              "    .dataframe thead th {\n",
              "        text-align: right;\n",
              "    }\n",
              "</style>\n",
              "<table border=\"1\" class=\"dataframe\">\n",
              "  <thead>\n",
              "    <tr style=\"text-align: right;\">\n",
              "      <th></th>\n",
              "      <th>Producto1</th>\n",
              "      <th>Producto2</th>\n",
              "      <th>Producto3</th>\n",
              "      <th>Producto4</th>\n",
              "    </tr>\n",
              "    <tr>\n",
              "      <th>Fecha</th>\n",
              "      <th></th>\n",
              "      <th></th>\n",
              "      <th></th>\n",
              "      <th></th>\n",
              "    </tr>\n",
              "  </thead>\n",
              "  <tbody>\n",
              "    <tr>\n",
              "      <th>2009-01-01</th>\n",
              "      <td>29</td>\n",
              "      <td>20</td>\n",
              "      <td>35</td>\n",
              "      <td>2576.359551</td>\n",
              "    </tr>\n",
              "    <tr>\n",
              "      <th>2009-01-02</th>\n",
              "      <td>19</td>\n",
              "      <td>3</td>\n",
              "      <td>22</td>\n",
              "      <td>2576.359551</td>\n",
              "    </tr>\n",
              "    <tr>\n",
              "      <th>2009-01-03</th>\n",
              "      <td>24</td>\n",
              "      <td>12</td>\n",
              "      <td>22</td>\n",
              "      <td>2576.359551</td>\n",
              "    </tr>\n",
              "    <tr>\n",
              "      <th>2009-01-04</th>\n",
              "      <td>24</td>\n",
              "      <td>8</td>\n",
              "      <td>15</td>\n",
              "      <td>2576.359551</td>\n",
              "    </tr>\n",
              "    <tr>\n",
              "      <th>2009-01-05</th>\n",
              "      <td>120</td>\n",
              "      <td>111</td>\n",
              "      <td>141</td>\n",
              "      <td>2576.359551</td>\n",
              "    </tr>\n",
              "    <tr>\n",
              "      <th>...</th>\n",
              "      <td>...</td>\n",
              "      <td>...</td>\n",
              "      <td>...</td>\n",
              "      <td>...</td>\n",
              "    </tr>\n",
              "    <tr>\n",
              "      <th>2009-12-27</th>\n",
              "      <td>66</td>\n",
              "      <td>29</td>\n",
              "      <td>52</td>\n",
              "      <td>0.000000</td>\n",
              "    </tr>\n",
              "    <tr>\n",
              "      <th>2009-12-28</th>\n",
              "      <td>61</td>\n",
              "      <td>41</td>\n",
              "      <td>99</td>\n",
              "      <td>0.000000</td>\n",
              "    </tr>\n",
              "    <tr>\n",
              "      <th>2009-12-29</th>\n",
              "      <td>89</td>\n",
              "      <td>52</td>\n",
              "      <td>115</td>\n",
              "      <td>0.000000</td>\n",
              "    </tr>\n",
              "    <tr>\n",
              "      <th>2009-12-30</th>\n",
              "      <td>76</td>\n",
              "      <td>43</td>\n",
              "      <td>115</td>\n",
              "      <td>0.000000</td>\n",
              "    </tr>\n",
              "    <tr>\n",
              "      <th>2009-12-31</th>\n",
              "      <td>53</td>\n",
              "      <td>46</td>\n",
              "      <td>112</td>\n",
              "      <td>0.000000</td>\n",
              "    </tr>\n",
              "  </tbody>\n",
              "</table>\n",
              "<p>365 rows × 4 columns</p>\n",
              "</div>\n",
              "      <button class=\"colab-df-convert\" onclick=\"convertToInteractive('df-45e9dc05-11d1-42eb-9523-525ab20d3822')\"\n",
              "              title=\"Convert this dataframe to an interactive table.\"\n",
              "              style=\"display:none;\">\n",
              "        \n",
              "  <svg xmlns=\"http://www.w3.org/2000/svg\" height=\"24px\"viewBox=\"0 0 24 24\"\n",
              "       width=\"24px\">\n",
              "    <path d=\"M0 0h24v24H0V0z\" fill=\"none\"/>\n",
              "    <path d=\"M18.56 5.44l.94 2.06.94-2.06 2.06-.94-2.06-.94-.94-2.06-.94 2.06-2.06.94zm-11 1L8.5 8.5l.94-2.06 2.06-.94-2.06-.94L8.5 2.5l-.94 2.06-2.06.94zm10 10l.94 2.06.94-2.06 2.06-.94-2.06-.94-.94-2.06-.94 2.06-2.06.94z\"/><path d=\"M17.41 7.96l-1.37-1.37c-.4-.4-.92-.59-1.43-.59-.52 0-1.04.2-1.43.59L10.3 9.45l-7.72 7.72c-.78.78-.78 2.05 0 2.83L4 21.41c.39.39.9.59 1.41.59.51 0 1.02-.2 1.41-.59l7.78-7.78 2.81-2.81c.8-.78.8-2.07 0-2.86zM5.41 20L4 18.59l7.72-7.72 1.47 1.35L5.41 20z\"/>\n",
              "  </svg>\n",
              "      </button>\n",
              "      \n",
              "  <style>\n",
              "    .colab-df-container {\n",
              "      display:flex;\n",
              "      flex-wrap:wrap;\n",
              "      gap: 12px;\n",
              "    }\n",
              "\n",
              "    .colab-df-convert {\n",
              "      background-color: #E8F0FE;\n",
              "      border: none;\n",
              "      border-radius: 50%;\n",
              "      cursor: pointer;\n",
              "      display: none;\n",
              "      fill: #1967D2;\n",
              "      height: 32px;\n",
              "      padding: 0 0 0 0;\n",
              "      width: 32px;\n",
              "    }\n",
              "\n",
              "    .colab-df-convert:hover {\n",
              "      background-color: #E2EBFA;\n",
              "      box-shadow: 0px 1px 2px rgba(60, 64, 67, 0.3), 0px 1px 3px 1px rgba(60, 64, 67, 0.15);\n",
              "      fill: #174EA6;\n",
              "    }\n",
              "\n",
              "    [theme=dark] .colab-df-convert {\n",
              "      background-color: #3B4455;\n",
              "      fill: #D2E3FC;\n",
              "    }\n",
              "\n",
              "    [theme=dark] .colab-df-convert:hover {\n",
              "      background-color: #434B5C;\n",
              "      box-shadow: 0px 1px 3px 1px rgba(0, 0, 0, 0.15);\n",
              "      filter: drop-shadow(0px 1px 2px rgba(0, 0, 0, 0.3));\n",
              "      fill: #FFFFFF;\n",
              "    }\n",
              "  </style>\n",
              "\n",
              "      <script>\n",
              "        const buttonEl =\n",
              "          document.querySelector('#df-45e9dc05-11d1-42eb-9523-525ab20d3822 button.colab-df-convert');\n",
              "        buttonEl.style.display =\n",
              "          google.colab.kernel.accessAllowed ? 'block' : 'none';\n",
              "\n",
              "        async function convertToInteractive(key) {\n",
              "          const element = document.querySelector('#df-45e9dc05-11d1-42eb-9523-525ab20d3822');\n",
              "          const dataTable =\n",
              "            await google.colab.kernel.invokeFunction('convertToInteractive',\n",
              "                                                     [key], {});\n",
              "          if (!dataTable) return;\n",
              "\n",
              "          const docLinkHtml = 'Like what you see? Visit the ' +\n",
              "            '<a target=\"_blank\" href=https://colab.research.google.com/notebooks/data_table.ipynb>data table notebook</a>'\n",
              "            + ' to learn more about interactive tables.';\n",
              "          element.innerHTML = '';\n",
              "          dataTable['output_type'] = 'display_data';\n",
              "          await google.colab.output.renderOutput(dataTable, element);\n",
              "          const docLink = document.createElement('div');\n",
              "          docLink.innerHTML = docLinkHtml;\n",
              "          element.appendChild(docLink);\n",
              "        }\n",
              "      </script>\n",
              "    </div>\n",
              "  </div>\n",
              "  "
            ]
          },
          "metadata": {},
          "execution_count": 31
        }
      ]
    },
    {
      "cell_type": "code",
      "metadata": {
        "colab": {
          "base_uri": "https://localhost:8080/",
          "height": 332
        },
        "id": "crkn3kFvjaLe",
        "outputId": "d37bf618-95d4-405e-88ab-8dd12b7a84f8"
      },
      "source": [
        "df.describe(percentiles = [.10, .20, .30,])"
      ],
      "execution_count": null,
      "outputs": [
        {
          "output_type": "execute_result",
          "data": {
            "text/plain": [
              "         Producto1    Producto2    Producto3    Producto4\n",
              "count   365.000000   365.000000   365.000000   365.000000\n",
              "mean   2032.200000  1060.252055  2093.169863  2576.359551\n",
              "std    1878.879799  1079.533086  1854.368523  1732.161423\n",
              "min       0.000000     0.000000     0.000000     0.000000\n",
              "10%      61.800000    18.200000    72.400000     0.000000\n",
              "20%     138.400000    68.600000   171.600000  1101.400000\n",
              "30%     275.200000   119.400000   353.200000  2576.359551\n",
              "50%    1726.000000   678.000000  1686.000000  2576.359551\n",
              "max    6626.000000  4242.000000  6587.000000  7575.000000"
            ],
            "text/html": [
              "\n",
              "  <div id=\"df-0cf5c7fe-52d3-4c24-a038-28f0de0398cb\">\n",
              "    <div class=\"colab-df-container\">\n",
              "      <div>\n",
              "<style scoped>\n",
              "    .dataframe tbody tr th:only-of-type {\n",
              "        vertical-align: middle;\n",
              "    }\n",
              "\n",
              "    .dataframe tbody tr th {\n",
              "        vertical-align: top;\n",
              "    }\n",
              "\n",
              "    .dataframe thead th {\n",
              "        text-align: right;\n",
              "    }\n",
              "</style>\n",
              "<table border=\"1\" class=\"dataframe\">\n",
              "  <thead>\n",
              "    <tr style=\"text-align: right;\">\n",
              "      <th></th>\n",
              "      <th>Producto1</th>\n",
              "      <th>Producto2</th>\n",
              "      <th>Producto3</th>\n",
              "      <th>Producto4</th>\n",
              "    </tr>\n",
              "  </thead>\n",
              "  <tbody>\n",
              "    <tr>\n",
              "      <th>count</th>\n",
              "      <td>365.000000</td>\n",
              "      <td>365.000000</td>\n",
              "      <td>365.000000</td>\n",
              "      <td>365.000000</td>\n",
              "    </tr>\n",
              "    <tr>\n",
              "      <th>mean</th>\n",
              "      <td>2032.200000</td>\n",
              "      <td>1060.252055</td>\n",
              "      <td>2093.169863</td>\n",
              "      <td>2576.359551</td>\n",
              "    </tr>\n",
              "    <tr>\n",
              "      <th>std</th>\n",
              "      <td>1878.879799</td>\n",
              "      <td>1079.533086</td>\n",
              "      <td>1854.368523</td>\n",
              "      <td>1732.161423</td>\n",
              "    </tr>\n",
              "    <tr>\n",
              "      <th>min</th>\n",
              "      <td>0.000000</td>\n",
              "      <td>0.000000</td>\n",
              "      <td>0.000000</td>\n",
              "      <td>0.000000</td>\n",
              "    </tr>\n",
              "    <tr>\n",
              "      <th>10%</th>\n",
              "      <td>61.800000</td>\n",
              "      <td>18.200000</td>\n",
              "      <td>72.400000</td>\n",
              "      <td>0.000000</td>\n",
              "    </tr>\n",
              "    <tr>\n",
              "      <th>20%</th>\n",
              "      <td>138.400000</td>\n",
              "      <td>68.600000</td>\n",
              "      <td>171.600000</td>\n",
              "      <td>1101.400000</td>\n",
              "    </tr>\n",
              "    <tr>\n",
              "      <th>30%</th>\n",
              "      <td>275.200000</td>\n",
              "      <td>119.400000</td>\n",
              "      <td>353.200000</td>\n",
              "      <td>2576.359551</td>\n",
              "    </tr>\n",
              "    <tr>\n",
              "      <th>50%</th>\n",
              "      <td>1726.000000</td>\n",
              "      <td>678.000000</td>\n",
              "      <td>1686.000000</td>\n",
              "      <td>2576.359551</td>\n",
              "    </tr>\n",
              "    <tr>\n",
              "      <th>max</th>\n",
              "      <td>6626.000000</td>\n",
              "      <td>4242.000000</td>\n",
              "      <td>6587.000000</td>\n",
              "      <td>7575.000000</td>\n",
              "    </tr>\n",
              "  </tbody>\n",
              "</table>\n",
              "</div>\n",
              "      <button class=\"colab-df-convert\" onclick=\"convertToInteractive('df-0cf5c7fe-52d3-4c24-a038-28f0de0398cb')\"\n",
              "              title=\"Convert this dataframe to an interactive table.\"\n",
              "              style=\"display:none;\">\n",
              "        \n",
              "  <svg xmlns=\"http://www.w3.org/2000/svg\" height=\"24px\"viewBox=\"0 0 24 24\"\n",
              "       width=\"24px\">\n",
              "    <path d=\"M0 0h24v24H0V0z\" fill=\"none\"/>\n",
              "    <path d=\"M18.56 5.44l.94 2.06.94-2.06 2.06-.94-2.06-.94-.94-2.06-.94 2.06-2.06.94zm-11 1L8.5 8.5l.94-2.06 2.06-.94-2.06-.94L8.5 2.5l-.94 2.06-2.06.94zm10 10l.94 2.06.94-2.06 2.06-.94-2.06-.94-.94-2.06-.94 2.06-2.06.94z\"/><path d=\"M17.41 7.96l-1.37-1.37c-.4-.4-.92-.59-1.43-.59-.52 0-1.04.2-1.43.59L10.3 9.45l-7.72 7.72c-.78.78-.78 2.05 0 2.83L4 21.41c.39.39.9.59 1.41.59.51 0 1.02-.2 1.41-.59l7.78-7.78 2.81-2.81c.8-.78.8-2.07 0-2.86zM5.41 20L4 18.59l7.72-7.72 1.47 1.35L5.41 20z\"/>\n",
              "  </svg>\n",
              "      </button>\n",
              "      \n",
              "  <style>\n",
              "    .colab-df-container {\n",
              "      display:flex;\n",
              "      flex-wrap:wrap;\n",
              "      gap: 12px;\n",
              "    }\n",
              "\n",
              "    .colab-df-convert {\n",
              "      background-color: #E8F0FE;\n",
              "      border: none;\n",
              "      border-radius: 50%;\n",
              "      cursor: pointer;\n",
              "      display: none;\n",
              "      fill: #1967D2;\n",
              "      height: 32px;\n",
              "      padding: 0 0 0 0;\n",
              "      width: 32px;\n",
              "    }\n",
              "\n",
              "    .colab-df-convert:hover {\n",
              "      background-color: #E2EBFA;\n",
              "      box-shadow: 0px 1px 2px rgba(60, 64, 67, 0.3), 0px 1px 3px 1px rgba(60, 64, 67, 0.15);\n",
              "      fill: #174EA6;\n",
              "    }\n",
              "\n",
              "    [theme=dark] .colab-df-convert {\n",
              "      background-color: #3B4455;\n",
              "      fill: #D2E3FC;\n",
              "    }\n",
              "\n",
              "    [theme=dark] .colab-df-convert:hover {\n",
              "      background-color: #434B5C;\n",
              "      box-shadow: 0px 1px 3px 1px rgba(0, 0, 0, 0.15);\n",
              "      filter: drop-shadow(0px 1px 2px rgba(0, 0, 0, 0.3));\n",
              "      fill: #FFFFFF;\n",
              "    }\n",
              "  </style>\n",
              "\n",
              "      <script>\n",
              "        const buttonEl =\n",
              "          document.querySelector('#df-0cf5c7fe-52d3-4c24-a038-28f0de0398cb button.colab-df-convert');\n",
              "        buttonEl.style.display =\n",
              "          google.colab.kernel.accessAllowed ? 'block' : 'none';\n",
              "\n",
              "        async function convertToInteractive(key) {\n",
              "          const element = document.querySelector('#df-0cf5c7fe-52d3-4c24-a038-28f0de0398cb');\n",
              "          const dataTable =\n",
              "            await google.colab.kernel.invokeFunction('convertToInteractive',\n",
              "                                                     [key], {});\n",
              "          if (!dataTable) return;\n",
              "\n",
              "          const docLinkHtml = 'Like what you see? Visit the ' +\n",
              "            '<a target=\"_blank\" href=https://colab.research.google.com/notebooks/data_table.ipynb>data table notebook</a>'\n",
              "            + ' to learn more about interactive tables.';\n",
              "          element.innerHTML = '';\n",
              "          dataTable['output_type'] = 'display_data';\n",
              "          await google.colab.output.renderOutput(dataTable, element);\n",
              "          const docLink = document.createElement('div');\n",
              "          docLink.innerHTML = docLinkHtml;\n",
              "          element.appendChild(docLink);\n",
              "        }\n",
              "      </script>\n",
              "    </div>\n",
              "  </div>\n",
              "  "
            ]
          },
          "metadata": {},
          "execution_count": 34
        }
      ]
    },
    {
      "cell_type": "code",
      "metadata": {
        "id": "I4kL4c10NjsF"
      },
      "source": [
        "r=np.array(df['Producto4'])\n",
        "r"
      ],
      "execution_count": null,
      "outputs": []
    },
    {
      "cell_type": "code",
      "source": [
        "df.Producto4.values"
      ],
      "metadata": {
        "id": "qpv4ipuBjPr8"
      },
      "execution_count": null,
      "outputs": []
    },
    {
      "cell_type": "markdown",
      "metadata": {
        "id": "JozGd7c9Fsso"
      },
      "source": [
        "<p><a name=\"indexacion\"></a></p>\n",
        "\n",
        "## 2.3. Indexación y localización\n",
        "Usando los comandos `iloc` y `loc`  en un dataframe, se puede acceder a los datos con base en las etiquetas y la ubicación respectivamente "
      ]
    },
    {
      "cell_type": "code",
      "metadata": {
        "id": "6ozNIUigzLgG",
        "colab": {
          "base_uri": "https://localhost:8080/",
          "height": 237
        },
        "outputId": "6a6d39fb-c674-4d1f-e500-1085d9a863e1"
      },
      "source": [
        "df.iloc[100:105:1]"
      ],
      "execution_count": null,
      "outputs": [
        {
          "output_type": "execute_result",
          "data": {
            "text/plain": [
              "            Producto1  Producto2  Producto3    Producto4\n",
              "Fecha                                                   \n",
              "2009-04-11          0          0          0  2576.359551\n",
              "2009-04-12          0          0          0  2576.359551\n",
              "2009-04-13          0          0          0  2576.359551\n",
              "2009-04-14          0          0          0  2576.359551\n",
              "2009-04-15          0          0          0  2576.359551"
            ],
            "text/html": [
              "\n",
              "  <div id=\"df-347c37bc-aec3-47fc-9bba-e3ceabf2b3f2\">\n",
              "    <div class=\"colab-df-container\">\n",
              "      <div>\n",
              "<style scoped>\n",
              "    .dataframe tbody tr th:only-of-type {\n",
              "        vertical-align: middle;\n",
              "    }\n",
              "\n",
              "    .dataframe tbody tr th {\n",
              "        vertical-align: top;\n",
              "    }\n",
              "\n",
              "    .dataframe thead th {\n",
              "        text-align: right;\n",
              "    }\n",
              "</style>\n",
              "<table border=\"1\" class=\"dataframe\">\n",
              "  <thead>\n",
              "    <tr style=\"text-align: right;\">\n",
              "      <th></th>\n",
              "      <th>Producto1</th>\n",
              "      <th>Producto2</th>\n",
              "      <th>Producto3</th>\n",
              "      <th>Producto4</th>\n",
              "    </tr>\n",
              "    <tr>\n",
              "      <th>Fecha</th>\n",
              "      <th></th>\n",
              "      <th></th>\n",
              "      <th></th>\n",
              "      <th></th>\n",
              "    </tr>\n",
              "  </thead>\n",
              "  <tbody>\n",
              "    <tr>\n",
              "      <th>2009-04-11</th>\n",
              "      <td>0</td>\n",
              "      <td>0</td>\n",
              "      <td>0</td>\n",
              "      <td>2576.359551</td>\n",
              "    </tr>\n",
              "    <tr>\n",
              "      <th>2009-04-12</th>\n",
              "      <td>0</td>\n",
              "      <td>0</td>\n",
              "      <td>0</td>\n",
              "      <td>2576.359551</td>\n",
              "    </tr>\n",
              "    <tr>\n",
              "      <th>2009-04-13</th>\n",
              "      <td>0</td>\n",
              "      <td>0</td>\n",
              "      <td>0</td>\n",
              "      <td>2576.359551</td>\n",
              "    </tr>\n",
              "    <tr>\n",
              "      <th>2009-04-14</th>\n",
              "      <td>0</td>\n",
              "      <td>0</td>\n",
              "      <td>0</td>\n",
              "      <td>2576.359551</td>\n",
              "    </tr>\n",
              "    <tr>\n",
              "      <th>2009-04-15</th>\n",
              "      <td>0</td>\n",
              "      <td>0</td>\n",
              "      <td>0</td>\n",
              "      <td>2576.359551</td>\n",
              "    </tr>\n",
              "  </tbody>\n",
              "</table>\n",
              "</div>\n",
              "      <button class=\"colab-df-convert\" onclick=\"convertToInteractive('df-347c37bc-aec3-47fc-9bba-e3ceabf2b3f2')\"\n",
              "              title=\"Convert this dataframe to an interactive table.\"\n",
              "              style=\"display:none;\">\n",
              "        \n",
              "  <svg xmlns=\"http://www.w3.org/2000/svg\" height=\"24px\"viewBox=\"0 0 24 24\"\n",
              "       width=\"24px\">\n",
              "    <path d=\"M0 0h24v24H0V0z\" fill=\"none\"/>\n",
              "    <path d=\"M18.56 5.44l.94 2.06.94-2.06 2.06-.94-2.06-.94-.94-2.06-.94 2.06-2.06.94zm-11 1L8.5 8.5l.94-2.06 2.06-.94-2.06-.94L8.5 2.5l-.94 2.06-2.06.94zm10 10l.94 2.06.94-2.06 2.06-.94-2.06-.94-.94-2.06-.94 2.06-2.06.94z\"/><path d=\"M17.41 7.96l-1.37-1.37c-.4-.4-.92-.59-1.43-.59-.52 0-1.04.2-1.43.59L10.3 9.45l-7.72 7.72c-.78.78-.78 2.05 0 2.83L4 21.41c.39.39.9.59 1.41.59.51 0 1.02-.2 1.41-.59l7.78-7.78 2.81-2.81c.8-.78.8-2.07 0-2.86zM5.41 20L4 18.59l7.72-7.72 1.47 1.35L5.41 20z\"/>\n",
              "  </svg>\n",
              "      </button>\n",
              "      \n",
              "  <style>\n",
              "    .colab-df-container {\n",
              "      display:flex;\n",
              "      flex-wrap:wrap;\n",
              "      gap: 12px;\n",
              "    }\n",
              "\n",
              "    .colab-df-convert {\n",
              "      background-color: #E8F0FE;\n",
              "      border: none;\n",
              "      border-radius: 50%;\n",
              "      cursor: pointer;\n",
              "      display: none;\n",
              "      fill: #1967D2;\n",
              "      height: 32px;\n",
              "      padding: 0 0 0 0;\n",
              "      width: 32px;\n",
              "    }\n",
              "\n",
              "    .colab-df-convert:hover {\n",
              "      background-color: #E2EBFA;\n",
              "      box-shadow: 0px 1px 2px rgba(60, 64, 67, 0.3), 0px 1px 3px 1px rgba(60, 64, 67, 0.15);\n",
              "      fill: #174EA6;\n",
              "    }\n",
              "\n",
              "    [theme=dark] .colab-df-convert {\n",
              "      background-color: #3B4455;\n",
              "      fill: #D2E3FC;\n",
              "    }\n",
              "\n",
              "    [theme=dark] .colab-df-convert:hover {\n",
              "      background-color: #434B5C;\n",
              "      box-shadow: 0px 1px 3px 1px rgba(0, 0, 0, 0.15);\n",
              "      filter: drop-shadow(0px 1px 2px rgba(0, 0, 0, 0.3));\n",
              "      fill: #FFFFFF;\n",
              "    }\n",
              "  </style>\n",
              "\n",
              "      <script>\n",
              "        const buttonEl =\n",
              "          document.querySelector('#df-347c37bc-aec3-47fc-9bba-e3ceabf2b3f2 button.colab-df-convert');\n",
              "        buttonEl.style.display =\n",
              "          google.colab.kernel.accessAllowed ? 'block' : 'none';\n",
              "\n",
              "        async function convertToInteractive(key) {\n",
              "          const element = document.querySelector('#df-347c37bc-aec3-47fc-9bba-e3ceabf2b3f2');\n",
              "          const dataTable =\n",
              "            await google.colab.kernel.invokeFunction('convertToInteractive',\n",
              "                                                     [key], {});\n",
              "          if (!dataTable) return;\n",
              "\n",
              "          const docLinkHtml = 'Like what you see? Visit the ' +\n",
              "            '<a target=\"_blank\" href=https://colab.research.google.com/notebooks/data_table.ipynb>data table notebook</a>'\n",
              "            + ' to learn more about interactive tables.';\n",
              "          element.innerHTML = '';\n",
              "          dataTable['output_type'] = 'display_data';\n",
              "          await google.colab.output.renderOutput(dataTable, element);\n",
              "          const docLink = document.createElement('div');\n",
              "          docLink.innerHTML = docLinkHtml;\n",
              "          element.appendChild(docLink);\n",
              "        }\n",
              "      </script>\n",
              "    </div>\n",
              "  </div>\n",
              "  "
            ]
          },
          "metadata": {},
          "execution_count": 45
        }
      ]
    },
    {
      "cell_type": "markdown",
      "metadata": {
        "id": "xQ3ai7KcPKdA"
      },
      "source": [
        "Indexación para un subconjunto de columnas"
      ]
    },
    {
      "cell_type": "code",
      "metadata": {
        "id": "nREsnuxXlLr6"
      },
      "source": [
        "df.plot()"
      ],
      "execution_count": null,
      "outputs": []
    },
    {
      "cell_type": "code",
      "metadata": {
        "id": "Vy9_2BNyPJPU",
        "colab": {
          "base_uri": "https://localhost:8080/",
          "height": 320
        },
        "outputId": "099c3eae-a60f-459e-ebeb-719feb756dc0"
      },
      "source": [
        "df[['Producto1','Producto4']].iloc[100:110].plot()"
      ],
      "execution_count": null,
      "outputs": [
        {
          "output_type": "execute_result",
          "data": {
            "text/plain": [
              "<matplotlib.axes._subplots.AxesSubplot at 0x7f8b50867b50>"
            ]
          },
          "metadata": {},
          "execution_count": 47
        },
        {
          "output_type": "display_data",
          "data": {
            "text/plain": [
              "<Figure size 432x288 with 1 Axes>"
            ],
            "image/png": "[encoded data removed]"
          },
          "metadata": {
            "needs_background": "light"
          }
        }
      ]
    },
    {
      "cell_type": "code",
      "metadata": {
        "id": "UZwfvVR1yVoH",
        "colab": {
          "base_uri": "https://localhost:8080/",
          "height": 455
        },
        "outputId": "375803bb-a0ad-4b34-c2cc-e62186515db3"
      },
      "source": [
        "df.iloc[::-1,1:3:2]"
      ],
      "execution_count": null,
      "outputs": [
        {
          "output_type": "execute_result",
          "data": {
            "text/plain": [
              "            Producto2\n",
              "Fecha                \n",
              "2009-12-31         46\n",
              "2009-12-30         43\n",
              "2009-12-29         52\n",
              "2009-12-28         41\n",
              "2009-12-27         29\n",
              "...               ...\n",
              "2009-01-05        111\n",
              "2009-01-04          8\n",
              "2009-01-03         12\n",
              "2009-01-02          3\n",
              "2009-01-01         20\n",
              "\n",
              "[365 rows x 1 columns]"
            ],
            "text/html": [
              "\n",
              "  <div id=\"df-2d0560ac-6cbe-489a-9803-780e774286ca\">\n",
              "    <div class=\"colab-df-container\">\n",
              "      <div>\n",
              "<style scoped>\n",
              "    .dataframe tbody tr th:only-of-type {\n",
              "        vertical-align: middle;\n",
              "    }\n",
              "\n",
              "    .dataframe tbody tr th {\n",
              "        vertical-align: top;\n",
              "    }\n",
              "\n",
              "    .dataframe thead th {\n",
              "        text-align: right;\n",
              "    }\n",
              "</style>\n",
              "<table border=\"1\" class=\"dataframe\">\n",
              "  <thead>\n",
              "    <tr style=\"text-align: right;\">\n",
              "      <th></th>\n",
              "      <th>Producto2</th>\n",
              "    </tr>\n",
              "    <tr>\n",
              "      <th>Fecha</th>\n",
              "      <th></th>\n",
              "    </tr>\n",
              "  </thead>\n",
              "  <tbody>\n",
              "    <tr>\n",
              "      <th>2009-12-31</th>\n",
              "      <td>46</td>\n",
              "    </tr>\n",
              "    <tr>\n",
              "      <th>2009-12-30</th>\n",
              "      <td>43</td>\n",
              "    </tr>\n",
              "    <tr>\n",
              "      <th>2009-12-29</th>\n",
              "      <td>52</td>\n",
              "    </tr>\n",
              "    <tr>\n",
              "      <th>2009-12-28</th>\n",
              "      <td>41</td>\n",
              "    </tr>\n",
              "    <tr>\n",
              "      <th>2009-12-27</th>\n",
              "      <td>29</td>\n",
              "    </tr>\n",
              "    <tr>\n",
              "      <th>...</th>\n",
              "      <td>...</td>\n",
              "    </tr>\n",
              "    <tr>\n",
              "      <th>2009-01-05</th>\n",
              "      <td>111</td>\n",
              "    </tr>\n",
              "    <tr>\n",
              "      <th>2009-01-04</th>\n",
              "      <td>8</td>\n",
              "    </tr>\n",
              "    <tr>\n",
              "      <th>2009-01-03</th>\n",
              "      <td>12</td>\n",
              "    </tr>\n",
              "    <tr>\n",
              "      <th>2009-01-02</th>\n",
              "      <td>3</td>\n",
              "    </tr>\n",
              "    <tr>\n",
              "      <th>2009-01-01</th>\n",
              "      <td>20</td>\n",
              "    </tr>\n",
              "  </tbody>\n",
              "</table>\n",
              "<p>365 rows × 1 columns</p>\n",
              "</div>\n",
              "      <button class=\"colab-df-convert\" onclick=\"convertToInteractive('df-2d0560ac-6cbe-489a-9803-780e774286ca')\"\n",
              "              title=\"Convert this dataframe to an interactive table.\"\n",
              "              style=\"display:none;\">\n",
              "        \n",
              "  <svg xmlns=\"http://www.w3.org/2000/svg\" height=\"24px\"viewBox=\"0 0 24 24\"\n",
              "       width=\"24px\">\n",
              "    <path d=\"M0 0h24v24H0V0z\" fill=\"none\"/>\n",
              "    <path d=\"M18.56 5.44l.94 2.06.94-2.06 2.06-.94-2.06-.94-.94-2.06-.94 2.06-2.06.94zm-11 1L8.5 8.5l.94-2.06 2.06-.94-2.06-.94L8.5 2.5l-.94 2.06-2.06.94zm10 10l.94 2.06.94-2.06 2.06-.94-2.06-.94-.94-2.06-.94 2.06-2.06.94z\"/><path d=\"M17.41 7.96l-1.37-1.37c-.4-.4-.92-.59-1.43-.59-.52 0-1.04.2-1.43.59L10.3 9.45l-7.72 7.72c-.78.78-.78 2.05 0 2.83L4 21.41c.39.39.9.59 1.41.59.51 0 1.02-.2 1.41-.59l7.78-7.78 2.81-2.81c.8-.78.8-2.07 0-2.86zM5.41 20L4 18.59l7.72-7.72 1.47 1.35L5.41 20z\"/>\n",
              "  </svg>\n",
              "      </button>\n",
              "      \n",
              "  <style>\n",
              "    .colab-df-container {\n",
              "      display:flex;\n",
              "      flex-wrap:wrap;\n",
              "      gap: 12px;\n",
              "    }\n",
              "\n",
              "    .colab-df-convert {\n",
              "      background-color: #E8F0FE;\n",
              "      border: none;\n",
              "      border-radius: 50%;\n",
              "      cursor: pointer;\n",
              "      display: none;\n",
              "      fill: #1967D2;\n",
              "      height: 32px;\n",
              "      padding: 0 0 0 0;\n",
              "      width: 32px;\n",
              "    }\n",
              "\n",
              "    .colab-df-convert:hover {\n",
              "      background-color: #E2EBFA;\n",
              "      box-shadow: 0px 1px 2px rgba(60, 64, 67, 0.3), 0px 1px 3px 1px rgba(60, 64, 67, 0.15);\n",
              "      fill: #174EA6;\n",
              "    }\n",
              "\n",
              "    [theme=dark] .colab-df-convert {\n",
              "      background-color: #3B4455;\n",
              "      fill: #D2E3FC;\n",
              "    }\n",
              "\n",
              "    [theme=dark] .colab-df-convert:hover {\n",
              "      background-color: #434B5C;\n",
              "      box-shadow: 0px 1px 3px 1px rgba(0, 0, 0, 0.15);\n",
              "      filter: drop-shadow(0px 1px 2px rgba(0, 0, 0, 0.3));\n",
              "      fill: #FFFFFF;\n",
              "    }\n",
              "  </style>\n",
              "\n",
              "      <script>\n",
              "        const buttonEl =\n",
              "          document.querySelector('#df-2d0560ac-6cbe-489a-9803-780e774286ca button.colab-df-convert');\n",
              "        buttonEl.style.display =\n",
              "          google.colab.kernel.accessAllowed ? 'block' : 'none';\n",
              "\n",
              "        async function convertToInteractive(key) {\n",
              "          const element = document.querySelector('#df-2d0560ac-6cbe-489a-9803-780e774286ca');\n",
              "          const dataTable =\n",
              "            await google.colab.kernel.invokeFunction('convertToInteractive',\n",
              "                                                     [key], {});\n",
              "          if (!dataTable) return;\n",
              "\n",
              "          const docLinkHtml = 'Like what you see? Visit the ' +\n",
              "            '<a target=\"_blank\" href=https://colab.research.google.com/notebooks/data_table.ipynb>data table notebook</a>'\n",
              "            + ' to learn more about interactive tables.';\n",
              "          element.innerHTML = '';\n",
              "          dataTable['output_type'] = 'display_data';\n",
              "          await google.colab.output.renderOutput(dataTable, element);\n",
              "          const docLink = document.createElement('div');\n",
              "          docLink.innerHTML = docLinkHtml;\n",
              "          element.appendChild(docLink);\n",
              "        }\n",
              "      </script>\n",
              "    </div>\n",
              "  </div>\n",
              "  "
            ]
          },
          "metadata": {},
          "execution_count": 49
        }
      ]
    },
    {
      "cell_type": "code",
      "metadata": {
        "id": "_-TPOca3zOHd",
        "colab": {
          "base_uri": "https://localhost:8080/",
          "height": 394
        },
        "outputId": "7db85c9f-7edb-46e1-bcc9-253e3c10c879"
      },
      "source": [
        "df.loc[\"2009-10-01\":\"2009-10-10\"]"
      ],
      "execution_count": null,
      "outputs": [
        {
          "output_type": "execute_result",
          "data": {
            "text/plain": [
              "            Producto1  Producto2  Producto3  Producto4\n",
              "Fecha                                                 \n",
              "2009-10-01       2643         22       3528     1588.0\n",
              "2009-10-02       2865         36       3735     1906.0\n",
              "2009-10-03        993          7       1362      705.0\n",
              "2009-10-04       1336          0       1620     1116.0\n",
              "2009-10-05       2935        308       3801     1773.0\n",
              "2009-10-06       3852          7       4610     2211.0\n",
              "2009-10-07       2115          3       2825      984.0\n",
              "2009-10-08       3336          9       4146     1967.0\n",
              "2009-10-09       1302        482       1686      663.0\n",
              "2009-10-10       1407        725       1443     1003.0"
            ],
            "text/html": [
              "\n",
              "  <div id=\"df-444e8898-a138-4c39-8653-d0d2c6bc658e\">\n",
              "    <div class=\"colab-df-container\">\n",
              "      <div>\n",
              "<style scoped>\n",
              "    .dataframe tbody tr th:only-of-type {\n",
              "        vertical-align: middle;\n",
              "    }\n",
              "\n",
              "    .dataframe tbody tr th {\n",
              "        vertical-align: top;\n",
              "    }\n",
              "\n",
              "    .dataframe thead th {\n",
              "        text-align: right;\n",
              "    }\n",
              "</style>\n",
              "<table border=\"1\" class=\"dataframe\">\n",
              "  <thead>\n",
              "    <tr style=\"text-align: right;\">\n",
              "      <th></th>\n",
              "      <th>Producto1</th>\n",
              "      <th>Producto2</th>\n",
              "      <th>Producto3</th>\n",
              "      <th>Producto4</th>\n",
              "    </tr>\n",
              "    <tr>\n",
              "      <th>Fecha</th>\n",
              "      <th></th>\n",
              "      <th></th>\n",
              "      <th></th>\n",
              "      <th></th>\n",
              "    </tr>\n",
              "  </thead>\n",
              "  <tbody>\n",
              "    <tr>\n",
              "      <th>2009-10-01</th>\n",
              "      <td>2643</td>\n",
              "      <td>22</td>\n",
              "      <td>3528</td>\n",
              "      <td>1588.0</td>\n",
              "    </tr>\n",
              "    <tr>\n",
              "      <th>2009-10-02</th>\n",
              "      <td>2865</td>\n",
              "      <td>36</td>\n",
              "      <td>3735</td>\n",
              "      <td>1906.0</td>\n",
              "    </tr>\n",
              "    <tr>\n",
              "      <th>2009-10-03</th>\n",
              "      <td>993</td>\n",
              "      <td>7</td>\n",
              "      <td>1362</td>\n",
              "      <td>705.0</td>\n",
              "    </tr>\n",
              "    <tr>\n",
              "      <th>2009-10-04</th>\n",
              "      <td>1336</td>\n",
              "      <td>0</td>\n",
              "      <td>1620</td>\n",
              "      <td>1116.0</td>\n",
              "    </tr>\n",
              "    <tr>\n",
              "      <th>2009-10-05</th>\n",
              "      <td>2935</td>\n",
              "      <td>308</td>\n",
              "      <td>3801</td>\n",
              "      <td>1773.0</td>\n",
              "    </tr>\n",
              "    <tr>\n",
              "      <th>2009-10-06</th>\n",
              "      <td>3852</td>\n",
              "      <td>7</td>\n",
              "      <td>4610</td>\n",
              "      <td>2211.0</td>\n",
              "    </tr>\n",
              "    <tr>\n",
              "      <th>2009-10-07</th>\n",
              "      <td>2115</td>\n",
              "      <td>3</td>\n",
              "      <td>2825</td>\n",
              "      <td>984.0</td>\n",
              "    </tr>\n",
              "    <tr>\n",
              "      <th>2009-10-08</th>\n",
              "      <td>3336</td>\n",
              "      <td>9</td>\n",
              "      <td>4146</td>\n",
              "      <td>1967.0</td>\n",
              "    </tr>\n",
              "    <tr>\n",
              "      <th>2009-10-09</th>\n",
              "      <td>1302</td>\n",
              "      <td>482</td>\n",
              "      <td>1686</td>\n",
              "      <td>663.0</td>\n",
              "    </tr>\n",
              "    <tr>\n",
              "      <th>2009-10-10</th>\n",
              "      <td>1407</td>\n",
              "      <td>725</td>\n",
              "      <td>1443</td>\n",
              "      <td>1003.0</td>\n",
              "    </tr>\n",
              "  </tbody>\n",
              "</table>\n",
              "</div>\n",
              "      <button class=\"colab-df-convert\" onclick=\"convertToInteractive('df-444e8898-a138-4c39-8653-d0d2c6bc658e')\"\n",
              "              title=\"Convert this dataframe to an interactive table.\"\n",
              "              style=\"display:none;\">\n",
              "        \n",
              "  <svg xmlns=\"http://www.w3.org/2000/svg\" height=\"24px\"viewBox=\"0 0 24 24\"\n",
              "       width=\"24px\">\n",
              "    <path d=\"M0 0h24v24H0V0z\" fill=\"none\"/>\n",
              "    <path d=\"M18.56 5.44l.94 2.06.94-2.06 2.06-.94-2.06-.94-.94-2.06-.94 2.06-2.06.94zm-11 1L8.5 8.5l.94-2.06 2.06-.94-2.06-.94L8.5 2.5l-.94 2.06-2.06.94zm10 10l.94 2.06.94-2.06 2.06-.94-2.06-.94-.94-2.06-.94 2.06-2.06.94z\"/><path d=\"M17.41 7.96l-1.37-1.37c-.4-.4-.92-.59-1.43-.59-.52 0-1.04.2-1.43.59L10.3 9.45l-7.72 7.72c-.78.78-.78 2.05 0 2.83L4 21.41c.39.39.9.59 1.41.59.51 0 1.02-.2 1.41-.59l7.78-7.78 2.81-2.81c.8-.78.8-2.07 0-2.86zM5.41 20L4 18.59l7.72-7.72 1.47 1.35L5.41 20z\"/>\n",
              "  </svg>\n",
              "      </button>\n",
              "      \n",
              "  <style>\n",
              "    .colab-df-container {\n",
              "      display:flex;\n",
              "      flex-wrap:wrap;\n",
              "      gap: 12px;\n",
              "    }\n",
              "\n",
              "    .colab-df-convert {\n",
              "      background-color: #E8F0FE;\n",
              "      border: none;\n",
              "      border-radius: 50%;\n",
              "      cursor: pointer;\n",
              "      display: none;\n",
              "      fill: #1967D2;\n",
              "      height: 32px;\n",
              "      padding: 0 0 0 0;\n",
              "      width: 32px;\n",
              "    }\n",
              "\n",
              "    .colab-df-convert:hover {\n",
              "      background-color: #E2EBFA;\n",
              "      box-shadow: 0px 1px 2px rgba(60, 64, 67, 0.3), 0px 1px 3px 1px rgba(60, 64, 67, 0.15);\n",
              "      fill: #174EA6;\n",
              "    }\n",
              "\n",
              "    [theme=dark] .colab-df-convert {\n",
              "      background-color: #3B4455;\n",
              "      fill: #D2E3FC;\n",
              "    }\n",
              "\n",
              "    [theme=dark] .colab-df-convert:hover {\n",
              "      background-color: #434B5C;\n",
              "      box-shadow: 0px 1px 3px 1px rgba(0, 0, 0, 0.15);\n",
              "      filter: drop-shadow(0px 1px 2px rgba(0, 0, 0, 0.3));\n",
              "      fill: #FFFFFF;\n",
              "    }\n",
              "  </style>\n",
              "\n",
              "      <script>\n",
              "        const buttonEl =\n",
              "          document.querySelector('#df-444e8898-a138-4c39-8653-d0d2c6bc658e button.colab-df-convert');\n",
              "        buttonEl.style.display =\n",
              "          google.colab.kernel.accessAllowed ? 'block' : 'none';\n",
              "\n",
              "        async function convertToInteractive(key) {\n",
              "          const element = document.querySelector('#df-444e8898-a138-4c39-8653-d0d2c6bc658e');\n",
              "          const dataTable =\n",
              "            await google.colab.kernel.invokeFunction('convertToInteractive',\n",
              "                                                     [key], {});\n",
              "          if (!dataTable) return;\n",
              "\n",
              "          const docLinkHtml = 'Like what you see? Visit the ' +\n",
              "            '<a target=\"_blank\" href=https://colab.research.google.com/notebooks/data_table.ipynb>data table notebook</a>'\n",
              "            + ' to learn more about interactive tables.';\n",
              "          element.innerHTML = '';\n",
              "          dataTable['output_type'] = 'display_data';\n",
              "          await google.colab.output.renderOutput(dataTable, element);\n",
              "          const docLink = document.createElement('div');\n",
              "          docLink.innerHTML = docLinkHtml;\n",
              "          element.appendChild(docLink);\n",
              "        }\n",
              "      </script>\n",
              "    </div>\n",
              "  </div>\n",
              "  "
            ]
          },
          "metadata": {},
          "execution_count": 50
        }
      ]
    },
    {
      "cell_type": "markdown",
      "metadata": {
        "id": "ELqP9yEhg1Tb"
      },
      "source": [
        "Parar reasignar un valor de dataframe, simplemente se debe saber la localización, ya sea por indice o por etiqueta y usar el operador de asignación `=`"
      ]
    },
    {
      "cell_type": "code",
      "metadata": {
        "colab": {
          "base_uri": "https://localhost:8080/"
        },
        "id": "fLfmbzmqJ5tU",
        "outputId": "c16712de-6430-403f-9e29-977ffbbcc6f4"
      },
      "source": [
        "df.iloc[109,0]"
      ],
      "execution_count": null,
      "outputs": [
        {
          "output_type": "execute_result",
          "data": {
            "text/plain": [
              "1000"
            ]
          },
          "metadata": {},
          "execution_count": 53
        }
      ]
    },
    {
      "cell_type": "code",
      "metadata": {
        "id": "y3iwyTO2gZhD"
      },
      "source": [
        "df.iloc[109,0]=1000"
      ],
      "execution_count": null,
      "outputs": []
    },
    {
      "cell_type": "code",
      "metadata": {
        "id": "JjRmd-N3hVqZ"
      },
      "source": [
        "df.loc['2009-04-19','Producto1']=998"
      ],
      "execution_count": null,
      "outputs": []
    },
    {
      "cell_type": "code",
      "metadata": {
        "colab": {
          "base_uri": "https://localhost:8080/"
        },
        "id": "b20ibG_aKKcF",
        "outputId": "934a3bea-4444-4ea6-c21b-d838ca589e05"
      },
      "source": [
        "df.loc['2009-04-19','Producto1']"
      ],
      "execution_count": null,
      "outputs": [
        {
          "output_type": "execute_result",
          "data": {
            "text/plain": [
              "998.0"
            ]
          },
          "metadata": {},
          "execution_count": 55
        }
      ]
    },
    {
      "cell_type": "code",
      "metadata": {
        "colab": {
          "base_uri": "https://localhost:8080/"
        },
        "id": "1dfV0vxlnHhC",
        "outputId": "48da76e3-511d-40f5-dc18-488343a1241d"
      },
      "source": [
        "df.index"
      ],
      "execution_count": null,
      "outputs": [
        {
          "output_type": "execute_result",
          "data": {
            "text/plain": [
              "DatetimeIndex(['2009-01-01', '2009-01-02', '2009-01-03', '2009-01-04',\n",
              "               '2009-01-05', '2009-01-06', '2009-01-07', '2009-01-08',\n",
              "               '2009-01-09', '2009-01-10',\n",
              "               ...\n",
              "               '2009-12-22', '2009-12-23', '2009-12-24', '2009-12-25',\n",
              "               '2009-12-26', '2009-12-27', '2009-12-28', '2009-12-29',\n",
              "               '2009-12-30', '2009-12-31'],\n",
              "              dtype='datetime64[ns]', name='Fecha', length=365, freq=None)"
            ]
          },
          "metadata": {},
          "execution_count": 56
        }
      ]
    },
    {
      "cell_type": "code",
      "metadata": {
        "id": "Oof4P37qQudQ",
        "colab": {
          "base_uri": "https://localhost:8080/",
          "height": 237
        },
        "outputId": "58b593da-a182-4e18-8ff1-bde046f69e39"
      },
      "source": [
        "df.head()"
      ],
      "execution_count": null,
      "outputs": [
        {
          "output_type": "execute_result",
          "data": {
            "text/plain": [
              "            Producto1  Producto2  Producto3    Producto4\n",
              "Fecha                                                   \n",
              "2009-01-01         29         20         35  2576.359551\n",
              "2009-01-02         19          3         22  2576.359551\n",
              "2009-01-03         24         12         22  2576.359551\n",
              "2009-01-04         24          8         15  2576.359551\n",
              "2009-01-05        120        111        141  2576.359551"
            ],
            "text/html": [
              "\n",
              "  <div id=\"df-fbd7f0cd-20ed-441c-9ca6-77e47fc2706f\">\n",
              "    <div class=\"colab-df-container\">\n",
              "      <div>\n",
              "<style scoped>\n",
              "    .dataframe tbody tr th:only-of-type {\n",
              "        vertical-align: middle;\n",
              "    }\n",
              "\n",
              "    .dataframe tbody tr th {\n",
              "        vertical-align: top;\n",
              "    }\n",
              "\n",
              "    .dataframe thead th {\n",
              "        text-align: right;\n",
              "    }\n",
              "</style>\n",
              "<table border=\"1\" class=\"dataframe\">\n",
              "  <thead>\n",
              "    <tr style=\"text-align: right;\">\n",
              "      <th></th>\n",
              "      <th>Producto1</th>\n",
              "      <th>Producto2</th>\n",
              "      <th>Producto3</th>\n",
              "      <th>Producto4</th>\n",
              "    </tr>\n",
              "    <tr>\n",
              "      <th>Fecha</th>\n",
              "      <th></th>\n",
              "      <th></th>\n",
              "      <th></th>\n",
              "      <th></th>\n",
              "    </tr>\n",
              "  </thead>\n",
              "  <tbody>\n",
              "    <tr>\n",
              "      <th>2009-01-01</th>\n",
              "      <td>29</td>\n",
              "      <td>20</td>\n",
              "      <td>35</td>\n",
              "      <td>2576.359551</td>\n",
              "    </tr>\n",
              "    <tr>\n",
              "      <th>2009-01-02</th>\n",
              "      <td>19</td>\n",
              "      <td>3</td>\n",
              "      <td>22</td>\n",
              "      <td>2576.359551</td>\n",
              "    </tr>\n",
              "    <tr>\n",
              "      <th>2009-01-03</th>\n",
              "      <td>24</td>\n",
              "      <td>12</td>\n",
              "      <td>22</td>\n",
              "      <td>2576.359551</td>\n",
              "    </tr>\n",
              "    <tr>\n",
              "      <th>2009-01-04</th>\n",
              "      <td>24</td>\n",
              "      <td>8</td>\n",
              "      <td>15</td>\n",
              "      <td>2576.359551</td>\n",
              "    </tr>\n",
              "    <tr>\n",
              "      <th>2009-01-05</th>\n",
              "      <td>120</td>\n",
              "      <td>111</td>\n",
              "      <td>141</td>\n",
              "      <td>2576.359551</td>\n",
              "    </tr>\n",
              "  </tbody>\n",
              "</table>\n",
              "</div>\n",
              "      <button class=\"colab-df-convert\" onclick=\"convertToInteractive('df-fbd7f0cd-20ed-441c-9ca6-77e47fc2706f')\"\n",
              "              title=\"Convert this dataframe to an interactive table.\"\n",
              "              style=\"display:none;\">\n",
              "        \n",
              "  <svg xmlns=\"http://www.w3.org/2000/svg\" height=\"24px\"viewBox=\"0 0 24 24\"\n",
              "       width=\"24px\">\n",
              "    <path d=\"M0 0h24v24H0V0z\" fill=\"none\"/>\n",
              "    <path d=\"M18.56 5.44l.94 2.06.94-2.06 2.06-.94-2.06-.94-.94-2.06-.94 2.06-2.06.94zm-11 1L8.5 8.5l.94-2.06 2.06-.94-2.06-.94L8.5 2.5l-.94 2.06-2.06.94zm10 10l.94 2.06.94-2.06 2.06-.94-2.06-.94-.94-2.06-.94 2.06-2.06.94z\"/><path d=\"M17.41 7.96l-1.37-1.37c-.4-.4-.92-.59-1.43-.59-.52 0-1.04.2-1.43.59L10.3 9.45l-7.72 7.72c-.78.78-.78 2.05 0 2.83L4 21.41c.39.39.9.59 1.41.59.51 0 1.02-.2 1.41-.59l7.78-7.78 2.81-2.81c.8-.78.8-2.07 0-2.86zM5.41 20L4 18.59l7.72-7.72 1.47 1.35L5.41 20z\"/>\n",
              "  </svg>\n",
              "      </button>\n",
              "      \n",
              "  <style>\n",
              "    .colab-df-container {\n",
              "      display:flex;\n",
              "      flex-wrap:wrap;\n",
              "      gap: 12px;\n",
              "    }\n",
              "\n",
              "    .colab-df-convert {\n",
              "      background-color: #E8F0FE;\n",
              "      border: none;\n",
              "      border-radius: 50%;\n",
              "      cursor: pointer;\n",
              "      display: none;\n",
              "      fill: #1967D2;\n",
              "      height: 32px;\n",
              "      padding: 0 0 0 0;\n",
              "      width: 32px;\n",
              "    }\n",
              "\n",
              "    .colab-df-convert:hover {\n",
              "      background-color: #E2EBFA;\n",
              "      box-shadow: 0px 1px 2px rgba(60, 64, 67, 0.3), 0px 1px 3px 1px rgba(60, 64, 67, 0.15);\n",
              "      fill: #174EA6;\n",
              "    }\n",
              "\n",
              "    [theme=dark] .colab-df-convert {\n",
              "      background-color: #3B4455;\n",
              "      fill: #D2E3FC;\n",
              "    }\n",
              "\n",
              "    [theme=dark] .colab-df-convert:hover {\n",
              "      background-color: #434B5C;\n",
              "      box-shadow: 0px 1px 3px 1px rgba(0, 0, 0, 0.15);\n",
              "      filter: drop-shadow(0px 1px 2px rgba(0, 0, 0, 0.3));\n",
              "      fill: #FFFFFF;\n",
              "    }\n",
              "  </style>\n",
              "\n",
              "      <script>\n",
              "        const buttonEl =\n",
              "          document.querySelector('#df-fbd7f0cd-20ed-441c-9ca6-77e47fc2706f button.colab-df-convert');\n",
              "        buttonEl.style.display =\n",
              "          google.colab.kernel.accessAllowed ? 'block' : 'none';\n",
              "\n",
              "        async function convertToInteractive(key) {\n",
              "          const element = document.querySelector('#df-fbd7f0cd-20ed-441c-9ca6-77e47fc2706f');\n",
              "          const dataTable =\n",
              "            await google.colab.kernel.invokeFunction('convertToInteractive',\n",
              "                                                     [key], {});\n",
              "          if (!dataTable) return;\n",
              "\n",
              "          const docLinkHtml = 'Like what you see? Visit the ' +\n",
              "            '<a target=\"_blank\" href=https://colab.research.google.com/notebooks/data_table.ipynb>data table notebook</a>'\n",
              "            + ' to learn more about interactive tables.';\n",
              "          element.innerHTML = '';\n",
              "          dataTable['output_type'] = 'display_data';\n",
              "          await google.colab.output.renderOutput(dataTable, element);\n",
              "          const docLink = document.createElement('div');\n",
              "          docLink.innerHTML = docLinkHtml;\n",
              "          element.appendChild(docLink);\n",
              "        }\n",
              "      </script>\n",
              "    </div>\n",
              "  </div>\n",
              "  "
            ]
          },
          "metadata": {},
          "execution_count": 57
        }
      ]
    },
    {
      "cell_type": "code",
      "metadata": {
        "id": "Az9DP60WQwME"
      },
      "source": [
        ""
      ],
      "execution_count": null,
      "outputs": []
    },
    {
      "cell_type": "markdown",
      "metadata": {
        "id": "rSN2AyoUhukD"
      },
      "source": [
        "Validemos la re-asignación de los valores"
      ]
    },
    {
      "cell_type": "code",
      "metadata": {
        "id": "ED45O4mPhiBG",
        "colab": {
          "base_uri": "https://localhost:8080/",
          "height": 296
        },
        "outputId": "ef639435-0cbe-4cc6-d19f-6dd7eb91bb04"
      },
      "source": [
        "df.iloc[108:110, 0 :1].plot()\n",
        "#df.iloc[111:113, 0:1]"
      ],
      "execution_count": null,
      "outputs": [
        {
          "output_type": "execute_result",
          "data": {
            "text/plain": [
              "<matplotlib.axes._subplots.AxesSubplot at 0x7f8b4e2d0a10>"
            ]
          },
          "metadata": {},
          "execution_count": 63
        },
        {
          "output_type": "display_data",
          "data": {
            "text/plain": [
              "<Figure size 432x288 with 1 Axes>"
            ],
            "image/png": "[encoded data removed]"
          },
          "metadata": {
            "needs_background": "light"
          }
        }
      ]
    },
    {
      "cell_type": "code",
      "metadata": {
        "colab": {
          "base_uri": "https://localhost:8080/",
          "height": 143
        },
        "id": "qXVrefyKmOV2",
        "outputId": "6e191562-f6d1-478d-f818-0620fd27764d"
      },
      "source": [
        "df.iloc[108:110, 0 :1] "
      ],
      "execution_count": null,
      "outputs": [
        {
          "output_type": "execute_result",
          "data": {
            "text/html": [
              "<div>\n",
              "<style scoped>\n",
              "    .dataframe tbody tr th:only-of-type {\n",
              "        vertical-align: middle;\n",
              "    }\n",
              "\n",
              "    .dataframe tbody tr th {\n",
              "        vertical-align: top;\n",
              "    }\n",
              "\n",
              "    .dataframe thead th {\n",
              "        text-align: right;\n",
              "    }\n",
              "</style>\n",
              "<table border=\"1\" class=\"dataframe\">\n",
              "  <thead>\n",
              "    <tr style=\"text-align: right;\">\n",
              "      <th></th>\n",
              "      <th>Producto1</th>\n",
              "    </tr>\n",
              "    <tr>\n",
              "      <th>Fecha</th>\n",
              "      <th></th>\n",
              "    </tr>\n",
              "  </thead>\n",
              "  <tbody>\n",
              "    <tr>\n",
              "      <th>2009-04-19</th>\n",
              "      <td>998</td>\n",
              "    </tr>\n",
              "    <tr>\n",
              "      <th>2009-04-20</th>\n",
              "      <td>1000</td>\n",
              "    </tr>\n",
              "  </tbody>\n",
              "</table>\n",
              "</div>"
            ],
            "text/plain": [
              "            Producto1\n",
              "Fecha                \n",
              "2009-04-19        998\n",
              "2009-04-20       1000"
            ]
          },
          "metadata": {},
          "execution_count": 45
        }
      ]
    },
    {
      "cell_type": "markdown",
      "metadata": {
        "id": "ZkASh8amHAZJ"
      },
      "source": [
        "<p><a name=\"organizacionDF\"></a></p>\n",
        "\n",
        "## 2.4. Organización de dataframes\n",
        "El método `sort_values` permite organizar los dataframes con base a los valores de las columnas o las filas"
      ]
    },
    {
      "cell_type": "code",
      "metadata": {
        "id": "mH5XUssqzRTP",
        "colab": {
          "base_uri": "https://localhost:8080/",
          "height": 455
        },
        "outputId": "998632ec-33da-43df-ffa8-839930605719"
      },
      "source": [
        "df.sort_values(by=[\"Producto1\", \"Producto2\"],ascending=False)"
      ],
      "execution_count": null,
      "outputs": [
        {
          "output_type": "execute_result",
          "data": {
            "text/plain": [
              "            Producto1  Producto2  Producto3    Producto4\n",
              "Fecha                                                   \n",
              "2009-07-09       6626       4227       5751  7575.000000\n",
              "2009-06-17       6320       3388       6047  2576.359551\n",
              "2009-07-10       6274       4242       5435  7268.000000\n",
              "2009-07-15       6100       3767       5536  6939.000000\n",
              "2009-06-05       6028       4120       4223  2576.359551\n",
              "...               ...        ...        ...          ...\n",
              "2009-04-12          0          0          0  2576.359551\n",
              "2009-04-13          0          0          0  2576.359551\n",
              "2009-04-14          0          0          0  2576.359551\n",
              "2009-04-15          0          0          0  2576.359551\n",
              "2009-04-16          0          0          0  2576.359551\n",
              "\n",
              "[365 rows x 4 columns]"
            ],
            "text/html": [
              "\n",
              "  <div id=\"df-e889058b-0e5b-40b3-96c9-0e76d9bebffb\">\n",
              "    <div class=\"colab-df-container\">\n",
              "      <div>\n",
              "<style scoped>\n",
              "    .dataframe tbody tr th:only-of-type {\n",
              "        vertical-align: middle;\n",
              "    }\n",
              "\n",
              "    .dataframe tbody tr th {\n",
              "        vertical-align: top;\n",
              "    }\n",
              "\n",
              "    .dataframe thead th {\n",
              "        text-align: right;\n",
              "    }\n",
              "</style>\n",
              "<table border=\"1\" class=\"dataframe\">\n",
              "  <thead>\n",
              "    <tr style=\"text-align: right;\">\n",
              "      <th></th>\n",
              "      <th>Producto1</th>\n",
              "      <th>Producto2</th>\n",
              "      <th>Producto3</th>\n",
              "      <th>Producto4</th>\n",
              "    </tr>\n",
              "    <tr>\n",
              "      <th>Fecha</th>\n",
              "      <th></th>\n",
              "      <th></th>\n",
              "      <th></th>\n",
              "      <th></th>\n",
              "    </tr>\n",
              "  </thead>\n",
              "  <tbody>\n",
              "    <tr>\n",
              "      <th>2009-07-09</th>\n",
              "      <td>6626</td>\n",
              "      <td>4227</td>\n",
              "      <td>5751</td>\n",
              "      <td>7575.000000</td>\n",
              "    </tr>\n",
              "    <tr>\n",
              "      <th>2009-06-17</th>\n",
              "      <td>6320</td>\n",
              "      <td>3388</td>\n",
              "      <td>6047</td>\n",
              "      <td>2576.359551</td>\n",
              "    </tr>\n",
              "    <tr>\n",
              "      <th>2009-07-10</th>\n",
              "      <td>6274</td>\n",
              "      <td>4242</td>\n",
              "      <td>5435</td>\n",
              "      <td>7268.000000</td>\n",
              "    </tr>\n",
              "    <tr>\n",
              "      <th>2009-07-15</th>\n",
              "      <td>6100</td>\n",
              "      <td>3767</td>\n",
              "      <td>5536</td>\n",
              "      <td>6939.000000</td>\n",
              "    </tr>\n",
              "    <tr>\n",
              "      <th>2009-06-05</th>\n",
              "      <td>6028</td>\n",
              "      <td>4120</td>\n",
              "      <td>4223</td>\n",
              "      <td>2576.359551</td>\n",
              "    </tr>\n",
              "    <tr>\n",
              "      <th>...</th>\n",
              "      <td>...</td>\n",
              "      <td>...</td>\n",
              "      <td>...</td>\n",
              "      <td>...</td>\n",
              "    </tr>\n",
              "    <tr>\n",
              "      <th>2009-04-12</th>\n",
              "      <td>0</td>\n",
              "      <td>0</td>\n",
              "      <td>0</td>\n",
              "      <td>2576.359551</td>\n",
              "    </tr>\n",
              "    <tr>\n",
              "      <th>2009-04-13</th>\n",
              "      <td>0</td>\n",
              "      <td>0</td>\n",
              "      <td>0</td>\n",
              "      <td>2576.359551</td>\n",
              "    </tr>\n",
              "    <tr>\n",
              "      <th>2009-04-14</th>\n",
              "      <td>0</td>\n",
              "      <td>0</td>\n",
              "      <td>0</td>\n",
              "      <td>2576.359551</td>\n",
              "    </tr>\n",
              "    <tr>\n",
              "      <th>2009-04-15</th>\n",
              "      <td>0</td>\n",
              "      <td>0</td>\n",
              "      <td>0</td>\n",
              "      <td>2576.359551</td>\n",
              "    </tr>\n",
              "    <tr>\n",
              "      <th>2009-04-16</th>\n",
              "      <td>0</td>\n",
              "      <td>0</td>\n",
              "      <td>0</td>\n",
              "      <td>2576.359551</td>\n",
              "    </tr>\n",
              "  </tbody>\n",
              "</table>\n",
              "<p>365 rows × 4 columns</p>\n",
              "</div>\n",
              "      <button class=\"colab-df-convert\" onclick=\"convertToInteractive('df-e889058b-0e5b-40b3-96c9-0e76d9bebffb')\"\n",
              "              title=\"Convert this dataframe to an interactive table.\"\n",
              "              style=\"display:none;\">\n",
              "        \n",
              "  <svg xmlns=\"http://www.w3.org/2000/svg\" height=\"24px\"viewBox=\"0 0 24 24\"\n",
              "       width=\"24px\">\n",
              "    <path d=\"M0 0h24v24H0V0z\" fill=\"none\"/>\n",
              "    <path d=\"M18.56 5.44l.94 2.06.94-2.06 2.06-.94-2.06-.94-.94-2.06-.94 2.06-2.06.94zm-11 1L8.5 8.5l.94-2.06 2.06-.94-2.06-.94L8.5 2.5l-.94 2.06-2.06.94zm10 10l.94 2.06.94-2.06 2.06-.94-2.06-.94-.94-2.06-.94 2.06-2.06.94z\"/><path d=\"M17.41 7.96l-1.37-1.37c-.4-.4-.92-.59-1.43-.59-.52 0-1.04.2-1.43.59L10.3 9.45l-7.72 7.72c-.78.78-.78 2.05 0 2.83L4 21.41c.39.39.9.59 1.41.59.51 0 1.02-.2 1.41-.59l7.78-7.78 2.81-2.81c.8-.78.8-2.07 0-2.86zM5.41 20L4 18.59l7.72-7.72 1.47 1.35L5.41 20z\"/>\n",
              "  </svg>\n",
              "      </button>\n",
              "      \n",
              "  <style>\n",
              "    .colab-df-container {\n",
              "      display:flex;\n",
              "      flex-wrap:wrap;\n",
              "      gap: 12px;\n",
              "    }\n",
              "\n",
              "    .colab-df-convert {\n",
              "      background-color: #E8F0FE;\n",
              "      border: none;\n",
              "      border-radius: 50%;\n",
              "      cursor: pointer;\n",
              "      display: none;\n",
              "      fill: #1967D2;\n",
              "      height: 32px;\n",
              "      padding: 0 0 0 0;\n",
              "      width: 32px;\n",
              "    }\n",
              "\n",
              "    .colab-df-convert:hover {\n",
              "      background-color: #E2EBFA;\n",
              "      box-shadow: 0px 1px 2px rgba(60, 64, 67, 0.3), 0px 1px 3px 1px rgba(60, 64, 67, 0.15);\n",
              "      fill: #174EA6;\n",
              "    }\n",
              "\n",
              "    [theme=dark] .colab-df-convert {\n",
              "      background-color: #3B4455;\n",
              "      fill: #D2E3FC;\n",
              "    }\n",
              "\n",
              "    [theme=dark] .colab-df-convert:hover {\n",
              "      background-color: #434B5C;\n",
              "      box-shadow: 0px 1px 3px 1px rgba(0, 0, 0, 0.15);\n",
              "      filter: drop-shadow(0px 1px 2px rgba(0, 0, 0, 0.3));\n",
              "      fill: #FFFFFF;\n",
              "    }\n",
              "  </style>\n",
              "\n",
              "      <script>\n",
              "        const buttonEl =\n",
              "          document.querySelector('#df-e889058b-0e5b-40b3-96c9-0e76d9bebffb button.colab-df-convert');\n",
              "        buttonEl.style.display =\n",
              "          google.colab.kernel.accessAllowed ? 'block' : 'none';\n",
              "\n",
              "        async function convertToInteractive(key) {\n",
              "          const element = document.querySelector('#df-e889058b-0e5b-40b3-96c9-0e76d9bebffb');\n",
              "          const dataTable =\n",
              "            await google.colab.kernel.invokeFunction('convertToInteractive',\n",
              "                                                     [key], {});\n",
              "          if (!dataTable) return;\n",
              "\n",
              "          const docLinkHtml = 'Like what you see? Visit the ' +\n",
              "            '<a target=\"_blank\" href=https://colab.research.google.com/notebooks/data_table.ipynb>data table notebook</a>'\n",
              "            + ' to learn more about interactive tables.';\n",
              "          element.innerHTML = '';\n",
              "          dataTable['output_type'] = 'display_data';\n",
              "          await google.colab.output.renderOutput(dataTable, element);\n",
              "          const docLink = document.createElement('div');\n",
              "          docLink.innerHTML = docLinkHtml;\n",
              "          element.appendChild(docLink);\n",
              "        }\n",
              "      </script>\n",
              "    </div>\n",
              "  </div>\n",
              "  "
            ]
          },
          "metadata": {},
          "execution_count": 60
        }
      ]
    },
    {
      "cell_type": "code",
      "metadata": {
        "id": "XglIwPSCRbtK",
        "colab": {
          "base_uri": "https://localhost:8080/",
          "height": 454
        },
        "outputId": "0db78f92-6703-46c4-81fb-0fbb3ee40d1a"
      },
      "source": [
        "df"
      ],
      "execution_count": null,
      "outputs": [
        {
          "output_type": "execute_result",
          "data": {
            "text/html": [
              "<div>\n",
              "<style scoped>\n",
              "    .dataframe tbody tr th:only-of-type {\n",
              "        vertical-align: middle;\n",
              "    }\n",
              "\n",
              "    .dataframe tbody tr th {\n",
              "        vertical-align: top;\n",
              "    }\n",
              "\n",
              "    .dataframe thead th {\n",
              "        text-align: right;\n",
              "    }\n",
              "</style>\n",
              "<table border=\"1\" class=\"dataframe\">\n",
              "  <thead>\n",
              "    <tr style=\"text-align: right;\">\n",
              "      <th></th>\n",
              "      <th>Producto1</th>\n",
              "      <th>Producto2</th>\n",
              "      <th>Producto3</th>\n",
              "      <th>Producto4</th>\n",
              "    </tr>\n",
              "    <tr>\n",
              "      <th>Fecha</th>\n",
              "      <th></th>\n",
              "      <th></th>\n",
              "      <th></th>\n",
              "      <th></th>\n",
              "    </tr>\n",
              "  </thead>\n",
              "  <tbody>\n",
              "    <tr>\n",
              "      <th>2009-01-01</th>\n",
              "      <td>29</td>\n",
              "      <td>20</td>\n",
              "      <td>35</td>\n",
              "      <td>2576.359551</td>\n",
              "    </tr>\n",
              "    <tr>\n",
              "      <th>2009-01-02</th>\n",
              "      <td>19</td>\n",
              "      <td>3</td>\n",
              "      <td>22</td>\n",
              "      <td>2576.359551</td>\n",
              "    </tr>\n",
              "    <tr>\n",
              "      <th>2009-01-03</th>\n",
              "      <td>24</td>\n",
              "      <td>12</td>\n",
              "      <td>22</td>\n",
              "      <td>2576.359551</td>\n",
              "    </tr>\n",
              "    <tr>\n",
              "      <th>2009-01-04</th>\n",
              "      <td>24</td>\n",
              "      <td>8</td>\n",
              "      <td>15</td>\n",
              "      <td>2576.359551</td>\n",
              "    </tr>\n",
              "    <tr>\n",
              "      <th>2009-01-05</th>\n",
              "      <td>120</td>\n",
              "      <td>111</td>\n",
              "      <td>141</td>\n",
              "      <td>2576.359551</td>\n",
              "    </tr>\n",
              "    <tr>\n",
              "      <th>...</th>\n",
              "      <td>...</td>\n",
              "      <td>...</td>\n",
              "      <td>...</td>\n",
              "      <td>...</td>\n",
              "    </tr>\n",
              "    <tr>\n",
              "      <th>2009-12-27</th>\n",
              "      <td>66</td>\n",
              "      <td>29</td>\n",
              "      <td>52</td>\n",
              "      <td>0.000000</td>\n",
              "    </tr>\n",
              "    <tr>\n",
              "      <th>2009-12-28</th>\n",
              "      <td>61</td>\n",
              "      <td>41</td>\n",
              "      <td>99</td>\n",
              "      <td>0.000000</td>\n",
              "    </tr>\n",
              "    <tr>\n",
              "      <th>2009-12-29</th>\n",
              "      <td>89</td>\n",
              "      <td>52</td>\n",
              "      <td>115</td>\n",
              "      <td>0.000000</td>\n",
              "    </tr>\n",
              "    <tr>\n",
              "      <th>2009-12-30</th>\n",
              "      <td>76</td>\n",
              "      <td>43</td>\n",
              "      <td>115</td>\n",
              "      <td>0.000000</td>\n",
              "    </tr>\n",
              "    <tr>\n",
              "      <th>2009-12-31</th>\n",
              "      <td>53</td>\n",
              "      <td>46</td>\n",
              "      <td>112</td>\n",
              "      <td>0.000000</td>\n",
              "    </tr>\n",
              "  </tbody>\n",
              "</table>\n",
              "<p>365 rows × 4 columns</p>\n",
              "</div>"
            ],
            "text/plain": [
              "            Producto1  Producto2  Producto3    Producto4\n",
              "Fecha                                                   \n",
              "2009-01-01         29         20         35  2576.359551\n",
              "2009-01-02         19          3         22  2576.359551\n",
              "2009-01-03         24         12         22  2576.359551\n",
              "2009-01-04         24          8         15  2576.359551\n",
              "2009-01-05        120        111        141  2576.359551\n",
              "...               ...        ...        ...          ...\n",
              "2009-12-27         66         29         52     0.000000\n",
              "2009-12-28         61         41         99     0.000000\n",
              "2009-12-29         89         52        115     0.000000\n",
              "2009-12-30         76         43        115     0.000000\n",
              "2009-12-31         53         46        112     0.000000\n",
              "\n",
              "[365 rows x 4 columns]"
            ]
          },
          "metadata": {},
          "execution_count": 47
        }
      ]
    },
    {
      "cell_type": "code",
      "metadata": {
        "id": "TtJetaUdROMR"
      },
      "source": [
        "df.sort_values?"
      ],
      "execution_count": null,
      "outputs": []
    },
    {
      "cell_type": "markdown",
      "metadata": {
        "id": "hAo8K_5pzjjA"
      },
      "source": [
        "<p><a name=\"graficasPandas\"></a></p>\n",
        "\n",
        "## 2.5. Graficando desde pandas\n",
        "Pandas permite realizar algunas gráficas directamente con el comando `DataFrame.plot()`.   "
      ]
    },
    {
      "cell_type": "code",
      "metadata": {
        "id": "s3PyHmNH02_H",
        "colab": {
          "base_uri": "https://localhost:8080/",
          "height": 296
        },
        "outputId": "789689a8-8865-4654-c766-a1b6f7a81fdd"
      },
      "source": [
        "df.plot(y='Producto2',x='Producto1',kind='scatter',)"
      ],
      "execution_count": null,
      "outputs": [
        {
          "output_type": "execute_result",
          "data": {
            "text/plain": [
              "<matplotlib.axes._subplots.AxesSubplot at 0x7f8b4e926490>"
            ]
          },
          "metadata": {},
          "execution_count": 61
        },
        {
          "output_type": "display_data",
          "data": {
            "text/plain": [
              "<Figure size 432x288 with 1 Axes>"
            ],
            "image/png": "[encoded data removed]"
          },
          "metadata": {
            "needs_background": "light"
          }
        }
      ]
    },
    {
      "cell_type": "code",
      "metadata": {
        "id": "sGFfkAxpzWnJ",
        "colab": {
          "base_uri": "https://localhost:8080/",
          "height": 253
        },
        "outputId": "39e24411-2178-4ec7-bfee-cb49a0dfc8e9"
      },
      "source": [
        "import matplotlib.pyplot as plt\n",
        "\n",
        "df.plot(figsize=(15,3),)\n",
        "plt.ylabel(\"Cantidad de productos\")\n",
        "plt.title('Titulp')\n",
        "plt.show()"
      ],
      "execution_count": null,
      "outputs": [
        {
          "output_type": "display_data",
          "data": {
            "text/plain": [
              "<Figure size 1080x216 with 1 Axes>"
            ],
            "image/png": "[encoded data removed]"
          },
          "metadata": {
            "needs_background": "light"
          }
        }
      ]
    },
    {
      "cell_type": "code",
      "metadata": {
        "id": "a6MERvkCYIU2"
      },
      "source": [
        "df.plot?"
      ],
      "execution_count": null,
      "outputs": []
    },
    {
      "cell_type": "markdown",
      "metadata": {
        "id": "FbXvkQgdinjx"
      },
      "source": [
        "Además de gráficos de línea, pandas tiene otro tipo de gráficos los cuales se puede usar con el argumento `kind` dentro del método DataFrame.plot(). Los otro gráficos disponibles son:\n",
        "\n",
        "* `'bar'` or `'barh'` for bar plots\n",
        "* `'hist'` for histogram\n",
        "* `'box'` for boxplot\n",
        "* `'kde'` or `'density'` for density plots\n",
        "* ‘`'area'` for area plots\n",
        "* `'scatter'` for scatter plots\n",
        "* `'hexbin'` for hexagonal bin plots\n",
        "* `'pie'` for pie plots"
      ]
    },
    {
      "cell_type": "code",
      "metadata": {
        "id": "V0ftRiDyoG2_",
        "colab": {
          "base_uri": "https://localhost:8080/",
          "height": 279
        },
        "outputId": "66aae54e-ec30-415d-df01-c38e7dc2e3cb"
      },
      "source": [
        "import matplotlib.pyplot as plt\n",
        "df.Producto1.plot(kind='hist', grid=False, bins=8)\n",
        "\n",
        "plt.xlabel('Numero de productos')\n",
        "plt.show()"
      ],
      "execution_count": null,
      "outputs": [
        {
          "output_type": "display_data",
          "data": {
            "text/plain": [
              "<Figure size 432x288 with 1 Axes>"
            ],
            "image/png": "[encoded data removed]"
          },
          "metadata": {
            "needs_background": "light"
          }
        }
      ]
    },
    {
      "cell_type": "code",
      "metadata": {
        "id": "0xC0aaJKbKUW"
      },
      "source": [
        "a=np.array([1,1,1,1,1,1,1])"
      ],
      "execution_count": null,
      "outputs": []
    },
    {
      "cell_type": "code",
      "metadata": {
        "id": "z0bzZ0E4tM33"
      },
      "source": [
        "import math"
      ],
      "execution_count": null,
      "outputs": []
    },
    {
      "cell_type": "code",
      "metadata": {
        "colab": {
          "base_uri": "https://localhost:8080/",
          "height": 171
        },
        "id": "o7_Wm_ybtOjY",
        "outputId": "577d29e0-0e3b-432e-f908-f659be1240dc"
      },
      "source": [
        "math.cos(a)"
      ],
      "execution_count": null,
      "outputs": [
        {
          "output_type": "error",
          "ename": "TypeError",
          "evalue": "ignored",
          "traceback": [
            "\u001b[0;31m---------------------------------------------------------------------------\u001b[0m",
            "\u001b[0;31mTypeError\u001b[0m                                 Traceback (most recent call last)",
            "\u001b[0;32m<ipython-input-55-60ba4a8164bc>\u001b[0m in \u001b[0;36m<module>\u001b[0;34m()\u001b[0m\n\u001b[0;32m----> 1\u001b[0;31m \u001b[0mmath\u001b[0m\u001b[0;34m.\u001b[0m\u001b[0mcos\u001b[0m\u001b[0;34m(\u001b[0m\u001b[0ma\u001b[0m\u001b[0;34m)\u001b[0m\u001b[0;34m\u001b[0m\u001b[0;34m\u001b[0m\u001b[0m\n\u001b[0m",
            "\u001b[0;31mTypeError\u001b[0m: only size-1 arrays can be converted to Python scalars"
          ]
        }
      ]
    },
    {
      "cell_type": "markdown",
      "metadata": {
        "id": "f_22rRw1W3kL"
      },
      "source": [
        "<p><a name=\"operacionesColFil\"></a></p>\n",
        "\n",
        "## 2.6. Operaciones con columnas y filas\n",
        "La función `apply` regresa algún valor después de aplicarle una función a cada columna/fila del dataframe. \n"
      ]
    },
    {
      "cell_type": "code",
      "metadata": {
        "id": "eCyZEb3zW2r0"
      },
      "source": [
        "df['Producto3sqrt']=df.Producto3.apply(np.sqrt)"
      ],
      "execution_count": null,
      "outputs": []
    },
    {
      "cell_type": "code",
      "metadata": {
        "id": "yUNmqGbsYRD5",
        "colab": {
          "base_uri": "https://localhost:8080/",
          "height": 237
        },
        "outputId": "158912b7-17be-4036-ff95-f8600a15fb5c"
      },
      "source": [
        "df.tail()"
      ],
      "execution_count": null,
      "outputs": [
        {
          "output_type": "execute_result",
          "data": {
            "text/plain": [
              "            Producto1  Producto2  Producto3  Producto4  Producto3sqrt\n",
              "Fecha                                                                \n",
              "2009-12-27         66         29         52        0.0       7.211103\n",
              "2009-12-28         61         41         99        0.0       9.949874\n",
              "2009-12-29         89         52        115        0.0      10.723805\n",
              "2009-12-30         76         43        115        0.0      10.723805\n",
              "2009-12-31         53         46        112        0.0      10.583005"
            ],
            "text/html": [
              "\n",
              "  <div id=\"df-d4c1c478-1bad-4e89-9b8f-0461f226edac\">\n",
              "    <div class=\"colab-df-container\">\n",
              "      <div>\n",
              "<style scoped>\n",
              "    .dataframe tbody tr th:only-of-type {\n",
              "        vertical-align: middle;\n",
              "    }\n",
              "\n",
              "    .dataframe tbody tr th {\n",
              "        vertical-align: top;\n",
              "    }\n",
              "\n",
              "    .dataframe thead th {\n",
              "        text-align: right;\n",
              "    }\n",
              "</style>\n",
              "<table border=\"1\" class=\"dataframe\">\n",
              "  <thead>\n",
              "    <tr style=\"text-align: right;\">\n",
              "      <th></th>\n",
              "      <th>Producto1</th>\n",
              "      <th>Producto2</th>\n",
              "      <th>Producto3</th>\n",
              "      <th>Producto4</th>\n",
              "      <th>Producto3sqrt</th>\n",
              "    </tr>\n",
              "    <tr>\n",
              "      <th>Fecha</th>\n",
              "      <th></th>\n",
              "      <th></th>\n",
              "      <th></th>\n",
              "      <th></th>\n",
              "      <th></th>\n",
              "    </tr>\n",
              "  </thead>\n",
              "  <tbody>\n",
              "    <tr>\n",
              "      <th>2009-12-27</th>\n",
              "      <td>66</td>\n",
              "      <td>29</td>\n",
              "      <td>52</td>\n",
              "      <td>0.0</td>\n",
              "      <td>7.211103</td>\n",
              "    </tr>\n",
              "    <tr>\n",
              "      <th>2009-12-28</th>\n",
              "      <td>61</td>\n",
              "      <td>41</td>\n",
              "      <td>99</td>\n",
              "      <td>0.0</td>\n",
              "      <td>9.949874</td>\n",
              "    </tr>\n",
              "    <tr>\n",
              "      <th>2009-12-29</th>\n",
              "      <td>89</td>\n",
              "      <td>52</td>\n",
              "      <td>115</td>\n",
              "      <td>0.0</td>\n",
              "      <td>10.723805</td>\n",
              "    </tr>\n",
              "    <tr>\n",
              "      <th>2009-12-30</th>\n",
              "      <td>76</td>\n",
              "      <td>43</td>\n",
              "      <td>115</td>\n",
              "      <td>0.0</td>\n",
              "      <td>10.723805</td>\n",
              "    </tr>\n",
              "    <tr>\n",
              "      <th>2009-12-31</th>\n",
              "      <td>53</td>\n",
              "      <td>46</td>\n",
              "      <td>112</td>\n",
              "      <td>0.0</td>\n",
              "      <td>10.583005</td>\n",
              "    </tr>\n",
              "  </tbody>\n",
              "</table>\n",
              "</div>\n",
              "      <button class=\"colab-df-convert\" onclick=\"convertToInteractive('df-d4c1c478-1bad-4e89-9b8f-0461f226edac')\"\n",
              "              title=\"Convert this dataframe to an interactive table.\"\n",
              "              style=\"display:none;\">\n",
              "        \n",
              "  <svg xmlns=\"http://www.w3.org/2000/svg\" height=\"24px\"viewBox=\"0 0 24 24\"\n",
              "       width=\"24px\">\n",
              "    <path d=\"M0 0h24v24H0V0z\" fill=\"none\"/>\n",
              "    <path d=\"M18.56 5.44l.94 2.06.94-2.06 2.06-.94-2.06-.94-.94-2.06-.94 2.06-2.06.94zm-11 1L8.5 8.5l.94-2.06 2.06-.94-2.06-.94L8.5 2.5l-.94 2.06-2.06.94zm10 10l.94 2.06.94-2.06 2.06-.94-2.06-.94-.94-2.06-.94 2.06-2.06.94z\"/><path d=\"M17.41 7.96l-1.37-1.37c-.4-.4-.92-.59-1.43-.59-.52 0-1.04.2-1.43.59L10.3 9.45l-7.72 7.72c-.78.78-.78 2.05 0 2.83L4 21.41c.39.39.9.59 1.41.59.51 0 1.02-.2 1.41-.59l7.78-7.78 2.81-2.81c.8-.78.8-2.07 0-2.86zM5.41 20L4 18.59l7.72-7.72 1.47 1.35L5.41 20z\"/>\n",
              "  </svg>\n",
              "      </button>\n",
              "      \n",
              "  <style>\n",
              "    .colab-df-container {\n",
              "      display:flex;\n",
              "      flex-wrap:wrap;\n",
              "      gap: 12px;\n",
              "    }\n",
              "\n",
              "    .colab-df-convert {\n",
              "      background-color: #E8F0FE;\n",
              "      border: none;\n",
              "      border-radius: 50%;\n",
              "      cursor: pointer;\n",
              "      display: none;\n",
              "      fill: #1967D2;\n",
              "      height: 32px;\n",
              "      padding: 0 0 0 0;\n",
              "      width: 32px;\n",
              "    }\n",
              "\n",
              "    .colab-df-convert:hover {\n",
              "      background-color: #E2EBFA;\n",
              "      box-shadow: 0px 1px 2px rgba(60, 64, 67, 0.3), 0px 1px 3px 1px rgba(60, 64, 67, 0.15);\n",
              "      fill: #174EA6;\n",
              "    }\n",
              "\n",
              "    [theme=dark] .colab-df-convert {\n",
              "      background-color: #3B4455;\n",
              "      fill: #D2E3FC;\n",
              "    }\n",
              "\n",
              "    [theme=dark] .colab-df-convert:hover {\n",
              "      background-color: #434B5C;\n",
              "      box-shadow: 0px 1px 3px 1px rgba(0, 0, 0, 0.15);\n",
              "      filter: drop-shadow(0px 1px 2px rgba(0, 0, 0, 0.3));\n",
              "      fill: #FFFFFF;\n",
              "    }\n",
              "  </style>\n",
              "\n",
              "      <script>\n",
              "        const buttonEl =\n",
              "          document.querySelector('#df-d4c1c478-1bad-4e89-9b8f-0461f226edac button.colab-df-convert');\n",
              "        buttonEl.style.display =\n",
              "          google.colab.kernel.accessAllowed ? 'block' : 'none';\n",
              "\n",
              "        async function convertToInteractive(key) {\n",
              "          const element = document.querySelector('#df-d4c1c478-1bad-4e89-9b8f-0461f226edac');\n",
              "          const dataTable =\n",
              "            await google.colab.kernel.invokeFunction('convertToInteractive',\n",
              "                                                     [key], {});\n",
              "          if (!dataTable) return;\n",
              "\n",
              "          const docLinkHtml = 'Like what you see? Visit the ' +\n",
              "            '<a target=\"_blank\" href=https://colab.research.google.com/notebooks/data_table.ipynb>data table notebook</a>'\n",
              "            + ' to learn more about interactive tables.';\n",
              "          element.innerHTML = '';\n",
              "          dataTable['output_type'] = 'display_data';\n",
              "          await google.colab.output.renderOutput(dataTable, element);\n",
              "          const docLink = document.createElement('div');\n",
              "          docLink.innerHTML = docLinkHtml;\n",
              "          element.appendChild(docLink);\n",
              "        }\n",
              "      </script>\n",
              "    </div>\n",
              "  </div>\n",
              "  "
            ]
          },
          "metadata": {},
          "execution_count": 67
        }
      ]
    },
    {
      "cell_type": "code",
      "metadata": {
        "id": "isWUHsqWvBQO"
      },
      "source": [
        "df['Total']=df['Producto1']+df['Producto2']+df['Producto3']"
      ],
      "execution_count": null,
      "outputs": []
    },
    {
      "cell_type": "code",
      "metadata": {
        "colab": {
          "base_uri": "https://localhost:8080/",
          "height": 237
        },
        "id": "aAh6BDHAvN5U",
        "outputId": "79364388-6e9c-4c68-fcbf-5463fbcdc766"
      },
      "source": [
        "df.head()"
      ],
      "execution_count": null,
      "outputs": [
        {
          "output_type": "execute_result",
          "data": {
            "text/plain": [
              "            Producto1  Producto2  Producto3    Producto4  Producto3sqrt  Total\n",
              "Fecha                                                                         \n",
              "2009-01-01         29         20         35  2576.359551       5.916080     84\n",
              "2009-01-02         19          3         22  2576.359551       4.690416     44\n",
              "2009-01-03         24         12         22  2576.359551       4.690416     58\n",
              "2009-01-04         24          8         15  2576.359551       3.872983     47\n",
              "2009-01-05        120        111        141  2576.359551      11.874342    372"
            ],
            "text/html": [
              "\n",
              "  <div id=\"df-8c82dc49-5c51-4744-a8ba-33f68345e120\">\n",
              "    <div class=\"colab-df-container\">\n",
              "      <div>\n",
              "<style scoped>\n",
              "    .dataframe tbody tr th:only-of-type {\n",
              "        vertical-align: middle;\n",
              "    }\n",
              "\n",
              "    .dataframe tbody tr th {\n",
              "        vertical-align: top;\n",
              "    }\n",
              "\n",
              "    .dataframe thead th {\n",
              "        text-align: right;\n",
              "    }\n",
              "</style>\n",
              "<table border=\"1\" class=\"dataframe\">\n",
              "  <thead>\n",
              "    <tr style=\"text-align: right;\">\n",
              "      <th></th>\n",
              "      <th>Producto1</th>\n",
              "      <th>Producto2</th>\n",
              "      <th>Producto3</th>\n",
              "      <th>Producto4</th>\n",
              "      <th>Producto3sqrt</th>\n",
              "      <th>Total</th>\n",
              "    </tr>\n",
              "    <tr>\n",
              "      <th>Fecha</th>\n",
              "      <th></th>\n",
              "      <th></th>\n",
              "      <th></th>\n",
              "      <th></th>\n",
              "      <th></th>\n",
              "      <th></th>\n",
              "    </tr>\n",
              "  </thead>\n",
              "  <tbody>\n",
              "    <tr>\n",
              "      <th>2009-01-01</th>\n",
              "      <td>29</td>\n",
              "      <td>20</td>\n",
              "      <td>35</td>\n",
              "      <td>2576.359551</td>\n",
              "      <td>5.916080</td>\n",
              "      <td>84</td>\n",
              "    </tr>\n",
              "    <tr>\n",
              "      <th>2009-01-02</th>\n",
              "      <td>19</td>\n",
              "      <td>3</td>\n",
              "      <td>22</td>\n",
              "      <td>2576.359551</td>\n",
              "      <td>4.690416</td>\n",
              "      <td>44</td>\n",
              "    </tr>\n",
              "    <tr>\n",
              "      <th>2009-01-03</th>\n",
              "      <td>24</td>\n",
              "      <td>12</td>\n",
              "      <td>22</td>\n",
              "      <td>2576.359551</td>\n",
              "      <td>4.690416</td>\n",
              "      <td>58</td>\n",
              "    </tr>\n",
              "    <tr>\n",
              "      <th>2009-01-04</th>\n",
              "      <td>24</td>\n",
              "      <td>8</td>\n",
              "      <td>15</td>\n",
              "      <td>2576.359551</td>\n",
              "      <td>3.872983</td>\n",
              "      <td>47</td>\n",
              "    </tr>\n",
              "    <tr>\n",
              "      <th>2009-01-05</th>\n",
              "      <td>120</td>\n",
              "      <td>111</td>\n",
              "      <td>141</td>\n",
              "      <td>2576.359551</td>\n",
              "      <td>11.874342</td>\n",
              "      <td>372</td>\n",
              "    </tr>\n",
              "  </tbody>\n",
              "</table>\n",
              "</div>\n",
              "      <button class=\"colab-df-convert\" onclick=\"convertToInteractive('df-8c82dc49-5c51-4744-a8ba-33f68345e120')\"\n",
              "              title=\"Convert this dataframe to an interactive table.\"\n",
              "              style=\"display:none;\">\n",
              "        \n",
              "  <svg xmlns=\"http://www.w3.org/2000/svg\" height=\"24px\"viewBox=\"0 0 24 24\"\n",
              "       width=\"24px\">\n",
              "    <path d=\"M0 0h24v24H0V0z\" fill=\"none\"/>\n",
              "    <path d=\"M18.56 5.44l.94 2.06.94-2.06 2.06-.94-2.06-.94-.94-2.06-.94 2.06-2.06.94zm-11 1L8.5 8.5l.94-2.06 2.06-.94-2.06-.94L8.5 2.5l-.94 2.06-2.06.94zm10 10l.94 2.06.94-2.06 2.06-.94-2.06-.94-.94-2.06-.94 2.06-2.06.94z\"/><path d=\"M17.41 7.96l-1.37-1.37c-.4-.4-.92-.59-1.43-.59-.52 0-1.04.2-1.43.59L10.3 9.45l-7.72 7.72c-.78.78-.78 2.05 0 2.83L4 21.41c.39.39.9.59 1.41.59.51 0 1.02-.2 1.41-.59l7.78-7.78 2.81-2.81c.8-.78.8-2.07 0-2.86zM5.41 20L4 18.59l7.72-7.72 1.47 1.35L5.41 20z\"/>\n",
              "  </svg>\n",
              "      </button>\n",
              "      \n",
              "  <style>\n",
              "    .colab-df-container {\n",
              "      display:flex;\n",
              "      flex-wrap:wrap;\n",
              "      gap: 12px;\n",
              "    }\n",
              "\n",
              "    .colab-df-convert {\n",
              "      background-color: #E8F0FE;\n",
              "      border: none;\n",
              "      border-radius: 50%;\n",
              "      cursor: pointer;\n",
              "      display: none;\n",
              "      fill: #1967D2;\n",
              "      height: 32px;\n",
              "      padding: 0 0 0 0;\n",
              "      width: 32px;\n",
              "    }\n",
              "\n",
              "    .colab-df-convert:hover {\n",
              "      background-color: #E2EBFA;\n",
              "      box-shadow: 0px 1px 2px rgba(60, 64, 67, 0.3), 0px 1px 3px 1px rgba(60, 64, 67, 0.15);\n",
              "      fill: #174EA6;\n",
              "    }\n",
              "\n",
              "    [theme=dark] .colab-df-convert {\n",
              "      background-color: #3B4455;\n",
              "      fill: #D2E3FC;\n",
              "    }\n",
              "\n",
              "    [theme=dark] .colab-df-convert:hover {\n",
              "      background-color: #434B5C;\n",
              "      box-shadow: 0px 1px 3px 1px rgba(0, 0, 0, 0.15);\n",
              "      filter: drop-shadow(0px 1px 2px rgba(0, 0, 0, 0.3));\n",
              "      fill: #FFFFFF;\n",
              "    }\n",
              "  </style>\n",
              "\n",
              "      <script>\n",
              "        const buttonEl =\n",
              "          document.querySelector('#df-8c82dc49-5c51-4744-a8ba-33f68345e120 button.colab-df-convert');\n",
              "        buttonEl.style.display =\n",
              "          google.colab.kernel.accessAllowed ? 'block' : 'none';\n",
              "\n",
              "        async function convertToInteractive(key) {\n",
              "          const element = document.querySelector('#df-8c82dc49-5c51-4744-a8ba-33f68345e120');\n",
              "          const dataTable =\n",
              "            await google.colab.kernel.invokeFunction('convertToInteractive',\n",
              "                                                     [key], {});\n",
              "          if (!dataTable) return;\n",
              "\n",
              "          const docLinkHtml = 'Like what you see? Visit the ' +\n",
              "            '<a target=\"_blank\" href=https://colab.research.google.com/notebooks/data_table.ipynb>data table notebook</a>'\n",
              "            + ' to learn more about interactive tables.';\n",
              "          element.innerHTML = '';\n",
              "          dataTable['output_type'] = 'display_data';\n",
              "          await google.colab.output.renderOutput(dataTable, element);\n",
              "          const docLink = document.createElement('div');\n",
              "          docLink.innerHTML = docLinkHtml;\n",
              "          element.appendChild(docLink);\n",
              "        }\n",
              "      </script>\n",
              "    </div>\n",
              "  </div>\n",
              "  "
            ]
          },
          "metadata": {},
          "execution_count": 69
        }
      ]
    },
    {
      "cell_type": "code",
      "metadata": {
        "id": "i3LBg-iZYbxY",
        "colab": {
          "base_uri": "https://localhost:8080/"
        },
        "outputId": "7fb46718-c2f0-4385-db9f-ab570180d64c"
      },
      "source": [
        "a =df.apply(np.sum, axis=1)\n",
        "a"
      ],
      "execution_count": null,
      "outputs": [
        {
          "output_type": "execute_result",
          "data": {
            "text/plain": [
              "Fecha\n",
              "2009-01-01    2750.275630\n",
              "2009-01-02    2669.049966\n",
              "2009-01-03    2697.049966\n",
              "2009-01-04    2674.232534\n",
              "2009-01-05    3332.233893\n",
              "                 ...     \n",
              "2009-12-27     301.211103\n",
              "2009-12-28     411.949874\n",
              "2009-12-29     522.723805\n",
              "2009-12-30     478.723805\n",
              "2009-12-31     432.583005\n",
              "Length: 365, dtype: float64"
            ]
          },
          "metadata": {},
          "execution_count": 70
        }
      ]
    },
    {
      "cell_type": "code",
      "source": [
        "type(df)"
      ],
      "metadata": {
        "colab": {
          "base_uri": "https://localhost:8080/"
        },
        "id": "CvvzBUXOsfJo",
        "outputId": "03dcbaee-8031-4aa7-93bb-e3a656286ac4"
      },
      "execution_count": null,
      "outputs": [
        {
          "output_type": "execute_result",
          "data": {
            "text/plain": [
              "pandas.core.frame.DataFrame"
            ]
          },
          "metadata": {},
          "execution_count": 71
        }
      ]
    },
    {
      "cell_type": "code",
      "metadata": {
        "colab": {
          "base_uri": "https://localhost:8080/"
        },
        "id": "lT7ISeFwOKRY",
        "outputId": "ab07e6cd-8c15-4f67-9ff9-b1a9c5dc6c12"
      },
      "source": [
        "type(a)"
      ],
      "execution_count": null,
      "outputs": [
        {
          "output_type": "execute_result",
          "data": {
            "text/plain": [
              "pandas.core.series.Series"
            ]
          },
          "metadata": {},
          "execution_count": 72
        }
      ]
    },
    {
      "cell_type": "code",
      "metadata": {
        "id": "kw2hTTsiolEn",
        "colab": {
          "base_uri": "https://localhost:8080/",
          "height": 266
        },
        "outputId": "e6c0ca00-90b0-4b97-b5a8-a1fea5bdc6f6"
      },
      "source": [
        "df.apply(np.sum, axis=0).plot(kind='pie',)"
      ],
      "execution_count": null,
      "outputs": [
        {
          "output_type": "execute_result",
          "data": {
            "text/plain": [
              "<matplotlib.axes._subplots.AxesSubplot at 0x7f75d093ecd0>"
            ]
          },
          "metadata": {},
          "execution_count": 62
        },
        {
          "output_type": "display_data",
          "data": {
            "image/png": "[encoded data removed]",
            "text/plain": [
              "<Figure size 432x288 with 1 Axes>"
            ]
          },
          "metadata": {}
        }
      ]
    },
    {
      "cell_type": "code",
      "metadata": {
        "colab": {
          "base_uri": "https://localhost:8080/"
        },
        "id": "olIlpQXcxKWi",
        "outputId": "5cd7da4c-5f54-40cb-9291-85bca20c06fe"
      },
      "source": [
        "df.info()"
      ],
      "execution_count": null,
      "outputs": [
        {
          "output_type": "stream",
          "name": "stdout",
          "text": [
            "<class 'pandas.core.frame.DataFrame'>\n",
            "DatetimeIndex: 365 entries, 2009-01-01 to 2009-12-31\n",
            "Data columns (total 6 columns):\n",
            " #   Column         Non-Null Count  Dtype  \n",
            "---  ------         --------------  -----  \n",
            " 0   Producto1      365 non-null    int64  \n",
            " 1   Producto2      365 non-null    int64  \n",
            " 2   Producto3      365 non-null    int64  \n",
            " 3   Producto4      365 non-null    float64\n",
            " 4   Producto3sqrt  365 non-null    float64\n",
            " 5   Total          365 non-null    int64  \n",
            "dtypes: float64(2), int64(4)\n",
            "memory usage: 30.0 KB\n"
          ]
        }
      ]
    },
    {
      "cell_type": "markdown",
      "metadata": {
        "id": "ssS9xwPYz-fW"
      },
      "source": [
        "<p><a name=\"agrupacion\"></a></p>\n",
        "\n",
        "## 2.7. Agrupando dataframes\n",
        "El comando `groupby` permite agrupar y generar calculos y operaciónes sobre los valores agrupados."
      ]
    },
    {
      "cell_type": "code",
      "metadata": {
        "id": "Xyw-6Pzw0H6O",
        "colab": {
          "base_uri": "https://localhost:8080/",
          "height": 705
        },
        "outputId": "d8f31e84-afb6-449f-a965-3299b9e9f3d0"
      },
      "source": [
        "df[\"month\"] = [i.month for i in df.index]\n",
        "df.head(20)"
      ],
      "execution_count": null,
      "outputs": [
        {
          "output_type": "execute_result",
          "data": {
            "text/html": [
              "<div>\n",
              "<style scoped>\n",
              "    .dataframe tbody tr th:only-of-type {\n",
              "        vertical-align: middle;\n",
              "    }\n",
              "\n",
              "    .dataframe tbody tr th {\n",
              "        vertical-align: top;\n",
              "    }\n",
              "\n",
              "    .dataframe thead th {\n",
              "        text-align: right;\n",
              "    }\n",
              "</style>\n",
              "<table border=\"1\" class=\"dataframe\">\n",
              "  <thead>\n",
              "    <tr style=\"text-align: right;\">\n",
              "      <th></th>\n",
              "      <th>Producto1</th>\n",
              "      <th>Producto2</th>\n",
              "      <th>Producto3</th>\n",
              "      <th>Producto4</th>\n",
              "      <th>Producto3sqrt</th>\n",
              "      <th>Total</th>\n",
              "      <th>month</th>\n",
              "    </tr>\n",
              "    <tr>\n",
              "      <th>Fecha</th>\n",
              "      <th></th>\n",
              "      <th></th>\n",
              "      <th></th>\n",
              "      <th></th>\n",
              "      <th></th>\n",
              "      <th></th>\n",
              "      <th></th>\n",
              "    </tr>\n",
              "  </thead>\n",
              "  <tbody>\n",
              "    <tr>\n",
              "      <th>2009-01-01</th>\n",
              "      <td>29</td>\n",
              "      <td>20</td>\n",
              "      <td>35</td>\n",
              "      <td>2576.359551</td>\n",
              "      <td>5.916080</td>\n",
              "      <td>84</td>\n",
              "      <td>1</td>\n",
              "    </tr>\n",
              "    <tr>\n",
              "      <th>2009-01-02</th>\n",
              "      <td>19</td>\n",
              "      <td>3</td>\n",
              "      <td>22</td>\n",
              "      <td>2576.359551</td>\n",
              "      <td>4.690416</td>\n",
              "      <td>44</td>\n",
              "      <td>1</td>\n",
              "    </tr>\n",
              "    <tr>\n",
              "      <th>2009-01-03</th>\n",
              "      <td>24</td>\n",
              "      <td>12</td>\n",
              "      <td>22</td>\n",
              "      <td>2576.359551</td>\n",
              "      <td>4.690416</td>\n",
              "      <td>58</td>\n",
              "      <td>1</td>\n",
              "    </tr>\n",
              "    <tr>\n",
              "      <th>2009-01-04</th>\n",
              "      <td>24</td>\n",
              "      <td>8</td>\n",
              "      <td>15</td>\n",
              "      <td>2576.359551</td>\n",
              "      <td>3.872983</td>\n",
              "      <td>47</td>\n",
              "      <td>1</td>\n",
              "    </tr>\n",
              "    <tr>\n",
              "      <th>2009-01-05</th>\n",
              "      <td>120</td>\n",
              "      <td>111</td>\n",
              "      <td>141</td>\n",
              "      <td>2576.359551</td>\n",
              "      <td>11.874342</td>\n",
              "      <td>372</td>\n",
              "      <td>1</td>\n",
              "    </tr>\n",
              "    <tr>\n",
              "      <th>2009-01-06</th>\n",
              "      <td>261</td>\n",
              "      <td>146</td>\n",
              "      <td>236</td>\n",
              "      <td>2576.359551</td>\n",
              "      <td>15.362291</td>\n",
              "      <td>643</td>\n",
              "      <td>1</td>\n",
              "    </tr>\n",
              "    <tr>\n",
              "      <th>2009-01-07</th>\n",
              "      <td>60</td>\n",
              "      <td>33</td>\n",
              "      <td>80</td>\n",
              "      <td>2576.359551</td>\n",
              "      <td>8.944272</td>\n",
              "      <td>173</td>\n",
              "      <td>1</td>\n",
              "    </tr>\n",
              "    <tr>\n",
              "      <th>2009-01-08</th>\n",
              "      <td>24</td>\n",
              "      <td>14</td>\n",
              "      <td>14</td>\n",
              "      <td>2576.359551</td>\n",
              "      <td>3.741657</td>\n",
              "      <td>52</td>\n",
              "      <td>1</td>\n",
              "    </tr>\n",
              "    <tr>\n",
              "      <th>2009-01-09</th>\n",
              "      <td>35</td>\n",
              "      <td>20</td>\n",
              "      <td>32</td>\n",
              "      <td>2576.359551</td>\n",
              "      <td>5.656854</td>\n",
              "      <td>87</td>\n",
              "      <td>1</td>\n",
              "    </tr>\n",
              "    <tr>\n",
              "      <th>2009-01-10</th>\n",
              "      <td>81</td>\n",
              "      <td>45</td>\n",
              "      <td>79</td>\n",
              "      <td>2576.359551</td>\n",
              "      <td>8.888194</td>\n",
              "      <td>205</td>\n",
              "      <td>1</td>\n",
              "    </tr>\n",
              "    <tr>\n",
              "      <th>2009-01-11</th>\n",
              "      <td>318</td>\n",
              "      <td>160</td>\n",
              "      <td>306</td>\n",
              "      <td>2576.359551</td>\n",
              "      <td>17.492856</td>\n",
              "      <td>784</td>\n",
              "      <td>1</td>\n",
              "    </tr>\n",
              "    <tr>\n",
              "      <th>2009-01-12</th>\n",
              "      <td>105</td>\n",
              "      <td>99</td>\n",
              "      <td>170</td>\n",
              "      <td>2576.359551</td>\n",
              "      <td>13.038405</td>\n",
              "      <td>374</td>\n",
              "      <td>1</td>\n",
              "    </tr>\n",
              "    <tr>\n",
              "      <th>2009-01-13</th>\n",
              "      <td>168</td>\n",
              "      <td>94</td>\n",
              "      <td>172</td>\n",
              "      <td>2576.359551</td>\n",
              "      <td>13.114877</td>\n",
              "      <td>434</td>\n",
              "      <td>1</td>\n",
              "    </tr>\n",
              "    <tr>\n",
              "      <th>2009-01-14</th>\n",
              "      <td>145</td>\n",
              "      <td>87</td>\n",
              "      <td>175</td>\n",
              "      <td>2576.359551</td>\n",
              "      <td>13.228757</td>\n",
              "      <td>407</td>\n",
              "      <td>1</td>\n",
              "    </tr>\n",
              "    <tr>\n",
              "      <th>2009-01-15</th>\n",
              "      <td>131</td>\n",
              "      <td>90</td>\n",
              "      <td>172</td>\n",
              "      <td>2576.359551</td>\n",
              "      <td>13.114877</td>\n",
              "      <td>393</td>\n",
              "      <td>1</td>\n",
              "    </tr>\n",
              "    <tr>\n",
              "      <th>2009-01-16</th>\n",
              "      <td>93</td>\n",
              "      <td>49</td>\n",
              "      <td>97</td>\n",
              "      <td>2576.359551</td>\n",
              "      <td>9.848858</td>\n",
              "      <td>239</td>\n",
              "      <td>1</td>\n",
              "    </tr>\n",
              "    <tr>\n",
              "      <th>2009-01-17</th>\n",
              "      <td>25</td>\n",
              "      <td>13</td>\n",
              "      <td>20</td>\n",
              "      <td>2576.359551</td>\n",
              "      <td>4.472136</td>\n",
              "      <td>58</td>\n",
              "      <td>1</td>\n",
              "    </tr>\n",
              "    <tr>\n",
              "      <th>2009-01-18</th>\n",
              "      <td>52</td>\n",
              "      <td>22</td>\n",
              "      <td>55</td>\n",
              "      <td>2576.359551</td>\n",
              "      <td>7.416198</td>\n",
              "      <td>129</td>\n",
              "      <td>1</td>\n",
              "    </tr>\n",
              "    <tr>\n",
              "      <th>2009-01-19</th>\n",
              "      <td>136</td>\n",
              "      <td>127</td>\n",
              "      <td>202</td>\n",
              "      <td>2576.359551</td>\n",
              "      <td>14.212670</td>\n",
              "      <td>465</td>\n",
              "      <td>1</td>\n",
              "    </tr>\n",
              "    <tr>\n",
              "      <th>2009-01-20</th>\n",
              "      <td>147</td>\n",
              "      <td>85</td>\n",
              "      <td>176</td>\n",
              "      <td>2576.359551</td>\n",
              "      <td>13.266499</td>\n",
              "      <td>408</td>\n",
              "      <td>1</td>\n",
              "    </tr>\n",
              "  </tbody>\n",
              "</table>\n",
              "</div>"
            ],
            "text/plain": [
              "            Producto1  Producto2  Producto3  ...  Producto3sqrt  Total  month\n",
              "Fecha                                        ...                             \n",
              "2009-01-01         29         20         35  ...       5.916080     84      1\n",
              "2009-01-02         19          3         22  ...       4.690416     44      1\n",
              "2009-01-03         24         12         22  ...       4.690416     58      1\n",
              "2009-01-04         24          8         15  ...       3.872983     47      1\n",
              "2009-01-05        120        111        141  ...      11.874342    372      1\n",
              "2009-01-06        261        146        236  ...      15.362291    643      1\n",
              "2009-01-07         60         33         80  ...       8.944272    173      1\n",
              "2009-01-08         24         14         14  ...       3.741657     52      1\n",
              "2009-01-09         35         20         32  ...       5.656854     87      1\n",
              "2009-01-10         81         45         79  ...       8.888194    205      1\n",
              "2009-01-11        318        160        306  ...      17.492856    784      1\n",
              "2009-01-12        105         99        170  ...      13.038405    374      1\n",
              "2009-01-13        168         94        172  ...      13.114877    434      1\n",
              "2009-01-14        145         87        175  ...      13.228757    407      1\n",
              "2009-01-15        131         90        172  ...      13.114877    393      1\n",
              "2009-01-16         93         49         97  ...       9.848858    239      1\n",
              "2009-01-17         25         13         20  ...       4.472136     58      1\n",
              "2009-01-18         52         22         55  ...       7.416198    129      1\n",
              "2009-01-19        136        127        202  ...      14.212670    465      1\n",
              "2009-01-20        147         85        176  ...      13.266499    408      1\n",
              "\n",
              "[20 rows x 7 columns]"
            ]
          },
          "metadata": {},
          "execution_count": 64
        }
      ]
    },
    {
      "cell_type": "code",
      "metadata": {
        "colab": {
          "base_uri": "https://localhost:8080/",
          "height": 236
        },
        "id": "dLzmPUO1Px14",
        "outputId": "f714316e-f465-444d-da67-55e1038a8c25"
      },
      "source": [
        "df.head()"
      ],
      "execution_count": null,
      "outputs": [
        {
          "output_type": "execute_result",
          "data": {
            "text/html": [
              "<div>\n",
              "<style scoped>\n",
              "    .dataframe tbody tr th:only-of-type {\n",
              "        vertical-align: middle;\n",
              "    }\n",
              "\n",
              "    .dataframe tbody tr th {\n",
              "        vertical-align: top;\n",
              "    }\n",
              "\n",
              "    .dataframe thead th {\n",
              "        text-align: right;\n",
              "    }\n",
              "</style>\n",
              "<table border=\"1\" class=\"dataframe\">\n",
              "  <thead>\n",
              "    <tr style=\"text-align: right;\">\n",
              "      <th></th>\n",
              "      <th>Producto1</th>\n",
              "      <th>Producto2</th>\n",
              "      <th>Producto3</th>\n",
              "      <th>Producto4</th>\n",
              "      <th>Producto3sqrt</th>\n",
              "      <th>Total</th>\n",
              "      <th>month</th>\n",
              "    </tr>\n",
              "    <tr>\n",
              "      <th>Fecha</th>\n",
              "      <th></th>\n",
              "      <th></th>\n",
              "      <th></th>\n",
              "      <th></th>\n",
              "      <th></th>\n",
              "      <th></th>\n",
              "      <th></th>\n",
              "    </tr>\n",
              "  </thead>\n",
              "  <tbody>\n",
              "    <tr>\n",
              "      <th>2009-01-01</th>\n",
              "      <td>29</td>\n",
              "      <td>20</td>\n",
              "      <td>35</td>\n",
              "      <td>2576.359551</td>\n",
              "      <td>5.916080</td>\n",
              "      <td>84</td>\n",
              "      <td>1</td>\n",
              "    </tr>\n",
              "    <tr>\n",
              "      <th>2009-01-02</th>\n",
              "      <td>19</td>\n",
              "      <td>3</td>\n",
              "      <td>22</td>\n",
              "      <td>2576.359551</td>\n",
              "      <td>4.690416</td>\n",
              "      <td>44</td>\n",
              "      <td>1</td>\n",
              "    </tr>\n",
              "    <tr>\n",
              "      <th>2009-01-03</th>\n",
              "      <td>24</td>\n",
              "      <td>12</td>\n",
              "      <td>22</td>\n",
              "      <td>2576.359551</td>\n",
              "      <td>4.690416</td>\n",
              "      <td>58</td>\n",
              "      <td>1</td>\n",
              "    </tr>\n",
              "    <tr>\n",
              "      <th>2009-01-04</th>\n",
              "      <td>24</td>\n",
              "      <td>8</td>\n",
              "      <td>15</td>\n",
              "      <td>2576.359551</td>\n",
              "      <td>3.872983</td>\n",
              "      <td>47</td>\n",
              "      <td>1</td>\n",
              "    </tr>\n",
              "    <tr>\n",
              "      <th>2009-01-05</th>\n",
              "      <td>120</td>\n",
              "      <td>111</td>\n",
              "      <td>141</td>\n",
              "      <td>2576.359551</td>\n",
              "      <td>11.874342</td>\n",
              "      <td>372</td>\n",
              "      <td>1</td>\n",
              "    </tr>\n",
              "  </tbody>\n",
              "</table>\n",
              "</div>"
            ],
            "text/plain": [
              "            Producto1  Producto2  Producto3  ...  Producto3sqrt  Total  month\n",
              "Fecha                                        ...                             \n",
              "2009-01-01         29         20         35  ...       5.916080     84      1\n",
              "2009-01-02         19          3         22  ...       4.690416     44      1\n",
              "2009-01-03         24         12         22  ...       4.690416     58      1\n",
              "2009-01-04         24          8         15  ...       3.872983     47      1\n",
              "2009-01-05        120        111        141  ...      11.874342    372      1\n",
              "\n",
              "[5 rows x 7 columns]"
            ]
          },
          "metadata": {},
          "execution_count": 65
        }
      ]
    },
    {
      "cell_type": "code",
      "metadata": {
        "id": "aRAVt8rUzpLY",
        "colab": {
          "base_uri": "https://localhost:8080/",
          "height": 455
        },
        "outputId": "def1606f-97fb-42bb-f256-6e94e478660b"
      },
      "source": [
        "df.groupby(\"month\").max()"
      ],
      "execution_count": null,
      "outputs": [
        {
          "output_type": "execute_result",
          "data": {
            "text/html": [
              "<div>\n",
              "<style scoped>\n",
              "    .dataframe tbody tr th:only-of-type {\n",
              "        vertical-align: middle;\n",
              "    }\n",
              "\n",
              "    .dataframe tbody tr th {\n",
              "        vertical-align: top;\n",
              "    }\n",
              "\n",
              "    .dataframe thead th {\n",
              "        text-align: right;\n",
              "    }\n",
              "</style>\n",
              "<table border=\"1\" class=\"dataframe\">\n",
              "  <thead>\n",
              "    <tr style=\"text-align: right;\">\n",
              "      <th></th>\n",
              "      <th>Producto1</th>\n",
              "      <th>Producto2</th>\n",
              "      <th>Producto3</th>\n",
              "      <th>Producto4</th>\n",
              "      <th>Producto3sqrt</th>\n",
              "      <th>Total</th>\n",
              "    </tr>\n",
              "    <tr>\n",
              "      <th>month</th>\n",
              "      <th></th>\n",
              "      <th></th>\n",
              "      <th></th>\n",
              "      <th></th>\n",
              "      <th></th>\n",
              "      <th></th>\n",
              "    </tr>\n",
              "  </thead>\n",
              "  <tbody>\n",
              "    <tr>\n",
              "      <th>1</th>\n",
              "      <td>318</td>\n",
              "      <td>160</td>\n",
              "      <td>306</td>\n",
              "      <td>2576.359551</td>\n",
              "      <td>17.492856</td>\n",
              "      <td>784</td>\n",
              "    </tr>\n",
              "    <tr>\n",
              "      <th>2</th>\n",
              "      <td>326</td>\n",
              "      <td>176</td>\n",
              "      <td>371</td>\n",
              "      <td>2576.359551</td>\n",
              "      <td>19.261360</td>\n",
              "      <td>873</td>\n",
              "    </tr>\n",
              "    <tr>\n",
              "      <th>3</th>\n",
              "      <td>871</td>\n",
              "      <td>484</td>\n",
              "      <td>967</td>\n",
              "      <td>2576.359551</td>\n",
              "      <td>31.096624</td>\n",
              "      <td>2322</td>\n",
              "    </tr>\n",
              "    <tr>\n",
              "      <th>4</th>\n",
              "      <td>4051</td>\n",
              "      <td>2534</td>\n",
              "      <td>3924</td>\n",
              "      <td>2576.359551</td>\n",
              "      <td>62.641839</td>\n",
              "      <td>10509</td>\n",
              "    </tr>\n",
              "    <tr>\n",
              "      <th>5</th>\n",
              "      <td>5728</td>\n",
              "      <td>3693</td>\n",
              "      <td>5397</td>\n",
              "      <td>2576.359551</td>\n",
              "      <td>73.464277</td>\n",
              "      <td>14818</td>\n",
              "    </tr>\n",
              "    <tr>\n",
              "      <th>6</th>\n",
              "      <td>6320</td>\n",
              "      <td>4120</td>\n",
              "      <td>6047</td>\n",
              "      <td>2576.359551</td>\n",
              "      <td>77.762459</td>\n",
              "      <td>15755</td>\n",
              "    </tr>\n",
              "    <tr>\n",
              "      <th>7</th>\n",
              "      <td>6626</td>\n",
              "      <td>4242</td>\n",
              "      <td>5751</td>\n",
              "      <td>7575.000000</td>\n",
              "      <td>75.835348</td>\n",
              "      <td>16604</td>\n",
              "    </tr>\n",
              "    <tr>\n",
              "      <th>8</th>\n",
              "      <td>5904</td>\n",
              "      <td>3102</td>\n",
              "      <td>5698</td>\n",
              "      <td>7194.000000</td>\n",
              "      <td>75.485098</td>\n",
              "      <td>13859</td>\n",
              "    </tr>\n",
              "    <tr>\n",
              "      <th>9</th>\n",
              "      <td>5575</td>\n",
              "      <td>2921</td>\n",
              "      <td>6587</td>\n",
              "      <td>7052.000000</td>\n",
              "      <td>81.160335</td>\n",
              "      <td>15004</td>\n",
              "    </tr>\n",
              "    <tr>\n",
              "      <th>10</th>\n",
              "      <td>3852</td>\n",
              "      <td>1478</td>\n",
              "      <td>4610</td>\n",
              "      <td>2211.000000</td>\n",
              "      <td>67.896981</td>\n",
              "      <td>8469</td>\n",
              "    </tr>\n",
              "    <tr>\n",
              "      <th>11</th>\n",
              "      <td>2540</td>\n",
              "      <td>1270</td>\n",
              "      <td>3430</td>\n",
              "      <td>1341.000000</td>\n",
              "      <td>58.566202</td>\n",
              "      <td>7226</td>\n",
              "    </tr>\n",
              "    <tr>\n",
              "      <th>12</th>\n",
              "      <td>1377</td>\n",
              "      <td>711</td>\n",
              "      <td>1867</td>\n",
              "      <td>0.000000</td>\n",
              "      <td>43.208795</td>\n",
              "      <td>3955</td>\n",
              "    </tr>\n",
              "  </tbody>\n",
              "</table>\n",
              "</div>"
            ],
            "text/plain": [
              "       Producto1  Producto2  Producto3    Producto4  Producto3sqrt  Total\n",
              "month                                                                    \n",
              "1            318        160        306  2576.359551      17.492856    784\n",
              "2            326        176        371  2576.359551      19.261360    873\n",
              "3            871        484        967  2576.359551      31.096624   2322\n",
              "4           4051       2534       3924  2576.359551      62.641839  10509\n",
              "5           5728       3693       5397  2576.359551      73.464277  14818\n",
              "6           6320       4120       6047  2576.359551      77.762459  15755\n",
              "7           6626       4242       5751  7575.000000      75.835348  16604\n",
              "8           5904       3102       5698  7194.000000      75.485098  13859\n",
              "9           5575       2921       6587  7052.000000      81.160335  15004\n",
              "10          3852       1478       4610  2211.000000      67.896981   8469\n",
              "11          2540       1270       3430  1341.000000      58.566202   7226\n",
              "12          1377        711       1867     0.000000      43.208795   3955"
            ]
          },
          "metadata": {},
          "execution_count": 66
        }
      ]
    },
    {
      "cell_type": "code",
      "metadata": {
        "id": "YzsSLl_hz9LB",
        "colab": {
          "base_uri": "https://localhost:8080/",
          "height": 300
        },
        "outputId": "54c7d63a-fd87-475f-ef74-52ac22d4284a"
      },
      "source": [
        "df.groupby(\"month\")[\"Producto1\"].sum().plot(kind='bar')\n",
        "#plt.ylabel(\"Total por mes\")\n",
        "#plt.title(\"\")\n"
      ],
      "execution_count": null,
      "outputs": [
        {
          "output_type": "execute_result",
          "data": {
            "text/plain": [
              "<matplotlib.axes._subplots.AxesSubplot at 0x7f75bad9ec50>"
            ]
          },
          "metadata": {},
          "execution_count": 127
        },
        {
          "output_type": "display_data",
          "data": {
            "image/png": "[encoded data removed]",
            "text/plain": [
              "<Figure size 432x288 with 1 Axes>"
            ]
          },
          "metadata": {
            "needs_background": "light"
          }
        }
      ]
    },
    {
      "cell_type": "code",
      "metadata": {
        "id": "UFkYHBpIEV2t",
        "colab": {
          "base_uri": "https://localhost:8080/",
          "height": 299
        },
        "outputId": "fed38f93-dbb8-408b-a74b-891d48873e14"
      },
      "source": [
        "df2 = pd.DataFrame({\"Person\": [\"John\", \"Myla\", \"Lewis\", \"John\", \"Myla\", \"Lewis\", \"John\", \"Myla\"], \"Age\": [24, 55, 21, 24, 26, 43, 64, 55]})\n",
        "df2.head(8)"
      ],
      "execution_count": null,
      "outputs": [
        {
          "output_type": "execute_result",
          "data": {
            "text/html": [
              "<div>\n",
              "<style scoped>\n",
              "    .dataframe tbody tr th:only-of-type {\n",
              "        vertical-align: middle;\n",
              "    }\n",
              "\n",
              "    .dataframe tbody tr th {\n",
              "        vertical-align: top;\n",
              "    }\n",
              "\n",
              "    .dataframe thead th {\n",
              "        text-align: right;\n",
              "    }\n",
              "</style>\n",
              "<table border=\"1\" class=\"dataframe\">\n",
              "  <thead>\n",
              "    <tr style=\"text-align: right;\">\n",
              "      <th></th>\n",
              "      <th>Person</th>\n",
              "      <th>Age</th>\n",
              "    </tr>\n",
              "  </thead>\n",
              "  <tbody>\n",
              "    <tr>\n",
              "      <th>0</th>\n",
              "      <td>John</td>\n",
              "      <td>24</td>\n",
              "    </tr>\n",
              "    <tr>\n",
              "      <th>1</th>\n",
              "      <td>Myla</td>\n",
              "      <td>55</td>\n",
              "    </tr>\n",
              "    <tr>\n",
              "      <th>2</th>\n",
              "      <td>Lewis</td>\n",
              "      <td>21</td>\n",
              "    </tr>\n",
              "    <tr>\n",
              "      <th>3</th>\n",
              "      <td>John</td>\n",
              "      <td>24</td>\n",
              "    </tr>\n",
              "    <tr>\n",
              "      <th>4</th>\n",
              "      <td>Myla</td>\n",
              "      <td>26</td>\n",
              "    </tr>\n",
              "    <tr>\n",
              "      <th>5</th>\n",
              "      <td>Lewis</td>\n",
              "      <td>43</td>\n",
              "    </tr>\n",
              "    <tr>\n",
              "      <th>6</th>\n",
              "      <td>John</td>\n",
              "      <td>64</td>\n",
              "    </tr>\n",
              "    <tr>\n",
              "      <th>7</th>\n",
              "      <td>Myla</td>\n",
              "      <td>55</td>\n",
              "    </tr>\n",
              "  </tbody>\n",
              "</table>\n",
              "</div>"
            ],
            "text/plain": [
              "  Person  Age\n",
              "0   John   24\n",
              "1   Myla   55\n",
              "2  Lewis   21\n",
              "3   John   24\n",
              "4   Myla   26\n",
              "5  Lewis   43\n",
              "6   John   64\n",
              "7   Myla   55"
            ]
          },
          "metadata": {},
          "execution_count": 76
        }
      ]
    },
    {
      "cell_type": "code",
      "metadata": {
        "id": "71xLKPMAAsM3",
        "colab": {
          "base_uri": "https://localhost:8080/"
        },
        "outputId": "32e0fe06-f8e6-44e2-cac2-e679de97c6de"
      },
      "source": [
        "# Agrupar por persona y aplicar \"min\" a \"Age\"\n",
        "#df2.groupby(\"Person\")['Age'].agg(\"min\")             \n",
        "df2.groupby(\"Person\").Age.agg('min')\n"
      ],
      "execution_count": null,
      "outputs": [
        {
          "output_type": "execute_result",
          "data": {
            "text/plain": [
              "Person\n",
              "John     24\n",
              "Lewis    21\n",
              "Myla     26\n",
              "Name: Age, dtype: int64"
            ]
          },
          "metadata": {},
          "execution_count": 77
        }
      ]
    },
    {
      "cell_type": "code",
      "metadata": {
        "id": "mlRSIjfxGEkG",
        "colab": {
          "base_uri": "https://localhost:8080/",
          "height": 268
        },
        "outputId": "a9aaa8f5-03f7-45f6-9bef-7a6d817eb028"
      },
      "source": [
        "# Agrupar por persona y edad y aplicar \"count\" a \"Age\"\n",
        "df2.groupby([\"Person\",\"Age\"]).agg({\"Person\":\"max\"})"
      ],
      "execution_count": null,
      "outputs": [
        {
          "output_type": "execute_result",
          "data": {
            "text/html": [
              "<div>\n",
              "<style scoped>\n",
              "    .dataframe tbody tr th:only-of-type {\n",
              "        vertical-align: middle;\n",
              "    }\n",
              "\n",
              "    .dataframe tbody tr th {\n",
              "        vertical-align: top;\n",
              "    }\n",
              "\n",
              "    .dataframe thead th {\n",
              "        text-align: right;\n",
              "    }\n",
              "</style>\n",
              "<table border=\"1\" class=\"dataframe\">\n",
              "  <thead>\n",
              "    <tr style=\"text-align: right;\">\n",
              "      <th></th>\n",
              "      <th></th>\n",
              "      <th>Person</th>\n",
              "    </tr>\n",
              "    <tr>\n",
              "      <th>Person</th>\n",
              "      <th>Age</th>\n",
              "      <th></th>\n",
              "    </tr>\n",
              "  </thead>\n",
              "  <tbody>\n",
              "    <tr>\n",
              "      <th rowspan=\"2\" valign=\"top\">John</th>\n",
              "      <th>24</th>\n",
              "      <td>John</td>\n",
              "    </tr>\n",
              "    <tr>\n",
              "      <th>64</th>\n",
              "      <td>John</td>\n",
              "    </tr>\n",
              "    <tr>\n",
              "      <th rowspan=\"2\" valign=\"top\">Lewis</th>\n",
              "      <th>21</th>\n",
              "      <td>Lewis</td>\n",
              "    </tr>\n",
              "    <tr>\n",
              "      <th>43</th>\n",
              "      <td>Lewis</td>\n",
              "    </tr>\n",
              "    <tr>\n",
              "      <th rowspan=\"2\" valign=\"top\">Myla</th>\n",
              "      <th>26</th>\n",
              "      <td>Myla</td>\n",
              "    </tr>\n",
              "    <tr>\n",
              "      <th>55</th>\n",
              "      <td>Myla</td>\n",
              "    </tr>\n",
              "  </tbody>\n",
              "</table>\n",
              "</div>"
            ],
            "text/plain": [
              "           Person\n",
              "Person Age       \n",
              "John   24    John\n",
              "       64    John\n",
              "Lewis  21   Lewis\n",
              "       43   Lewis\n",
              "Myla   26    Myla\n",
              "       55    Myla"
            ]
          },
          "metadata": {},
          "execution_count": 86
        }
      ]
    },
    {
      "cell_type": "code",
      "metadata": {
        "id": "98rgSQOcWudL",
        "colab": {
          "base_uri": "https://localhost:8080/"
        },
        "outputId": "84040ded-ebbd-4412-e59c-170c4bf9d739"
      },
      "source": [
        "# frecuencia de las edades\n",
        "a = df2['Age'].value_counts()\n",
        "#df2[\"Age\"].value_counts(Normlize=True)\n"
      ],
      "execution_count": null,
      "outputs": [
        {
          "output_type": "execute_result",
          "data": {
            "text/plain": [
              "55    2\n",
              "24    2\n",
              "21    1\n",
              "43    1\n",
              "26    1\n",
              "Name: Age, dtype: int64"
            ]
          },
          "metadata": {},
          "execution_count": 95
        }
      ]
    },
    {
      "cell_type": "markdown",
      "metadata": {
        "id": "Ai38-726bxxc"
      },
      "source": [
        "<p><a name=\"renormalizacion\"></a></p>\n",
        "\n",
        "## 2.8. Normalización de datos\n",
        "En algunos algoritmos de Machine Learning (ML) es importante tener los datos normalizados. Para ellos la función `scale` se encarga de normalizar los datos quedando con una media cercana a 0 y una desviación estandar de 1"
      ]
    },
    {
      "cell_type": "code",
      "metadata": {
        "id": "NHh3nEUv0NjS"
      },
      "source": [
        "from sklearn import preprocessing"
      ],
      "execution_count": null,
      "outputs": []
    },
    {
      "cell_type": "code",
      "metadata": {
        "id": "NbgMxdzfesFh"
      },
      "source": [
        "scaled=preprocessing.scale(df[['Producto4', 'Producto3sqrt']])"
      ],
      "execution_count": null,
      "outputs": []
    },
    {
      "cell_type": "code",
      "metadata": {
        "id": "nBfFWRQwRCHx"
      },
      "source": [
        "scaled"
      ],
      "execution_count": null,
      "outputs": []
    },
    {
      "cell_type": "code",
      "metadata": {
        "id": "VFbQG_5lRBo4"
      },
      "source": [
        "df['Producto4Normalizado'] = df['Producto4']/np.max(df['Producto4'])"
      ],
      "execution_count": null,
      "outputs": []
    },
    {
      "cell_type": "code",
      "metadata": {
        "colab": {
          "base_uri": "https://localhost:8080/"
        },
        "id": "jJRbNV9CR5e7",
        "outputId": "77f272df-1a38-47a0-c378-c72eba8c7de5"
      },
      "source": [
        "np.max(df['Producto4'])"
      ],
      "execution_count": null,
      "outputs": [
        {
          "output_type": "execute_result",
          "data": {
            "text/plain": [
              "7575.0"
            ]
          },
          "metadata": {},
          "execution_count": 104
        }
      ]
    },
    {
      "cell_type": "code",
      "metadata": {
        "colab": {
          "base_uri": "https://localhost:8080/",
          "height": 236
        },
        "id": "rnZh92ijRj7j",
        "outputId": "9a1f6da8-5cb8-405b-bde9-78b1deee30f7"
      },
      "source": [
        "df.head()"
      ],
      "execution_count": null,
      "outputs": [
        {
          "output_type": "execute_result",
          "data": {
            "text/html": [
              "<div>\n",
              "<style scoped>\n",
              "    .dataframe tbody tr th:only-of-type {\n",
              "        vertical-align: middle;\n",
              "    }\n",
              "\n",
              "    .dataframe tbody tr th {\n",
              "        vertical-align: top;\n",
              "    }\n",
              "\n",
              "    .dataframe thead th {\n",
              "        text-align: right;\n",
              "    }\n",
              "</style>\n",
              "<table border=\"1\" class=\"dataframe\">\n",
              "  <thead>\n",
              "    <tr style=\"text-align: right;\">\n",
              "      <th></th>\n",
              "      <th>Producto1</th>\n",
              "      <th>Producto2</th>\n",
              "      <th>Producto3</th>\n",
              "      <th>Producto4</th>\n",
              "      <th>Producto3sqrt</th>\n",
              "      <th>Total</th>\n",
              "      <th>month</th>\n",
              "      <th>Producto4Normalizado</th>\n",
              "    </tr>\n",
              "    <tr>\n",
              "      <th>Fecha</th>\n",
              "      <th></th>\n",
              "      <th></th>\n",
              "      <th></th>\n",
              "      <th></th>\n",
              "      <th></th>\n",
              "      <th></th>\n",
              "      <th></th>\n",
              "      <th></th>\n",
              "    </tr>\n",
              "  </thead>\n",
              "  <tbody>\n",
              "    <tr>\n",
              "      <th>2009-01-01</th>\n",
              "      <td>29</td>\n",
              "      <td>20</td>\n",
              "      <td>35</td>\n",
              "      <td>2576.359551</td>\n",
              "      <td>35.0</td>\n",
              "      <td>84</td>\n",
              "      <td>1</td>\n",
              "      <td>0.340113</td>\n",
              "    </tr>\n",
              "    <tr>\n",
              "      <th>2009-01-02</th>\n",
              "      <td>19</td>\n",
              "      <td>3</td>\n",
              "      <td>22</td>\n",
              "      <td>2576.359551</td>\n",
              "      <td>22.0</td>\n",
              "      <td>44</td>\n",
              "      <td>1</td>\n",
              "      <td>0.340113</td>\n",
              "    </tr>\n",
              "    <tr>\n",
              "      <th>2009-01-03</th>\n",
              "      <td>24</td>\n",
              "      <td>12</td>\n",
              "      <td>22</td>\n",
              "      <td>2576.359551</td>\n",
              "      <td>22.0</td>\n",
              "      <td>58</td>\n",
              "      <td>1</td>\n",
              "      <td>0.340113</td>\n",
              "    </tr>\n",
              "    <tr>\n",
              "      <th>2009-01-04</th>\n",
              "      <td>24</td>\n",
              "      <td>8</td>\n",
              "      <td>15</td>\n",
              "      <td>2576.359551</td>\n",
              "      <td>15.0</td>\n",
              "      <td>47</td>\n",
              "      <td>1</td>\n",
              "      <td>0.340113</td>\n",
              "    </tr>\n",
              "    <tr>\n",
              "      <th>2009-01-05</th>\n",
              "      <td>120</td>\n",
              "      <td>111</td>\n",
              "      <td>141</td>\n",
              "      <td>2576.359551</td>\n",
              "      <td>141.0</td>\n",
              "      <td>372</td>\n",
              "      <td>1</td>\n",
              "      <td>0.340113</td>\n",
              "    </tr>\n",
              "  </tbody>\n",
              "</table>\n",
              "</div>"
            ],
            "text/plain": [
              "            Producto1  Producto2  Producto3  ...  Total  month  Producto4Normalizado\n",
              "Fecha                                        ...                                    \n",
              "2009-01-01         29         20         35  ...     84      1              0.340113\n",
              "2009-01-02         19          3         22  ...     44      1              0.340113\n",
              "2009-01-03         24         12         22  ...     58      1              0.340113\n",
              "2009-01-04         24          8         15  ...     47      1              0.340113\n",
              "2009-01-05        120        111        141  ...    372      1              0.340113\n",
              "\n",
              "[5 rows x 8 columns]"
            ]
          },
          "metadata": {},
          "execution_count": 103
        }
      ]
    },
    {
      "cell_type": "code",
      "metadata": {
        "id": "bvMavsQrbw-I"
      },
      "source": [
        "preprocessing.scale?"
      ],
      "execution_count": null,
      "outputs": []
    },
    {
      "cell_type": "code",
      "metadata": {
        "id": "IPE1WrsecqgP",
        "colab": {
          "base_uri": "https://localhost:8080/"
        },
        "outputId": "91ab2e37-7204-4076-b51c-7a2fc137d634"
      },
      "source": [
        "scaled.shape"
      ],
      "execution_count": null,
      "outputs": [
        {
          "output_type": "execute_result",
          "data": {
            "text/plain": [
              "(365, 2)"
            ]
          },
          "metadata": {},
          "execution_count": 109
        }
      ]
    },
    {
      "cell_type": "code",
      "metadata": {
        "id": "3VGOA0sEcrae"
      },
      "source": [
        "scaled.mean(axis=1)"
      ],
      "execution_count": null,
      "outputs": []
    },
    {
      "cell_type": "code",
      "metadata": {
        "id": "TCYzJoeFdH9G"
      },
      "source": [
        "scaled.std(axis=1)"
      ],
      "execution_count": null,
      "outputs": []
    },
    {
      "cell_type": "markdown",
      "metadata": {
        "id": "nrfjXjHSebwk"
      },
      "source": [
        "<p><a name=\"bineado\"></a></p>\n",
        "\n",
        "## 2.9. Bineado de datos\n",
        "La función `cut` nos permite separar los datos en bloques (bins)"
      ]
    },
    {
      "cell_type": "code",
      "metadata": {
        "id": "tO7iwmdJfTTy",
        "colab": {
          "base_uri": "https://localhost:8080/"
        },
        "outputId": "e4aa364a-e812-4b3d-9ddf-008e37f90b00"
      },
      "source": [
        "df.Producto1[:10]"
      ],
      "execution_count": null,
      "outputs": [
        {
          "output_type": "execute_result",
          "data": {
            "text/plain": [
              "Fecha\n",
              "2009-01-01     29\n",
              "2009-01-02     19\n",
              "2009-01-03     24\n",
              "2009-01-04     24\n",
              "2009-01-05    120\n",
              "2009-01-06    261\n",
              "2009-01-07     60\n",
              "2009-01-08     24\n",
              "2009-01-09     35\n",
              "2009-01-10     81\n",
              "Name: Producto1, dtype: int64"
            ]
          },
          "metadata": {},
          "execution_count": 114
        }
      ]
    },
    {
      "cell_type": "markdown",
      "metadata": {
        "id": "fZcu4dM8qILP"
      },
      "source": [
        "Se puede seleccionar el número de bins deseado y el programa obtiene la distribución óptima de los mismos"
      ]
    },
    {
      "cell_type": "code",
      "metadata": {
        "id": "Y5_LO951ega1",
        "colab": {
          "base_uri": "https://localhost:8080/"
        },
        "outputId": "426369f3-8e24-4d2d-f9fc-c43e2e416ef2"
      },
      "source": [
        "pd.cut(df.Producto1[:], bins=3)"
      ],
      "execution_count": null,
      "outputs": [
        {
          "output_type": "execute_result",
          "data": {
            "text/plain": [
              "Fecha\n",
              "2009-01-01    (-6.626, 2208.667]\n",
              "2009-01-02    (-6.626, 2208.667]\n",
              "2009-01-03    (-6.626, 2208.667]\n",
              "2009-01-04    (-6.626, 2208.667]\n",
              "2009-01-05    (-6.626, 2208.667]\n",
              "                     ...        \n",
              "2009-12-27    (-6.626, 2208.667]\n",
              "2009-12-28    (-6.626, 2208.667]\n",
              "2009-12-29    (-6.626, 2208.667]\n",
              "2009-12-30    (-6.626, 2208.667]\n",
              "2009-12-31    (-6.626, 2208.667]\n",
              "Name: Producto1, Length: 365, dtype: category\n",
              "Categories (3, interval[float64]): [(-6.626, 2208.667] < (2208.667, 4417.333] < (4417.333, 6626.0]]"
            ]
          },
          "metadata": {},
          "execution_count": 115
        }
      ]
    },
    {
      "cell_type": "markdown",
      "metadata": {
        "id": "tR3M7j8fqRTG"
      },
      "source": [
        "Se puede seleccionar los intervalos de los bins deseados"
      ]
    },
    {
      "cell_type": "code",
      "metadata": {
        "id": "1OSXunBefNjG"
      },
      "source": [
        "h=pd.cut(df.Producto1[:],bins=[0,100,200,700])"
      ],
      "execution_count": null,
      "outputs": []
    },
    {
      "cell_type": "code",
      "metadata": {
        "id": "W0zrlooHQu8H",
        "colab": {
          "base_uri": "https://localhost:8080/"
        },
        "outputId": "c05f20ec-97e1-43da-acff-16ff3c124b7c"
      },
      "source": [
        "print(h)"
      ],
      "execution_count": null,
      "outputs": [
        {
          "output_type": "stream",
          "name": "stdout",
          "text": [
            "Fecha\n",
            "2009-01-01      (0, 100]\n",
            "2009-01-02      (0, 100]\n",
            "2009-01-03      (0, 100]\n",
            "2009-01-04      (0, 100]\n",
            "2009-01-05    (100, 200]\n",
            "                 ...    \n",
            "2009-12-27      (0, 100]\n",
            "2009-12-28      (0, 100]\n",
            "2009-12-29      (0, 100]\n",
            "2009-12-30      (0, 100]\n",
            "2009-12-31      (0, 100]\n",
            "Name: Producto1, Length: 365, dtype: category\n",
            "Categories (3, interval[int64]): [(0, 100] < (100, 200] < (200, 700]]\n"
          ]
        }
      ]
    },
    {
      "cell_type": "code",
      "metadata": {
        "id": "M4thqzotQMEs"
      },
      "source": [
        "pd.cut?"
      ],
      "execution_count": null,
      "outputs": []
    },
    {
      "cell_type": "markdown",
      "metadata": {
        "id": "J8E-DXXWrn3v"
      },
      "source": [
        "Se pueden poner etiquetas sobre los bins"
      ]
    },
    {
      "cell_type": "code",
      "metadata": {
        "id": "pZwv60b1rm-E"
      },
      "source": [
        "y= pd.cut(df.Producto1[:],bins=3, labels=['bajo','medio','alto'])"
      ],
      "execution_count": null,
      "outputs": []
    },
    {
      "cell_type": "code",
      "metadata": {
        "id": "YlHXFOn8VeFY"
      },
      "source": [
        "y = pd.DataFrame(y)"
      ],
      "execution_count": null,
      "outputs": []
    },
    {
      "cell_type": "code",
      "metadata": {
        "colab": {
          "base_uri": "https://localhost:8080/",
          "height": 454
        },
        "id": "W8IxJKN7Vojj",
        "outputId": "db7a326e-3a77-4518-db65-36ab3e5a8e61"
      },
      "source": [
        "y"
      ],
      "execution_count": null,
      "outputs": [
        {
          "output_type": "execute_result",
          "data": {
            "text/html": [
              "<div>\n",
              "<style scoped>\n",
              "    .dataframe tbody tr th:only-of-type {\n",
              "        vertical-align: middle;\n",
              "    }\n",
              "\n",
              "    .dataframe tbody tr th {\n",
              "        vertical-align: top;\n",
              "    }\n",
              "\n",
              "    .dataframe thead th {\n",
              "        text-align: right;\n",
              "    }\n",
              "</style>\n",
              "<table border=\"1\" class=\"dataframe\">\n",
              "  <thead>\n",
              "    <tr style=\"text-align: right;\">\n",
              "      <th></th>\n",
              "      <th>Producto1</th>\n",
              "    </tr>\n",
              "    <tr>\n",
              "      <th>Fecha</th>\n",
              "      <th></th>\n",
              "    </tr>\n",
              "  </thead>\n",
              "  <tbody>\n",
              "    <tr>\n",
              "      <th>2009-01-01</th>\n",
              "      <td>bajo</td>\n",
              "    </tr>\n",
              "    <tr>\n",
              "      <th>2009-01-02</th>\n",
              "      <td>bajo</td>\n",
              "    </tr>\n",
              "    <tr>\n",
              "      <th>2009-01-03</th>\n",
              "      <td>bajo</td>\n",
              "    </tr>\n",
              "    <tr>\n",
              "      <th>2009-01-04</th>\n",
              "      <td>bajo</td>\n",
              "    </tr>\n",
              "    <tr>\n",
              "      <th>2009-01-05</th>\n",
              "      <td>bajo</td>\n",
              "    </tr>\n",
              "    <tr>\n",
              "      <th>...</th>\n",
              "      <td>...</td>\n",
              "    </tr>\n",
              "    <tr>\n",
              "      <th>2009-12-27</th>\n",
              "      <td>bajo</td>\n",
              "    </tr>\n",
              "    <tr>\n",
              "      <th>2009-12-28</th>\n",
              "      <td>bajo</td>\n",
              "    </tr>\n",
              "    <tr>\n",
              "      <th>2009-12-29</th>\n",
              "      <td>bajo</td>\n",
              "    </tr>\n",
              "    <tr>\n",
              "      <th>2009-12-30</th>\n",
              "      <td>bajo</td>\n",
              "    </tr>\n",
              "    <tr>\n",
              "      <th>2009-12-31</th>\n",
              "      <td>bajo</td>\n",
              "    </tr>\n",
              "  </tbody>\n",
              "</table>\n",
              "<p>365 rows × 1 columns</p>\n",
              "</div>"
            ],
            "text/plain": [
              "           Producto1\n",
              "Fecha               \n",
              "2009-01-01      bajo\n",
              "2009-01-02      bajo\n",
              "2009-01-03      bajo\n",
              "2009-01-04      bajo\n",
              "2009-01-05      bajo\n",
              "...              ...\n",
              "2009-12-27      bajo\n",
              "2009-12-28      bajo\n",
              "2009-12-29      bajo\n",
              "2009-12-30      bajo\n",
              "2009-12-31      bajo\n",
              "\n",
              "[365 rows x 1 columns]"
            ]
          },
          "metadata": {},
          "execution_count": 126
        }
      ]
    },
    {
      "cell_type": "code",
      "metadata": {
        "colab": {
          "base_uri": "https://localhost:8080/",
          "height": 266
        },
        "id": "1sdIGkY4YEMn",
        "outputId": "fe6523a7-25f9-4a2c-9979-585087ccd722"
      },
      "source": [
        "y.groupby('Producto1')['Producto1'].count().plot(kind='pie')"
      ],
      "execution_count": null,
      "outputs": [
        {
          "output_type": "execute_result",
          "data": {
            "text/plain": [
              "<matplotlib.axes._subplots.AxesSubplot at 0x7f75ba1b1190>"
            ]
          },
          "metadata": {},
          "execution_count": 133
        },
        {
          "output_type": "display_data",
          "data": {
            "image/png": "[encoded data removed]",
            "text/plain": [
              "<Figure size 432x288 with 1 Axes>"
            ]
          },
          "metadata": {}
        }
      ]
    },
    {
      "cell_type": "markdown",
      "metadata": {
        "id": "fBvOlZqSsMz5"
      },
      "source": [
        "<p><a name=\"concom\"></a></p>\n",
        "\n",
        "## 2.10. Concatenación y combinación de dataframes\n",
        "\n",
        "La concatenación se realiza mediante la función `concat()` y la combinación mediante la función `merge()`"
      ]
    },
    {
      "cell_type": "code",
      "metadata": {
        "id": "kxTLE1_0sL-B"
      },
      "source": [
        "raw_data_1 = {\n",
        "        'subject_id': ['1', '2', '3', '4', '5'],\n",
        "        'first_name': ['Alex', 'Amy', 'Allen', 'Alice', 'Ayoung'], \n",
        "        'last_name': ['Anderson', 'Ackerman', 'Ali', 'Aoni', 'Atiches']}\n",
        "\n",
        "raw_data_2 = {\n",
        "        'subject_id': ['4', '5', '6', '7', '8'],\n",
        "        'first_name': ['Billy', 'Brian', 'Bran', 'Bryce', 'Betty'], \n",
        "        'last_name': ['Bonder', 'Black', 'Balwner', 'Brice', 'Btisan']}\n",
        "\n",
        "raw_data_3 = {\n",
        "        'subject_id': ['1', '2', '3', '4', '5', '7', '8', '9', '10', '11'],\n",
        "        'test_id': [51, 15, 15, 61, 16, 14, 15, 1, 61, 16]}\n",
        "\n",
        "data1 = pd.DataFrame(raw_data_1, columns = ['subject_id', 'first_name', 'last_name'])\n",
        "data2 = pd.DataFrame(raw_data_2, columns = ['subject_id', 'first_name', 'last_name'])\n",
        "data3 = pd.DataFrame(raw_data_3, columns = ['subject_id','test_id'])"
      ],
      "execution_count": null,
      "outputs": []
    },
    {
      "cell_type": "code",
      "metadata": {
        "id": "pVE5wKz3zHuT",
        "colab": {
          "base_uri": "https://localhost:8080/",
          "height": 205
        },
        "outputId": "c06c7f56-6254-43bb-f6e7-3ba69bd60f21"
      },
      "source": [
        "data1"
      ],
      "execution_count": null,
      "outputs": [
        {
          "output_type": "execute_result",
          "data": {
            "text/html": [
              "<div>\n",
              "<style scoped>\n",
              "    .dataframe tbody tr th:only-of-type {\n",
              "        vertical-align: middle;\n",
              "    }\n",
              "\n",
              "    .dataframe tbody tr th {\n",
              "        vertical-align: top;\n",
              "    }\n",
              "\n",
              "    .dataframe thead th {\n",
              "        text-align: right;\n",
              "    }\n",
              "</style>\n",
              "<table border=\"1\" class=\"dataframe\">\n",
              "  <thead>\n",
              "    <tr style=\"text-align: right;\">\n",
              "      <th></th>\n",
              "      <th>subject_id</th>\n",
              "      <th>first_name</th>\n",
              "      <th>last_name</th>\n",
              "    </tr>\n",
              "  </thead>\n",
              "  <tbody>\n",
              "    <tr>\n",
              "      <th>0</th>\n",
              "      <td>1</td>\n",
              "      <td>Alex</td>\n",
              "      <td>Anderson</td>\n",
              "    </tr>\n",
              "    <tr>\n",
              "      <th>1</th>\n",
              "      <td>2</td>\n",
              "      <td>Amy</td>\n",
              "      <td>Ackerman</td>\n",
              "    </tr>\n",
              "    <tr>\n",
              "      <th>2</th>\n",
              "      <td>3</td>\n",
              "      <td>Allen</td>\n",
              "      <td>Ali</td>\n",
              "    </tr>\n",
              "    <tr>\n",
              "      <th>3</th>\n",
              "      <td>4</td>\n",
              "      <td>Alice</td>\n",
              "      <td>Aoni</td>\n",
              "    </tr>\n",
              "    <tr>\n",
              "      <th>4</th>\n",
              "      <td>5</td>\n",
              "      <td>Ayoung</td>\n",
              "      <td>Atiches</td>\n",
              "    </tr>\n",
              "  </tbody>\n",
              "</table>\n",
              "</div>"
            ],
            "text/plain": [
              "  subject_id first_name last_name\n",
              "0          1       Alex  Anderson\n",
              "1          2        Amy  Ackerman\n",
              "2          3      Allen       Ali\n",
              "3          4      Alice      Aoni\n",
              "4          5     Ayoung   Atiches"
            ]
          },
          "metadata": {},
          "execution_count": 135
        }
      ]
    },
    {
      "cell_type": "code",
      "metadata": {
        "id": "sE-lGcN0zIjf",
        "colab": {
          "base_uri": "https://localhost:8080/",
          "height": 205
        },
        "outputId": "00d94934-7254-4aee-8092-64bde987601e"
      },
      "source": [
        "data2"
      ],
      "execution_count": null,
      "outputs": [
        {
          "output_type": "execute_result",
          "data": {
            "text/html": [
              "<div>\n",
              "<style scoped>\n",
              "    .dataframe tbody tr th:only-of-type {\n",
              "        vertical-align: middle;\n",
              "    }\n",
              "\n",
              "    .dataframe tbody tr th {\n",
              "        vertical-align: top;\n",
              "    }\n",
              "\n",
              "    .dataframe thead th {\n",
              "        text-align: right;\n",
              "    }\n",
              "</style>\n",
              "<table border=\"1\" class=\"dataframe\">\n",
              "  <thead>\n",
              "    <tr style=\"text-align: right;\">\n",
              "      <th></th>\n",
              "      <th>subject_id</th>\n",
              "      <th>first_name</th>\n",
              "      <th>last_name</th>\n",
              "    </tr>\n",
              "  </thead>\n",
              "  <tbody>\n",
              "    <tr>\n",
              "      <th>0</th>\n",
              "      <td>4</td>\n",
              "      <td>Billy</td>\n",
              "      <td>Bonder</td>\n",
              "    </tr>\n",
              "    <tr>\n",
              "      <th>1</th>\n",
              "      <td>5</td>\n",
              "      <td>Brian</td>\n",
              "      <td>Black</td>\n",
              "    </tr>\n",
              "    <tr>\n",
              "      <th>2</th>\n",
              "      <td>6</td>\n",
              "      <td>Bran</td>\n",
              "      <td>Balwner</td>\n",
              "    </tr>\n",
              "    <tr>\n",
              "      <th>3</th>\n",
              "      <td>7</td>\n",
              "      <td>Bryce</td>\n",
              "      <td>Brice</td>\n",
              "    </tr>\n",
              "    <tr>\n",
              "      <th>4</th>\n",
              "      <td>8</td>\n",
              "      <td>Betty</td>\n",
              "      <td>Btisan</td>\n",
              "    </tr>\n",
              "  </tbody>\n",
              "</table>\n",
              "</div>"
            ],
            "text/plain": [
              "  subject_id first_name last_name\n",
              "0          4      Billy    Bonder\n",
              "1          5      Brian     Black\n",
              "2          6       Bran   Balwner\n",
              "3          7      Bryce     Brice\n",
              "4          8      Betty    Btisan"
            ]
          },
          "metadata": {},
          "execution_count": 136
        }
      ]
    },
    {
      "cell_type": "code",
      "metadata": {
        "id": "9qtu39UazJkw",
        "colab": {
          "base_uri": "https://localhost:8080/",
          "height": 362
        },
        "outputId": "d493a416-1779-49b2-d934-6449961f34b8"
      },
      "source": [
        "data3"
      ],
      "execution_count": null,
      "outputs": [
        {
          "output_type": "execute_result",
          "data": {
            "text/html": [
              "<div>\n",
              "<style scoped>\n",
              "    .dataframe tbody tr th:only-of-type {\n",
              "        vertical-align: middle;\n",
              "    }\n",
              "\n",
              "    .dataframe tbody tr th {\n",
              "        vertical-align: top;\n",
              "    }\n",
              "\n",
              "    .dataframe thead th {\n",
              "        text-align: right;\n",
              "    }\n",
              "</style>\n",
              "<table border=\"1\" class=\"dataframe\">\n",
              "  <thead>\n",
              "    <tr style=\"text-align: right;\">\n",
              "      <th></th>\n",
              "      <th>subject_id</th>\n",
              "      <th>test_id</th>\n",
              "    </tr>\n",
              "  </thead>\n",
              "  <tbody>\n",
              "    <tr>\n",
              "      <th>0</th>\n",
              "      <td>1</td>\n",
              "      <td>51</td>\n",
              "    </tr>\n",
              "    <tr>\n",
              "      <th>1</th>\n",
              "      <td>2</td>\n",
              "      <td>15</td>\n",
              "    </tr>\n",
              "    <tr>\n",
              "      <th>2</th>\n",
              "      <td>3</td>\n",
              "      <td>15</td>\n",
              "    </tr>\n",
              "    <tr>\n",
              "      <th>3</th>\n",
              "      <td>4</td>\n",
              "      <td>61</td>\n",
              "    </tr>\n",
              "    <tr>\n",
              "      <th>4</th>\n",
              "      <td>5</td>\n",
              "      <td>16</td>\n",
              "    </tr>\n",
              "    <tr>\n",
              "      <th>5</th>\n",
              "      <td>7</td>\n",
              "      <td>14</td>\n",
              "    </tr>\n",
              "    <tr>\n",
              "      <th>6</th>\n",
              "      <td>8</td>\n",
              "      <td>15</td>\n",
              "    </tr>\n",
              "    <tr>\n",
              "      <th>7</th>\n",
              "      <td>9</td>\n",
              "      <td>1</td>\n",
              "    </tr>\n",
              "    <tr>\n",
              "      <th>8</th>\n",
              "      <td>10</td>\n",
              "      <td>61</td>\n",
              "    </tr>\n",
              "    <tr>\n",
              "      <th>9</th>\n",
              "      <td>11</td>\n",
              "      <td>16</td>\n",
              "    </tr>\n",
              "  </tbody>\n",
              "</table>\n",
              "</div>"
            ],
            "text/plain": [
              "  subject_id  test_id\n",
              "0          1       51\n",
              "1          2       15\n",
              "2          3       15\n",
              "3          4       61\n",
              "4          5       16\n",
              "5          7       14\n",
              "6          8       15\n",
              "7          9        1\n",
              "8         10       61\n",
              "9         11       16"
            ]
          },
          "metadata": {},
          "execution_count": 137
        }
      ]
    },
    {
      "cell_type": "code",
      "metadata": {
        "id": "-RV6NPalzKlF"
      },
      "source": [
        ""
      ],
      "execution_count": null,
      "outputs": []
    },
    {
      "cell_type": "code",
      "metadata": {
        "id": "vbHWFPRRsmNI",
        "colab": {
          "base_uri": "https://localhost:8080/",
          "height": 362
        },
        "outputId": "b67f104f-a056-4be8-e918-96585cddcf79"
      },
      "source": [
        "# Concatenar por filas\n",
        "all_data = pd.concat([data1, data2])\n",
        "all_data\n"
      ],
      "execution_count": null,
      "outputs": [
        {
          "output_type": "execute_result",
          "data": {
            "text/html": [
              "<div>\n",
              "<style scoped>\n",
              "    .dataframe tbody tr th:only-of-type {\n",
              "        vertical-align: middle;\n",
              "    }\n",
              "\n",
              "    .dataframe tbody tr th {\n",
              "        vertical-align: top;\n",
              "    }\n",
              "\n",
              "    .dataframe thead th {\n",
              "        text-align: right;\n",
              "    }\n",
              "</style>\n",
              "<table border=\"1\" class=\"dataframe\">\n",
              "  <thead>\n",
              "    <tr style=\"text-align: right;\">\n",
              "      <th></th>\n",
              "      <th>subject_id</th>\n",
              "      <th>first_name</th>\n",
              "      <th>last_name</th>\n",
              "    </tr>\n",
              "  </thead>\n",
              "  <tbody>\n",
              "    <tr>\n",
              "      <th>0</th>\n",
              "      <td>1</td>\n",
              "      <td>Alex</td>\n",
              "      <td>Anderson</td>\n",
              "    </tr>\n",
              "    <tr>\n",
              "      <th>1</th>\n",
              "      <td>2</td>\n",
              "      <td>Amy</td>\n",
              "      <td>Ackerman</td>\n",
              "    </tr>\n",
              "    <tr>\n",
              "      <th>2</th>\n",
              "      <td>3</td>\n",
              "      <td>Allen</td>\n",
              "      <td>Ali</td>\n",
              "    </tr>\n",
              "    <tr>\n",
              "      <th>3</th>\n",
              "      <td>4</td>\n",
              "      <td>Alice</td>\n",
              "      <td>Aoni</td>\n",
              "    </tr>\n",
              "    <tr>\n",
              "      <th>4</th>\n",
              "      <td>5</td>\n",
              "      <td>Ayoung</td>\n",
              "      <td>Atiches</td>\n",
              "    </tr>\n",
              "    <tr>\n",
              "      <th>0</th>\n",
              "      <td>4</td>\n",
              "      <td>Billy</td>\n",
              "      <td>Bonder</td>\n",
              "    </tr>\n",
              "    <tr>\n",
              "      <th>1</th>\n",
              "      <td>5</td>\n",
              "      <td>Brian</td>\n",
              "      <td>Black</td>\n",
              "    </tr>\n",
              "    <tr>\n",
              "      <th>2</th>\n",
              "      <td>6</td>\n",
              "      <td>Bran</td>\n",
              "      <td>Balwner</td>\n",
              "    </tr>\n",
              "    <tr>\n",
              "      <th>3</th>\n",
              "      <td>7</td>\n",
              "      <td>Bryce</td>\n",
              "      <td>Brice</td>\n",
              "    </tr>\n",
              "    <tr>\n",
              "      <th>4</th>\n",
              "      <td>8</td>\n",
              "      <td>Betty</td>\n",
              "      <td>Btisan</td>\n",
              "    </tr>\n",
              "  </tbody>\n",
              "</table>\n",
              "</div>"
            ],
            "text/plain": [
              "  subject_id first_name last_name\n",
              "0          1       Alex  Anderson\n",
              "1          2        Amy  Ackerman\n",
              "2          3      Allen       Ali\n",
              "3          4      Alice      Aoni\n",
              "4          5     Ayoung   Atiches\n",
              "0          4      Billy    Bonder\n",
              "1          5      Brian     Black\n",
              "2          6       Bran   Balwner\n",
              "3          7      Bryce     Brice\n",
              "4          8      Betty    Btisan"
            ]
          },
          "metadata": {},
          "execution_count": 141
        }
      ]
    },
    {
      "cell_type": "code",
      "metadata": {
        "id": "4koHlxR0tA4l",
        "colab": {
          "base_uri": "https://localhost:8080/",
          "height": 205
        },
        "outputId": "5c8ca207-ac8a-454f-df74-4091747bd6fd"
      },
      "source": [
        "# Concatenar por columnas\n",
        "all_data_col = pd.concat([data1, data2], axis = 1)\n",
        "all_data_col"
      ],
      "execution_count": null,
      "outputs": [
        {
          "output_type": "execute_result",
          "data": {
            "text/html": [
              "<div>\n",
              "<style scoped>\n",
              "    .dataframe tbody tr th:only-of-type {\n",
              "        vertical-align: middle;\n",
              "    }\n",
              "\n",
              "    .dataframe tbody tr th {\n",
              "        vertical-align: top;\n",
              "    }\n",
              "\n",
              "    .dataframe thead th {\n",
              "        text-align: right;\n",
              "    }\n",
              "</style>\n",
              "<table border=\"1\" class=\"dataframe\">\n",
              "  <thead>\n",
              "    <tr style=\"text-align: right;\">\n",
              "      <th></th>\n",
              "      <th>subject_id</th>\n",
              "      <th>first_name</th>\n",
              "      <th>last_name</th>\n",
              "      <th>subject_id</th>\n",
              "      <th>first_name</th>\n",
              "      <th>last_name</th>\n",
              "    </tr>\n",
              "  </thead>\n",
              "  <tbody>\n",
              "    <tr>\n",
              "      <th>0</th>\n",
              "      <td>1</td>\n",
              "      <td>Alex</td>\n",
              "      <td>Anderson</td>\n",
              "      <td>4</td>\n",
              "      <td>Billy</td>\n",
              "      <td>Bonder</td>\n",
              "    </tr>\n",
              "    <tr>\n",
              "      <th>1</th>\n",
              "      <td>2</td>\n",
              "      <td>Amy</td>\n",
              "      <td>Ackerman</td>\n",
              "      <td>5</td>\n",
              "      <td>Brian</td>\n",
              "      <td>Black</td>\n",
              "    </tr>\n",
              "    <tr>\n",
              "      <th>2</th>\n",
              "      <td>3</td>\n",
              "      <td>Allen</td>\n",
              "      <td>Ali</td>\n",
              "      <td>6</td>\n",
              "      <td>Bran</td>\n",
              "      <td>Balwner</td>\n",
              "    </tr>\n",
              "    <tr>\n",
              "      <th>3</th>\n",
              "      <td>4</td>\n",
              "      <td>Alice</td>\n",
              "      <td>Aoni</td>\n",
              "      <td>7</td>\n",
              "      <td>Bryce</td>\n",
              "      <td>Brice</td>\n",
              "    </tr>\n",
              "    <tr>\n",
              "      <th>4</th>\n",
              "      <td>5</td>\n",
              "      <td>Ayoung</td>\n",
              "      <td>Atiches</td>\n",
              "      <td>8</td>\n",
              "      <td>Betty</td>\n",
              "      <td>Btisan</td>\n",
              "    </tr>\n",
              "  </tbody>\n",
              "</table>\n",
              "</div>"
            ],
            "text/plain": [
              "  subject_id first_name last_name subject_id first_name last_name\n",
              "0          1       Alex  Anderson          4      Billy    Bonder\n",
              "1          2        Amy  Ackerman          5      Brian     Black\n",
              "2          3      Allen       Ali          6       Bran   Balwner\n",
              "3          4      Alice      Aoni          7      Bryce     Brice\n",
              "4          5     Ayoung   Atiches          8      Betty    Btisan"
            ]
          },
          "metadata": {},
          "execution_count": 139
        }
      ]
    },
    {
      "cell_type": "code",
      "metadata": {
        "id": "RGbNfQvis92d",
        "colab": {
          "base_uri": "https://localhost:8080/",
          "height": 331
        },
        "outputId": "fe9cf371-2ef6-4f5c-8222-dd89a3f1fcbb"
      },
      "source": [
        "# Combinar all_data y data3 a lo largo del valor de subject_id\n",
        "pd.merge(all_data, data3, on='subject_id')"
      ],
      "execution_count": null,
      "outputs": [
        {
          "output_type": "execute_result",
          "data": {
            "text/html": [
              "<div>\n",
              "<style scoped>\n",
              "    .dataframe tbody tr th:only-of-type {\n",
              "        vertical-align: middle;\n",
              "    }\n",
              "\n",
              "    .dataframe tbody tr th {\n",
              "        vertical-align: top;\n",
              "    }\n",
              "\n",
              "    .dataframe thead th {\n",
              "        text-align: right;\n",
              "    }\n",
              "</style>\n",
              "<table border=\"1\" class=\"dataframe\">\n",
              "  <thead>\n",
              "    <tr style=\"text-align: right;\">\n",
              "      <th></th>\n",
              "      <th>subject_id</th>\n",
              "      <th>first_name</th>\n",
              "      <th>last_name</th>\n",
              "      <th>test_id</th>\n",
              "    </tr>\n",
              "  </thead>\n",
              "  <tbody>\n",
              "    <tr>\n",
              "      <th>0</th>\n",
              "      <td>1</td>\n",
              "      <td>Alex</td>\n",
              "      <td>Anderson</td>\n",
              "      <td>51</td>\n",
              "    </tr>\n",
              "    <tr>\n",
              "      <th>1</th>\n",
              "      <td>2</td>\n",
              "      <td>Amy</td>\n",
              "      <td>Ackerman</td>\n",
              "      <td>15</td>\n",
              "    </tr>\n",
              "    <tr>\n",
              "      <th>2</th>\n",
              "      <td>3</td>\n",
              "      <td>Allen</td>\n",
              "      <td>Ali</td>\n",
              "      <td>15</td>\n",
              "    </tr>\n",
              "    <tr>\n",
              "      <th>3</th>\n",
              "      <td>4</td>\n",
              "      <td>Alice</td>\n",
              "      <td>Aoni</td>\n",
              "      <td>61</td>\n",
              "    </tr>\n",
              "    <tr>\n",
              "      <th>4</th>\n",
              "      <td>4</td>\n",
              "      <td>Billy</td>\n",
              "      <td>Bonder</td>\n",
              "      <td>61</td>\n",
              "    </tr>\n",
              "    <tr>\n",
              "      <th>5</th>\n",
              "      <td>5</td>\n",
              "      <td>Ayoung</td>\n",
              "      <td>Atiches</td>\n",
              "      <td>16</td>\n",
              "    </tr>\n",
              "    <tr>\n",
              "      <th>6</th>\n",
              "      <td>5</td>\n",
              "      <td>Brian</td>\n",
              "      <td>Black</td>\n",
              "      <td>16</td>\n",
              "    </tr>\n",
              "    <tr>\n",
              "      <th>7</th>\n",
              "      <td>7</td>\n",
              "      <td>Bryce</td>\n",
              "      <td>Brice</td>\n",
              "      <td>14</td>\n",
              "    </tr>\n",
              "    <tr>\n",
              "      <th>8</th>\n",
              "      <td>8</td>\n",
              "      <td>Betty</td>\n",
              "      <td>Btisan</td>\n",
              "      <td>15</td>\n",
              "    </tr>\n",
              "  </tbody>\n",
              "</table>\n",
              "</div>"
            ],
            "text/plain": [
              "  subject_id first_name last_name  test_id\n",
              "0          1       Alex  Anderson       51\n",
              "1          2        Amy  Ackerman       15\n",
              "2          3      Allen       Ali       15\n",
              "3          4      Alice      Aoni       61\n",
              "4          4      Billy    Bonder       61\n",
              "5          5     Ayoung   Atiches       16\n",
              "6          5      Brian     Black       16\n",
              "7          7      Bryce     Brice       14\n",
              "8          8      Betty    Btisan       15"
            ]
          },
          "metadata": {},
          "execution_count": 142
        }
      ]
    },
    {
      "cell_type": "code",
      "metadata": {
        "id": "h7UW_E-BthxT",
        "colab": {
          "base_uri": "https://localhost:8080/",
          "height": 112
        },
        "outputId": "4b4a4c72-5cf4-42f8-c6f0-cc644978af05"
      },
      "source": [
        "# Combinar solo los datos que tienen el mismo 'subject_id' en data1 y data2 (interseccion)\n",
        "pd.merge(data1, data2, on='subject_id', how='inner')"
      ],
      "execution_count": null,
      "outputs": [
        {
          "output_type": "execute_result",
          "data": {
            "text/html": [
              "<div>\n",
              "<style scoped>\n",
              "    .dataframe tbody tr th:only-of-type {\n",
              "        vertical-align: middle;\n",
              "    }\n",
              "\n",
              "    .dataframe tbody tr th {\n",
              "        vertical-align: top;\n",
              "    }\n",
              "\n",
              "    .dataframe thead th {\n",
              "        text-align: right;\n",
              "    }\n",
              "</style>\n",
              "<table border=\"1\" class=\"dataframe\">\n",
              "  <thead>\n",
              "    <tr style=\"text-align: right;\">\n",
              "      <th></th>\n",
              "      <th>subject_id</th>\n",
              "      <th>first_name_x</th>\n",
              "      <th>last_name_x</th>\n",
              "      <th>first_name_y</th>\n",
              "      <th>last_name_y</th>\n",
              "    </tr>\n",
              "  </thead>\n",
              "  <tbody>\n",
              "    <tr>\n",
              "      <th>0</th>\n",
              "      <td>4</td>\n",
              "      <td>Alice</td>\n",
              "      <td>Aoni</td>\n",
              "      <td>Billy</td>\n",
              "      <td>Bonder</td>\n",
              "    </tr>\n",
              "    <tr>\n",
              "      <th>1</th>\n",
              "      <td>5</td>\n",
              "      <td>Ayoung</td>\n",
              "      <td>Atiches</td>\n",
              "      <td>Brian</td>\n",
              "      <td>Black</td>\n",
              "    </tr>\n",
              "  </tbody>\n",
              "</table>\n",
              "</div>"
            ],
            "text/plain": [
              "  subject_id first_name_x last_name_x first_name_y last_name_y\n",
              "0          4        Alice        Aoni        Billy      Bonder\n",
              "1          5       Ayoung     Atiches        Brian       Black"
            ]
          },
          "metadata": {},
          "execution_count": 143
        }
      ]
    },
    {
      "cell_type": "code",
      "metadata": {
        "id": "BQqrG4TitxYg",
        "colab": {
          "base_uri": "https://localhost:8080/",
          "height": 299
        },
        "outputId": "a6b29769-9741-4cb7-c315-ba98dcd97e16"
      },
      "source": [
        "# Combinar solo los datos que tienen el mismo 'subject_id' en data1 y data2 (union)\n",
        "pd.merge(data1, data2, on=['subject_id',], how='outer')\n",
        "\n"
      ],
      "execution_count": null,
      "outputs": [
        {
          "output_type": "execute_result",
          "data": {
            "text/html": [
              "<div>\n",
              "<style scoped>\n",
              "    .dataframe tbody tr th:only-of-type {\n",
              "        vertical-align: middle;\n",
              "    }\n",
              "\n",
              "    .dataframe tbody tr th {\n",
              "        vertical-align: top;\n",
              "    }\n",
              "\n",
              "    .dataframe thead th {\n",
              "        text-align: right;\n",
              "    }\n",
              "</style>\n",
              "<table border=\"1\" class=\"dataframe\">\n",
              "  <thead>\n",
              "    <tr style=\"text-align: right;\">\n",
              "      <th></th>\n",
              "      <th>subject_id</th>\n",
              "      <th>first_name_x</th>\n",
              "      <th>last_name_x</th>\n",
              "      <th>first_name_y</th>\n",
              "      <th>last_name_y</th>\n",
              "    </tr>\n",
              "  </thead>\n",
              "  <tbody>\n",
              "    <tr>\n",
              "      <th>0</th>\n",
              "      <td>1</td>\n",
              "      <td>Alex</td>\n",
              "      <td>Anderson</td>\n",
              "      <td>NaN</td>\n",
              "      <td>NaN</td>\n",
              "    </tr>\n",
              "    <tr>\n",
              "      <th>1</th>\n",
              "      <td>2</td>\n",
              "      <td>Amy</td>\n",
              "      <td>Ackerman</td>\n",
              "      <td>NaN</td>\n",
              "      <td>NaN</td>\n",
              "    </tr>\n",
              "    <tr>\n",
              "      <th>2</th>\n",
              "      <td>3</td>\n",
              "      <td>Allen</td>\n",
              "      <td>Ali</td>\n",
              "      <td>NaN</td>\n",
              "      <td>NaN</td>\n",
              "    </tr>\n",
              "    <tr>\n",
              "      <th>3</th>\n",
              "      <td>4</td>\n",
              "      <td>Alice</td>\n",
              "      <td>Aoni</td>\n",
              "      <td>Billy</td>\n",
              "      <td>Bonder</td>\n",
              "    </tr>\n",
              "    <tr>\n",
              "      <th>4</th>\n",
              "      <td>5</td>\n",
              "      <td>Ayoung</td>\n",
              "      <td>Atiches</td>\n",
              "      <td>Brian</td>\n",
              "      <td>Black</td>\n",
              "    </tr>\n",
              "    <tr>\n",
              "      <th>5</th>\n",
              "      <td>6</td>\n",
              "      <td>NaN</td>\n",
              "      <td>NaN</td>\n",
              "      <td>Bran</td>\n",
              "      <td>Balwner</td>\n",
              "    </tr>\n",
              "    <tr>\n",
              "      <th>6</th>\n",
              "      <td>7</td>\n",
              "      <td>NaN</td>\n",
              "      <td>NaN</td>\n",
              "      <td>Bryce</td>\n",
              "      <td>Brice</td>\n",
              "    </tr>\n",
              "    <tr>\n",
              "      <th>7</th>\n",
              "      <td>8</td>\n",
              "      <td>NaN</td>\n",
              "      <td>NaN</td>\n",
              "      <td>Betty</td>\n",
              "      <td>Btisan</td>\n",
              "    </tr>\n",
              "  </tbody>\n",
              "</table>\n",
              "</div>"
            ],
            "text/plain": [
              "  subject_id first_name_x last_name_x first_name_y last_name_y\n",
              "0          1         Alex    Anderson          NaN         NaN\n",
              "1          2          Amy    Ackerman          NaN         NaN\n",
              "2          3        Allen         Ali          NaN         NaN\n",
              "3          4        Alice        Aoni        Billy      Bonder\n",
              "4          5       Ayoung     Atiches        Brian       Black\n",
              "5          6          NaN         NaN         Bran     Balwner\n",
              "6          7          NaN         NaN        Bryce       Brice\n",
              "7          8          NaN         NaN        Betty      Btisan"
            ]
          },
          "metadata": {},
          "execution_count": 144
        }
      ]
    },
    {
      "cell_type": "code",
      "metadata": {
        "id": "Uwc1A6SC0zbC"
      },
      "source": [
        "pd.merge?"
      ],
      "execution_count": null,
      "outputs": []
    },
    {
      "cell_type": "code",
      "metadata": {
        "id": "EIbJya3y6WbV"
      },
      "source": [
        "set()"
      ],
      "execution_count": null,
      "outputs": []
    },
    {
      "cell_type": "markdown",
      "metadata": {
        "id": "O2ehaErhoIav"
      },
      "source": [
        "<p><a name=\"tallpan\"></a></p>\n",
        "\n",
        "## 3. Taller Pandas"
      ]
    },
    {
      "cell_type": "markdown",
      "metadata": {
        "id": "yz3mwAY5mdCi"
      },
      "source": [
        "### Ejercicio 1 \n",
        "\n",
        "Cargue el dataset provisto en la dirección 'https://pynative.com/wp-content/uploads/2019/01/company_sales_data.csv'  grafique la ganancia total (total_profit) para todos los meses. La gráfica debe tener las siguientes propiedades:\n",
        "\n",
        "* El estilo de línea punteado y de color rojo \n",
        "* Mostrar la legenda (legend) en la parte inferior derecha\n",
        "* X label name = Month Number\n",
        "* Y label name = Profits in dollars\n",
        "* Título : Company sales data of last year\n",
        "* Los markers deben ser circulares y de color negro\n",
        "* El grosor de la línea debe ser 3\n",
        "\n",
        "Solución esperada:\n",
        "<p><img  height=\"260px\" src=\"https://pynative.com/wp-content/uploads/2019/01/matplotlib_and_pandas_exercise_2_plot_style_properties-768x512.png\" align=\"center\" hspace=\"10px\" vspace=\"0px\"></p>"
      ]
    },
    {
      "cell_type": "markdown",
      "metadata": {
        "id": "FmT4jjbmmqFq"
      },
      "source": [
        "Para ver la solución haga double-click <b>aquí</b>.\n",
        "<!--\n",
        "\n",
        "import pandas as pd\n",
        "import matplotlib.pyplot as plt  \n",
        "df = pd.read_csv('https://pynative.com/wp-content/uploads/2019/01/company_sales_data.csv')\n",
        "profitList = df ['total_profit'].tolist()\n",
        "monthList  = df ['month_number'].tolist()\n",
        "plt.plot(monthList, profitList, label = 'Profit data of last year', \n",
        "      color='r', marker='o', markerfacecolor='k', \n",
        "      linestyle='--', linewidth=3)\n",
        "      \n",
        "plt.xlabel('Month Number')\n",
        "plt.ylabel('Profit in dollar')\n",
        "plt.legend(loc='lower right')\n",
        "plt.title('Company Sales data of last year')\n",
        "plt.xticks(monthList)\n",
        "plt.yticks([100000, 200000, 300000, 400000, 500000])\n",
        "plt.show()\n",
        "-->"
      ]
    },
    {
      "cell_type": "code",
      "metadata": {
        "id": "Md3iI5TJuH87"
      },
      "source": [
        "import pandas as pd\n",
        "import matplotlib.pyplot as plt  \n",
        "df = pd.read_csv('https://pynative.com/wp-content/uploads/2019/01/company_sales_data.csv')\n",
        "profitList = df ['total_profit'].tolist()\n",
        "monthList  = df ['month_number'].tolist()\n",
        "plt.plot(monthList, profitList, label = 'Profit data of last year', \n",
        "      color='r', marker='o', markerfacecolor='k', \n",
        "      linestyle='--', linewidth=3)\n",
        "      \n",
        "plt.xlabel('Month Number')\n",
        "plt.ylabel('Profit in dollar')\n",
        "plt.legend(loc='lower right')\n",
        "plt.title('Company Sales data of last year')\n",
        "plt.xticks(monthList)\n",
        "plt.yticks([100000, 200000, 300000, 400000, 500000])\n",
        "plt.show()"
      ],
      "execution_count": null,
      "outputs": []
    },
    {
      "cell_type": "markdown",
      "metadata": {
        "id": "es-m65sEpb7b"
      },
      "source": [
        "### Ejercicio 2\n",
        "\n",
        "Dataset: https://raw.githubusercontent.com/justmarkham/DAT8/master/data/u.user\n",
        "\n",
        "1. Importar el dataset, asignarlo a una variable llamada *users* y usar el *user_id* como índice.\n",
        "2. ¿Cuál es el número de observaciones y columnas en el dataset? \n",
        "3. Mostrar el nombre de las columnas y el tipo de dato que contiene.\n",
        "4. Mostrar la indexación del dataset.\n",
        "5. ¿Cuántas ocupaciones diferentes hay en este conjunto de datos?\n",
        "6. ¿Cuál es la ocupación más frecuente?\n",
        "7. ¿Cuál es la edad media de los usuarios?\n",
        "8. ¿Cuál es la edad con menos ocurrencia?\n"
      ]
    },
    {
      "cell_type": "markdown",
      "metadata": {
        "id": "Wuwt_G1GpbN_"
      },
      "source": [
        "Para ver la solución haga double-click <b>aquí</b>.\n",
        "<!--\n",
        "\n",
        "1. \n",
        "\n",
        "import pandas as pd\n",
        "\n",
        "users = pd.read_csv('https://raw.githubusercontent.com/justmarkham/DAT8/master/data/u.user', delimiter='|', index_col='user_id')\n",
        "users.head()\n",
        "  \n",
        "2.\n",
        "print(\"Número de observaciones:\",users.shape[0])\n",
        "print(\"Número de columnas: \",users.shape[1])\n",
        "\n",
        "3.\n",
        "print(\"Columnas: \",users.columns)\n",
        "print(\"Tipo de datos: \\n\",users.dtypes)\n",
        "\n",
        "4.\n",
        "print(\"Indexación: \",users.index)\n",
        "\n",
        "5.\n",
        "print(\"Número de ocupaciones diferentes:\",users.occupation.nunique())\n",
        "\n",
        "6.\n",
        "print(\"Ocupaciones más frecuentes:\\n\",users.occupation.value_counts().head())\n",
        "\n",
        "7.\n",
        "print(\"Edad media de los usuarios:\",round(users.age.mean()))\n",
        "\n",
        "8.\n",
        "print(\"Edades de menos ocurrencia:\\n\",users.age.value_counts().tail(10))\n",
        "\n",
        "-->"
      ]
    },
    {
      "cell_type": "markdown",
      "metadata": {
        "id": "pCX-t7lsuSVv"
      },
      "source": [
        "### Ejercicio 3"
      ]
    },
    {
      "cell_type": "markdown",
      "metadata": {
        "id": "brSEH5NbyWwA"
      },
      "source": [
        "Diccionario dado:\n",
        "\n",
        "raw_data = {'regiment': ['Nighthawks', 'Nighthawks', 'Nighthawks', 'Nighthawks', 'Dragoons', 'Dragoons', 'Dragoons', 'Dragoons', 'Scouts', 'Scouts', 'Scouts', 'Scouts'],\n",
        "            'company': ['1st', '1st', '2nd', '2nd', '1st', '1st', '2nd', '2nd','1st', '1st', '2nd', '2nd'],\n",
        "            'deaths': [523, 52, 25, 616, 43, 234, 523, 62, 62, 73, 37, 35],\n",
        "            'battles': [5, 42, 2, 2, 4, 7, 8, 3, 4, 7, 8, 9],\n",
        "            'size': [1045, 957, 1099, 1400, 1592, 1006, 987, 849, 973, 1005, 1099, 1523],\n",
        "            'veterans': [1, 5, 62, 26, 73, 37, 949, 48, 48, 435, 63, 345],\n",
        "            'readiness': [1, 2, 3, 3, 2, 1, 2, 3, 2, 1, 2, 3],\n",
        "            'armored': [1, 0, 1, 1, 0, 1, 0, 1, 0, 0, 1, 1],\n",
        "            'deserters': [4, 24, 31, 2, 3, 4, 24, 31, 2, 3, 2, 3],\n",
        "            'origin': ['Arizona', 'California', 'Texas', 'Florida', 'Maine', 'Iowa', 'Alaska', 'Washington', 'Oregon', 'Wyoming', 'Louisana', 'Georgia']}\n",
        "            \n",
        "1. Crea un DataFrame llamado *army* a partir del diccionario dado \n",
        "\n",
        "(No olvide incluir los nombres de las columnas en el orden presentado en el diccionario ('regimen', 'company', ...) para que el orden del índice de la columna sea coherente con las soluciones. Si se omite, Pandas ordenará las columnas alfabéticamente.\n",
        "\n",
        "2. Establezca la columna 'origin' como índice del dataset.\n",
        "3. Imprima las columnas 'veterans' y 'deaths'\n",
        "4. Seleccione las columnas 'deaths', 'size' y 'deserters' de Maine a Alaska.\n",
        "5. Seleccione la tercera columna hasta la séptima columna.\n",
        "6. Seleccione las filas donde *deaths* sea mayor que 50.\n",
        "7. Seleccione las filas donde *deaths* sea mayor que 500 o menor que 50.\n",
        "8. Selecciona todos los *regiments* no nombrados *Dragoons*.\n",
        "9. Seleccione la tercera celda en la fila llamada *Arizona*\n",
        "10. Seleccione la tercera celda en la columna llamada *deaths*\n"
      ]
    },
    {
      "cell_type": "markdown",
      "metadata": {
        "id": "gTBNeJy0yQFB"
      },
      "source": [
        "Para ver la solución haga double-click <b>aquí</b>.\n",
        "<!--\n",
        "1.\n",
        "raw_data = {'regiment': ['Nighthawks', 'Nighthawks', 'Nighthawks', 'Nighthawks', 'Dragoons', 'Dragoons', 'Dragoons', 'Dragoons', 'Scouts', 'Scouts', 'Scouts', 'Scouts'], 'company': ['1st', '1st', '2nd', '2nd', '1st', '1st', '2nd', '2nd','1st', '1st', '2nd', '2nd'], 'deaths': [523, 52, 25, 616, 43, 234, 523, 62, 62, 73, 37, 35], 'battles': [5, 42, 2, 2, 4, 7, 8, 3, 4, 7, 8, 9], 'size': [1045, 957, 1099, 1400, 1592, 1006, 987, 849, 973, 1005, 1099, 1523], 'veterans': [1, 5, 62, 26, 73, 37, 949, 48, 48, 435, 63, 345], 'readiness': [1, 2, 3, 3, 2, 1, 2, 3, 2, 1, 2, 3], 'armored': [1, 0, 1, 1, 0, 1, 0, 1, 0, 0, 1, 1], 'deserters': [4, 24, 31, 2, 3, 4, 24, 31, 2, 3, 2, 3], 'origin': ['Arizona', 'California', 'Texas', 'Florida', 'Maine', 'Iowa', 'Alaska', 'Washington', 'Oregon', 'Wyoming', 'Louisana', 'Georgia']}\n",
        "\n",
        "army = pd.DataFrame(raw_data, columns = ['regiment', 'company', 'deaths', 'battles', 'size', 'veterans', 'readiness', 'armored', 'deserters', 'origin'])\n",
        "\n",
        "army.head()\n",
        "\n",
        "2.\n",
        "army = army.set_index(\"origin\")\n",
        "army.head()\n",
        "\n",
        "3. \n",
        "army[['veterans', 'deaths']]\n",
        "\n",
        "4.\n",
        "army.loc[['Maine','Alaska'] , [\"deaths\",\"size\",\"deserters\"]]\n",
        "\n",
        "5.\n",
        "army.iloc[: , 4:7]\n",
        "\n",
        "6.\n",
        "army[army['deaths'] > 50]\n",
        "\n",
        "7. \n",
        "army[(army['deaths'] > 500) | (army['deaths'] < 50)]\n",
        "\n",
        "8.\n",
        "army[(army['regiment'] != 'Dragoons')]\n",
        "\n",
        "9.\n",
        "army.loc[['Arizona'], ['deaths']]\n",
        "\n",
        "#O\n",
        "\n",
        "#army.iloc[[0]\n",
        "\n",
        "10.\n",
        "army.loc['Texas', 'deaths']\n",
        "\n",
        "#O\n",
        "\n",
        "#army.iloc[[2]\n",
        "\n",
        "\n",
        "-->"
      ]
    },
    {
      "cell_type": "markdown",
      "metadata": {
        "id": "2uqS7sNd8_Fk"
      },
      "source": [
        "### Ejercicio 4\n",
        "\n",
        "Dataset: https://raw.githubusercontent.com/justmarkham/DAT8/master/data/u.user\n",
        "\n",
        "1.  Importar el dataset, asignarlo a una variable llamada *users* y usar el *user_id* como índice.\n",
        "2. ¿Cuál es la edad media por ocupación?\n",
        "3. Descubra la proporción de hombres por ocupación y clasifíquela de mayor a menor (cree una columna).\n",
        "4. Para cada ocupación calcule las edades mínimas y máximas.\n",
        "5. Para cada combinación de ocupación y género calcule la edad media.\n",
        "6. Para cada ocupación muestre el porcentaje de mujeres y hombres."
      ]
    },
    {
      "cell_type": "markdown",
      "metadata": {
        "id": "TVbi8B-a-gZ9"
      },
      "source": [
        "Para ver la solución haga double-click <b>aquí</b>.\n",
        "<!--\n",
        "\n",
        "1. \n",
        "\n",
        "import pandas as pd\n",
        "\n",
        "users = pd.read_csv('https://raw.githubusercontent.com/justmarkham/DAT8/master/data/u.user', delimiter='|', index_col='user_id')\n",
        "users.head()\n",
        "  \n",
        "2.\n",
        "users.groupby('occupation').age.mean()\n",
        "\n",
        "3.\n",
        "# funcion que mapea el genero a un numero\n",
        "def gender_to_numeric(x):\n",
        "    if x == 'M':\n",
        "        return 1\n",
        "    if x == 'F':\n",
        "        return 0\n",
        "\n",
        "# aplica la funcion a la columna genero y saca el porcentaje de hombres por ocupacion\n",
        "users['gender_n'] = users['gender'].apply(gender_to_numeric)\n",
        "\n",
        "# se \n",
        "a = users.groupby('occupation').gender_n.sum() / users.occupation.value_counts() * 100 \n",
        "\n",
        "# ordenamiento de mayor a menor\n",
        "a.sort_values(ascending = False)\n",
        "\n",
        "4.\n",
        "users.groupby('occupation').age.agg(['min', 'max'])\n",
        "\n",
        "5.\n",
        "users.groupby(['occupation', 'gender']).age.mean()\n",
        "\n",
        "6.\n",
        "# crea un dataframe y aplica \"count\" al genero\n",
        "gender_ocup = users.groupby(['occupation', 'gender']).agg({'gender': 'count'})\n",
        "\n",
        "# crea un dataframe y aplica \"count\" para cada ocupacion\n",
        "occup_count = users.groupby(['occupation']).agg('count')\n",
        "\n",
        "# divida gender_ocup por occup_count y multiplique por 100\n",
        "occup_gender = gender_ocup.div(occup_count, level = \"occupation\") * 100\n",
        "\n",
        "# mostrar todas las filas de la columna genero\n",
        "occup_gender.loc[: , 'gender']\n",
        "\n",
        "-->"
      ]
    }
  ]
}